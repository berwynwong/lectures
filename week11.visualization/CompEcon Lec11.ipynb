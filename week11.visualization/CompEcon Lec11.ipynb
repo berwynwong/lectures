{
 "cells": [
  {
   "cell_type": "markdown",
   "metadata": {
    "slideshow": {
     "slide_type": "slide"
    }
   },
   "source": [
    "# Data visualization\n",
    "ECON 3127/4414/8014 Computational methods in economics  \n",
    "Week 11\n",
    "Fedor Iskhakov  \n",
    "<img src=\"../img/lecture.png\" width=\"64px\"/>"
   ]
  },
  {
   "cell_type": "markdown",
   "metadata": {
    "slideshow": {
     "slide_type": "slide"
    }
   },
   "source": [
    "## Plan for the lecture \n",
    "\n",
    "1. Motivational example\n",
    "2. Examples from real research projects\n",
    "3. Tools\n",
    "3. Examples\n",
    "4. Nuts and bolds\n",
    "5. More examples\n",
    "6. Inspiring closing example"
   ]
  },
  {
   "cell_type": "markdown",
   "metadata": {
    "slideshow": {
     "slide_type": "slide"
    }
   },
   "source": [
    "## Motivational example: RLS algorithm\n",
    "\n",
    "Finding all solutions (MPE) in directional dynamic game"
   ]
  },
  {
   "cell_type": "markdown",
   "metadata": {
    "slideshow": {
     "slide_type": "slide"
    }
   },
   "source": [
    "## Motivational example 2: DAG algorithm\n",
    "Directed acyclic graph (DAG) is directed graph without cycles.\n",
    "\n",
    "1. Is a given directional graph DAG or not?\n",
    "2. Define totally ordered partition of vertices."
   ]
  },
  {
   "cell_type": "markdown",
   "metadata": {
    "slideshow": {
     "slide_type": "slide"
    }
   },
   "source": [
    "### DAG algorithm\n",
    "1. Identify the terminal nodes of the DAG, form first subset\n",
    "2. Eliminate the terminal nodes to obtain next iteration graph\n",
    "3. Repeat until convergence\n",
    "---\n",
    "Possible outcomes:\n",
    "1. Empty set $\\rightarrow$ original graph was DAG \n",
    "2. Non-empty set $\\rightarrow$ ???"
   ]
  },
  {
   "cell_type": "markdown",
   "metadata": {
    "slideshow": {
     "slide_type": "slide"
    }
   },
   "source": [
    "## Why visualize?\n",
    "1. **Convey ideas to others**\n",
    "    - Ability to efficiently explain your idea/work to other busy people is crucial element of success in many fields\n",
    "\n",
    "2. **Check your own work**\n",
    "    - Creating of new knowledge using computational tools requires absolute certainty in the code\n",
    "\n",
    "3. **Aggregate large amounts of information** "
   ]
  },
  {
   "cell_type": "markdown",
   "metadata": {
    "slideshow": {
     "slide_type": "slide"
    }
   },
   "source": [
    "![img1](img/strava-heatmap-burning-man.png)"
   ]
  },
  {
   "cell_type": "markdown",
   "metadata": {
    "slideshow": {
     "slide_type": "slide"
    }
   },
   "source": [
    "![img1](img/strava-heatmap-north-and-south-korea.png)"
   ]
  },
  {
   "cell_type": "markdown",
   "metadata": {
    "slideshow": {
     "slide_type": "subslide"
    }
   },
   "source": [
    "**Strava Global Heatmap**\n",
    "- Burning Man\n",
    "- North and South Korea"
   ]
  },
  {
   "cell_type": "markdown",
   "metadata": {
    "slideshow": {
     "slide_type": "slide"
    }
   },
   "source": [
    "## Partial orders and coarsest common refinement\n",
    "\n",
    "Another example\n",
    "\n",
    "From the theory of directional dynamic games"
   ]
  },
  {
   "cell_type": "markdown",
   "metadata": {
    "slideshow": {
     "slide_type": "slide"
    }
   },
   "source": [
    "## Tools\n",
    "1. **Tikz** (Latex package) for schemes\n",
    "2. **Matplotlib** for plots\n",
    "3. **Graphana** for dashboards"
   ]
  },
  {
   "cell_type": "raw",
   "metadata": {
    "slideshow": {
     "slide_type": "slide"
    }
   },
   "source": [
    "\\documentclass{minimal}\n",
    "\n",
    "\\usepackage{tikz}\n",
    "\\usetikzlibrary{trees,snakes}\n",
    "\\begin{document}\n",
    "\\pagestyle{empty}\n",
    "\\tikzstyle{level 1}=[sibling angle=120]\n",
    "\\tikzstyle{level 2}=[sibling angle=60]\n",
    "\\tikzstyle{level 3}=[sibling angle=30]\n",
    "\\tikzstyle{every node}=[fill]\n",
    "\\tikzstyle{edge from parent}=[snake=expanding waves,segment length=1mm,\n",
    "                              segment angle=10,draw]\n",
    "\\begin{tikzpicture}[grow cyclic,shape=circle,very thick,level distance=13mm,\n",
    "                    cap=round]\n",
    "\\node {} child [color=\\A] foreach \\A in {red,green,blue}\n",
    "    { node {} child [color=\\A!50!\\B] foreach \\B in {red,green,blue}\n",
    "        { node {} child [color=\\A!50!\\B!50!\\C] foreach \\C in {black,gray,white}\n",
    "            { node {} }\n",
    "        }\n",
    "    };\n",
    "\\end{tikzpicture}\n",
    "\n",
    "\\end{document}"
   ]
  },
  {
   "cell_type": "markdown",
   "metadata": {
    "slideshow": {
     "slide_type": "slide"
    }
   },
   "source": [
    "![image.png](example_plots/title-graphics.png)"
   ]
  },
  {
   "cell_type": "markdown",
   "metadata": {
    "slideshow": {
     "slide_type": "slide"
    }
   },
   "source": [
    "## Matplotlib\n",
    "Python library that abstracts from the graphical backbone of each system and ensures _code mobility_\n",
    "\n",
    "Excellent beginner tutorial (3h or 2h at 1.5x playback speed) by the authors\n",
    "https://www.youtube.com/watch?v=6gdNUDs6QPc&t=2843s\n",
    "\n",
    "Playlist of lectures and tutorials\n",
    "https://www.youtube.com/user/EnthoughtMedia/search?query=matplotlib\n"
   ]
  },
  {
   "cell_type": "markdown",
   "metadata": {
    "slideshow": {
     "slide_type": "slide"
    }
   },
   "source": [
    "### Matplotlib thumbnail gallery\n",
    "Menu of choices with example code\n",
    "https://matplotlib.org/gallery.html"
   ]
  },
  {
   "cell_type": "code",
   "execution_count": 15,
   "metadata": {
    "slideshow": {
     "slide_type": "slide"
    }
   },
   "outputs": [
    {
     "data": {
      "text/plain": [
       "Text(0.5,1,'triplot of Delaunay triangulation')"
      ]
     },
     "execution_count": 15,
     "metadata": {},
     "output_type": "execute_result"
    },
    {
     "data": {
      "image/png": "[encoded data removed]",
      "text/plain": [
       "<Figure size 432x288 with 1 Axes>"
      ]
     },
     "metadata": {},
     "output_type": "display_data"
    }
   ],
   "source": [
    "# https://matplotlib.org/gallery/images_contours_and_fields/triplot_demo.html#sphx-glr-gallery-images-contours-and-fields-triplot-demo-py\n",
    "\n",
    "import matplotlib.pyplot as plt\n",
    "import matplotlib.tri as tri\n",
    "import numpy as np\n",
    "\n",
    "# First create the x and y coordinates of the points.\n",
    "n_angles = 36\n",
    "n_radii = 8\n",
    "min_radius = 0.25\n",
    "radii = np.linspace(min_radius, 0.95, n_radii)\n",
    "\n",
    "angles = np.linspace(0, 2 * np.pi, n_angles, endpoint=False)\n",
    "angles = np.repeat(angles[..., np.newaxis], n_radii, axis=1)\n",
    "angles[:, 1::2] += np.pi / n_angles\n",
    "\n",
    "x = (radii * np.cos(angles)).flatten()\n",
    "y = (radii * np.sin(angles)).flatten()\n",
    "\n",
    "# Create the Triangulation; no triangles so Delaunay triangulation created.\n",
    "triang = tri.Triangulation(x, y)\n",
    "\n",
    "# Mask off unwanted triangles.\n",
    "triang.set_mask(np.hypot(x[triang.triangles].mean(axis=1),\n",
    "                         y[triang.triangles].mean(axis=1))\n",
    "                < min_radius)\n",
    "\n",
    "fig1, ax1 = plt.subplots()\n",
    "ax1.set_aspect('equal')\n",
    "ax1.triplot(triang, 'bo-', lw=1)\n",
    "ax1.set_title('triplot of Delaunay triangulation')"
   ]
  },
  {
   "cell_type": "markdown",
   "metadata": {
    "slideshow": {
     "slide_type": "slide"
    }
   },
   "source": [
    "## Graphical objects\n",
    "- figure - axes - subplots\n",
    "- lines - polygons (patches)\n",
    "- fill color and edge color\n",
    "- annotations and other text"
   ]
  },
  {
   "cell_type": "markdown",
   "metadata": {
    "slideshow": {
     "slide_type": "slide"
    }
   },
   "source": [
    "## Types of plots\n",
    "- bar\n",
    "- scatter\n",
    "- line\n",
    "- area\n",
    "- pie"
   ]
  },
  {
   "cell_type": "markdown",
   "metadata": {
    "slideshow": {
     "slide_type": "slide"
    }
   },
   "source": [
    "### How to choose the plot type\n",
    "1. Number of variables to be represented\n",
    "2. Type of variables\n",
    "    - continuous\n",
    "    - categorical\n",
    "    - ordered\n",
    "3. Typical use cases"
   ]
  },
  {
   "cell_type": "markdown",
   "metadata": {
    "slideshow": {
     "slide_type": "slide"
    }
   },
   "source": [
    "## General tips\n",
    "1. **Less visual clutter!** Every dot, line, shape and label has to convey useful information\n",
    "2. **Read the the manual and change the options** Defaults are good for quick and dirty preliminary runs only\n",
    "3. **Careful with 3D** Much harder to make clear\n",
    "4. **\"Animations\"** May be useful"
   ]
  },
  {
   "cell_type": "markdown",
   "metadata": {
    "slideshow": {
     "slide_type": "slide"
    }
   },
   "source": [
    "![image.png](example_plots/analytical_vf.png)"
   ]
  },
  {
   "cell_type": "markdown",
   "metadata": {
    "slideshow": {
     "slide_type": "slide"
    }
   },
   "source": [
    "![image.png](example_plots/dcegm_value.png)"
   ]
  },
  {
   "cell_type": "markdown",
   "metadata": {
    "slideshow": {
     "slide_type": "slide"
    }
   },
   "source": [
    "![image.png](example_plots/leapfrog2.png)"
   ]
  },
  {
   "cell_type": "markdown",
   "metadata": {
    "slideshow": {
     "slide_type": "slide"
    }
   },
   "source": [
    "![image.png](example_plots/sim1_sm.png)"
   ]
  },
  {
   "cell_type": "markdown",
   "metadata": {
    "slideshow": {
     "slide_type": "slide"
    }
   },
   "source": [
    "![image.png](example_plots/eqb_n5_dettech-eps-converted-to.png)"
   ]
  },
  {
   "cell_type": "markdown",
   "metadata": {
    "slideshow": {
     "slide_type": "slide"
    }
   },
   "source": [
    "![image.png](example_plots/eqb_n5_randtech-eps-converted-to.png)"
   ]
  },
  {
   "cell_type": "markdown",
   "metadata": {
    "slideshow": {
     "slide_type": "slide"
    }
   },
   "source": [
    "![image.png](example_plots/pension_equation.png)"
   ]
  },
  {
   "cell_type": "markdown",
   "metadata": {
    "slideshow": {
     "slide_type": "slide"
    }
   },
   "source": [
    "![image.png](example_plots/age-pension-maxbenefit.hours.highschool.abs.png)"
   ]
  },
  {
   "cell_type": "markdown",
   "metadata": {
    "slideshow": {
     "slide_type": "slide"
    }
   },
   "source": [
    "![image.png](example_plots/octane95_price_composition.png)"
   ]
  },
  {
   "cell_type": "markdown",
   "metadata": {
    "slideshow": {
     "slide_type": "slide"
    }
   },
   "source": [
    "![image.png](example_plots/waves_full_data.png)"
   ]
  },
  {
   "cell_type": "markdown",
   "metadata": {
    "slideshow": {
     "slide_type": "slide"
    }
   },
   "source": [
    "### Maps\n",
    "\n",
    "Ideal for displaying geographic variation"
   ]
  },
  {
   "cell_type": "markdown",
   "metadata": {
    "slideshow": {
     "slide_type": "slide"
    }
   },
   "source": [
    "![image.png](example_plots/map.jpg)"
   ]
  },
  {
   "cell_type": "markdown",
   "metadata": {
    "slideshow": {
     "slide_type": "slide"
    }
   },
   "source": [
    "### Sankey plot\n",
    "\n",
    "https://www.google.com.au/search?q=sankey+plot&rlz=1C5CHFA_enAU709AU712&source=lnms&tbm=isch&sa=X&ved=0ahUKEwijjt_auIfeAhWbc3AKHWwYCLUQ_AUIDigB&biw=2048&bih=993"
   ]
  },
  {
   "cell_type": "markdown",
   "metadata": {
    "slideshow": {
     "slide_type": "slide"
    }
   },
   "source": [
    "![image.png](example_plots/trpr2_diversification.png)"
   ]
  },
  {
   "cell_type": "markdown",
   "metadata": {
    "slideshow": {
     "slide_type": "slide"
    }
   },
   "source": [
    "### Circos plot\n",
    "https://www.google.com.au/search?q=circos+plot&rlz=1C5CHFA_enAU709AU712&source=lnms&tbm=isch&sa=X&ved=0ahUKEwiiopTluIfeAhUDzmEKHZ7BCEwQ_AUIDigB&biw=2048&bih=993"
   ]
  },
  {
   "cell_type": "markdown",
   "metadata": {
    "slideshow": {
     "slide_type": "slide"
    }
   },
   "source": [
    "## Combination of plot types\n",
    "- fitted lines\n",
    "- multiple variables on the same axes"
   ]
  },
  {
   "cell_type": "markdown",
   "metadata": {
    "slideshow": {
     "slide_type": "slide"
    }
   },
   "source": [
    "![img1](example_plots/Fig1b.png)\n"
   ]
  },
  {
   "cell_type": "markdown",
   "metadata": {
    "slideshow": {
     "slide_type": "slide"
    }
   },
   "source": [
    "![img1](example_plots/cpu_vs_N.png)\n"
   ]
  },
  {
   "cell_type": "markdown",
   "metadata": {
    "slideshow": {
     "slide_type": "slide"
    }
   },
   "source": [
    "![image.png](example_plots/tax_equation_estim.png)"
   ]
  },
  {
   "cell_type": "markdown",
   "metadata": {
    "slideshow": {
     "slide_type": "slide"
    }
   },
   "source": [
    "![image.png](example_plots/plot1_inc1_wage__if insample less10.png)"
   ]
  },
  {
   "cell_type": "markdown",
   "metadata": {
    "slideshow": {
     "slide_type": "slide"
    }
   },
   "source": [
    "![image.png](example_plots/plot1_super__if insample & !retired less15.png)"
   ]
  },
  {
   "cell_type": "markdown",
   "metadata": {
    "slideshow": {
     "slide_type": "slide"
    }
   },
   "source": [
    "## Statistical plots\n",
    "- histogram\n",
    "- kernel density plot\n",
    "- empirical CDF\n",
    "- box and whisker"
   ]
  },
  {
   "cell_type": "markdown",
   "metadata": {
    "slideshow": {
     "slide_type": "slide"
    }
   },
   "source": [
    "![image.png](example_plots/distribution_earnings.png)"
   ]
  },
  {
   "cell_type": "markdown",
   "metadata": {
    "slideshow": {
     "slide_type": "slide"
    }
   },
   "source": [
    "![image.png](example_plots/mc_estimates.png)"
   ]
  },
  {
   "cell_type": "markdown",
   "metadata": {
    "slideshow": {
     "slide_type": "slide"
    }
   },
   "source": [
    "![image.png](example_plots/CDF_2.png)"
   ]
  },
  {
   "cell_type": "markdown",
   "metadata": {
    "slideshow": {
     "slide_type": "slide"
    }
   },
   "source": [
    "![image.png](example_plots/ownership_length_by_car_age.png)"
   ]
  },
  {
   "cell_type": "markdown",
   "metadata": {
    "slideshow": {
     "slide_type": "slide"
    }
   },
   "source": [
    "## Dashboards\n",
    "Ideal for aggregation of large amounts of information\n",
    "- Pack as much as possible into each plot\n",
    "- Make many plots\n",
    "---\n",
    "1. Calibration/estimation an moment matching\n",
    "2. Monitoring computing resources"
   ]
  },
  {
   "cell_type": "markdown",
   "metadata": {
    "slideshow": {
     "slide_type": "slide"
    }
   },
   "source": [
    "Aupens dashboards\n",
    "fig_moments_lastrun.png\n",
    "\n",
    "Graphana dashboards"
   ]
  },
  {
   "cell_type": "markdown",
   "metadata": {
    "slideshow": {
     "slide_type": "slide"
    }
   },
   "source": [
    "![image.png](example_plots/fig_moments_lastrun.png)"
   ]
  },
  {
   "cell_type": "markdown",
   "metadata": {
    "slideshow": {
     "slide_type": "slide"
    }
   },
   "source": [
    "![image.png](example_plots/fig_moments2.png)"
   ]
  },
  {
   "cell_type": "markdown",
   "metadata": {
    "slideshow": {
     "slide_type": "slide"
    }
   },
   "source": [
    "![image.png](example_plots/momentplot_5a20a_1.png)"
   ]
  },
  {
   "cell_type": "markdown",
   "metadata": {
    "slideshow": {
     "slide_type": "slide"
    }
   },
   "source": [
    "## Debugging\n",
    "Using visual representation to verify the code"
   ]
  },
  {
   "cell_type": "markdown",
   "metadata": {
    "slideshow": {
     "slide_type": "slide"
    }
   },
   "source": [
    "![image.png](example_plots/ConsT3NumQuad_sigma0IncVar0.01.png)"
   ]
  },
  {
   "cell_type": "markdown",
   "metadata": {
    "slideshow": {
     "slide_type": "slide"
    }
   },
   "source": [
    "![image.png](example_plots/graphConsT_5DiffSigma.png)"
   ]
  },
  {
   "cell_type": "markdown",
   "metadata": {
    "slideshow": {
     "slide_type": "slide"
    }
   },
   "source": [
    "![image.png](example_plots/5stage_eqb.png)"
   ]
  },
  {
   "cell_type": "markdown",
   "metadata": {
    "slideshow": {
     "slide_type": "slide"
    }
   },
   "source": [
    "## Simulation plots of internal patterns"
   ]
  },
  {
   "cell_type": "markdown",
   "metadata": {
    "slideshow": {
     "slide_type": "slide"
    }
   },
   "source": [
    "![image.png](example_plots/eqb2bw_pureA.png)"
   ]
  },
  {
   "cell_type": "markdown",
   "metadata": {
    "slideshow": {
     "slide_type": "slide"
    }
   },
   "source": [
    "![image.png](example_plots/eqb2bw_symm.png)"
   ]
  },
  {
   "cell_type": "markdown",
   "metadata": {
    "slideshow": {
     "slide_type": "slide"
    }
   },
   "source": [
    "![image.png](example_plots/phelps2.png)"
   ]
  },
  {
   "cell_type": "markdown",
   "metadata": {
    "slideshow": {
     "slide_type": "slide"
    }
   },
   "source": [
    "![image.png](example_plots/phelps3.png)"
   ]
  },
  {
   "cell_type": "markdown",
   "metadata": {
    "slideshow": {
     "slide_type": "slide"
    }
   },
   "source": [
    "![image.png](example_plots/phelps4.png)"
   ]
  },
  {
   "cell_type": "markdown",
   "metadata": {
    "slideshow": {
     "slide_type": "slide"
    }
   },
   "source": [
    "![image.png](example_plots/eqb_map.png)"
   ]
  },
  {
   "cell_type": "markdown",
   "metadata": {
    "slideshow": {
     "slide_type": "slide"
    }
   },
   "source": [
    "## Hans Rosling\n",
    "\n",
    "Swedish physician, academic, statistician, and public speaker\n",
    "\n",
    "1948-2017\n",
    "\n",
    "https://youtu.be/hVimVzgtD6w?t=159"
   ]
  },
  {
   "cell_type": "markdown",
   "metadata": {
    "slideshow": {
     "slide_type": "slide"
    }
   },
   "source": [
    "## Further learning resources\n",
    "* Visualization of sorting algorithms https://www.youtube.com/watch?v=kPRA0W1kECg\n",
    "* Linear algebra visualized https://www.youtube.com/watch?v=fNk_zzaMoSs&list=PLZHQObOWTQDPD3MizzM2xVFitgF8hE_ab\n",
    "* TikZ https://www.bu.edu/math/files/2013/08/tikzpgfmanual.pdf"
   ]
  }
 ],
 "metadata": {
  "celltoolbar": "Slideshow",
  "kernelspec": {
   "display_name": "Python 3",
   "language": "python",
   "name": "python3"
  },
  "language_info": {
   "codemirror_mode": {
    "name": "ipython",
    "version": 3
   },
   "file_extension": ".py",
   "mimetype": "text/x-python",
   "name": "python",
   "nbconvert_exporter": "python",
   "pygments_lexer": "ipython3",
   "version": "3.6.5"
  }
 },
 "nbformat": 4,
 "nbformat_minor": 2
}
