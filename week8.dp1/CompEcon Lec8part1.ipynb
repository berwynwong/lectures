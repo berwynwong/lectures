{
 "cells": [
  {
   "cell_type": "markdown",
   "metadata": {
    "slideshow": {
     "slide_type": "slide"
    }
   },
   "source": [
    "# Dynamic programming I: sequential discrete choice\n",
    "ECON 3127/4414/8014 Computational methods in economics  \n",
    "Week 8  \n",
    "Fedor Iskhakov  \n",
    "<img src=\"../img/lecture.png\" width=\"64px\"/>\n",
    "\n",
    "&#128214; Adda and Russell Cooper \"Dynamic Economics. Quantitative Methods and Applications.\"\n",
    "    *Chapters: 2, 3.3*"
   ]
  },
  {
   "cell_type": "markdown",
   "metadata": {
    "slideshow": {
     "slide_type": "slide"
    }
   },
   "source": [
    "## Plan for the lecture\n",
    "1. Shortest path problems\n",
    "2. Contraction mappings and fixed point theory\n",
    "3. Discrete choice labor search"
   ]
  },
  {
   "cell_type": "markdown",
   "metadata": {
    "slideshow": {
     "slide_type": "slide"
    }
   },
   "source": [
    "## What is Dynamic Programming\n",
    "**\"DP is recursive method for solving sequential decision problems\"**  \n",
    "&#128214; Rust 2006, _New Palgrave Dictionary of Economics_\n",
    "\n",
    "In computer science the meaning of the term is broader:   \n",
    "**DP is a general algorithm design technique for solving problems with overlapping sub-problems.**"
   ]
  },
  {
   "cell_type": "markdown",
   "metadata": {
    "slideshow": {
     "slide_type": "slide"
    }
   },
   "source": [
    "### Bellman's Principle of Optimality\n",
    "\"An optimal policy has a property that whatever the initial state and initial decision are, the remaining decisions must constitute an optimal policy with regard to the state resulting from the first decision.\"  \n",
    "&#128214; Bellman, 1957 \"Dynamic Programming\"\n",
    "\n",
    "- So, the sequential decision problem is broken into _initial decision_ problem and the _future decisions_ problem\n",
    "\n",
    "- The solution can be computed through **backward induction**, i.e. solving a sequential decision problem from the later periods\n",
    "\n",
    "- Embodiment of the recursive way of modeling sequential decisions is **Bellman equation**\n",
    "\n",
    "- DP is powerful due to its flexibility and breadth: it provides a framework to study decision making over time, under uncertainty, and can accommodate learning, strategic interactions between agents (game theory) and market interactions (equilibrium theory)."
   ]
  },
  {
   "cell_type": "markdown",
   "metadata": {
    "slideshow": {
     "slide_type": "slide"
    }
   },
   "source": [
    "### Origin of the term Dynamic Programming\n",
    "&#128214; Bellman's autobiography \"The Eye of the Hurricane\"\n",
    "- The 1950’s were not good years for mathematical research. We had a very interesting gentleman in Washington named Wilson. He was Secretary of Defence, and he actually had a pathological fear and hatred of the word \"research\".\n",
    "- I’m not using the term lightly; I’m using it precisely. His face would suffuse, he would turn red, and he would get violent if people used the term, research, in his presence. You can imagine how he felt, then, about the term, mathematical.\n",
    "- Hence, I felt I had to do something to shield Wilson and the Air Force from the fact that I was really doing mathematics inside the RAND Corporation. What title, what name, could I choose?\n",
    "- In the first place, I was interested in planning, in decision-making, in thinking. But planning, is not a good word for various reasons. I decided therefore to use the word, \"programming\".\n",
    "- I wanted to get across the idea that this was dynamic, this was multistage, this was time-varying.\n",
    "- I thought, let’s kill two birds with one stone. Let’s take a word which has an absolutely precise meaning, namely dynamic, in the classical physical sense. It also has a very interesting property as an adjective, and that is it’s impossible to use the word, dynamic, in the pejorative sense.\n",
    "- Thus, I thought dynamic programming was a good name. It was something not even a Congressman could object to. So I used it as an umbrella for my activities."
   ]
  },
  {
   "cell_type": "markdown",
   "metadata": {
    "slideshow": {
     "slide_type": "slide"
    }
   },
   "source": [
    "## Dynamic programming in economics\n",
    "\n",
    "Many important problems and economic models are analyzed and solved using dynamic programming:\n",
    "- Dynamic models of labor supply\n",
    "- Job search\n",
    "- Human capital accumulation\n",
    "- Health process, insurance and long term care\n",
    "- Consumption/savings choices\n",
    "- Durable consumption\n",
    "- Growth models\n",
    "- Heterogeneous agents models\n",
    "- Overlapping generation models"
   ]
  },
  {
   "cell_type": "markdown",
   "metadata": {
    "slideshow": {
     "slide_type": "slide"
    }
   },
   "source": [
    "## Shortest path problems\n",
    "\n",
    "Classic problem with applications in\n",
    "- economics\n",
    "- operation research and transportation\n",
    "- robotics\n",
    "- telecommunication\n",
    "---\n",
    "- Directed graph to represent the network\n",
    "- Each edge has a _cost_\n",
    "- Find a path from given start to finish with minimum cost"
   ]
  },
  {
   "cell_type": "markdown",
   "metadata": {
    "slideshow": {
     "slide_type": "slide"
    }
   },
   "source": [
    "### Shortest path on a DAG\n",
    "\n",
    "DAG = directed acyclic graph $\\{V,E\\}$ consists of _vertexes_ $v_i \\in V$  and _edges_ $\\{v_i,v_j\\} \\in E$ such that there is no \n",
    "\n",
    "$$\n",
    "\\{v_1,v_2\\},\\{v_2,v_3\\},\\dots,\\{v_k,v_1\\} \\in E.\n",
    "$$\n",
    "\n",
    "![graph1](img/graph/graph.png)"
   ]
  },
  {
   "cell_type": "markdown",
   "metadata": {
    "slideshow": {
     "slide_type": "slide"
    }
   },
   "source": [
    "### What is the cheapest way to get form A to G?\n",
    "<img src=\"img/graph/graph.png\" width=\"600px\"/>"
   ]
  },
  {
   "cell_type": "markdown",
   "metadata": {
    "slideshow": {
     "slide_type": "subslide"
    }
   },
   "source": [
    "### Solution\n",
    "![graph1](img/graph/graph3.png)\n",
    "![graph1](img/graph/graph4.png)"
   ]
  },
  {
   "cell_type": "markdown",
   "metadata": {
    "slideshow": {
     "slide_type": "slide"
    }
   },
   "source": [
    "### Solution by backward induction: Dijkstra algorithm\n",
    "\n",
    "1. Mark all nodes unvisited\n",
    "2. Assign to every node a tentative distance value: zero for initial node, else plus infinity\n",
    "3. For the current node, consider all of its unvisited neighbors and calculate their tentative distances through the current node using _minimum_ formula\n",
    "4. When we are done considering all of the unvisited neighbors of the current node, mark the current node as visited\n",
    "5. If the destination node has been marked visited, we are done\n",
    "6. Otherwise, select the unvisited node that is _marked with the smallest tentative distance_, goto 3 with this node as current node"
   ]
  },
  {
   "cell_type": "markdown",
   "metadata": {
    "slideshow": {
     "slide_type": "slide"
    }
   },
   "source": [
    "### Recursive formulation of the problem\n",
    "We have directed graph $\\{V,E\\}$ and cost function $c: E  \\rightarrow \\mathbb{R}$.\n",
    "\n",
    "Let $J(v)$ be the shortes path from vertex v. Then for all neighbors of $v$ denoted $v'$, i.e. $\\{v,v'\\}\\in E$, we have\n",
    "\n",
    "$$\n",
    "J(v) = \\min_{v': \\{v,v'\\}\\in E} \\big( c(v,v') + J(v') \\big)\n",
    "$$\n",
    "\n",
    "This is Bellman equation for teh problem. "
   ]
  },
  {
   "cell_type": "markdown",
   "metadata": {
    "slideshow": {
     "slide_type": "slide"
    }
   },
   "source": [
    "### Solving for $J(v)$ (using Bellman–Ford algorithm)\n",
    "\n",
    "1. Set $n=0$, $J_0(v)=0$\n",
    "2. Increment $n$, compute $J_n(v)=\\min_{v': \\{v,v'\\}\\in E} \\big( c(v,v') + J(v') \\big)$ for all $v$\n",
    "3. If $J_n$ is identical to $J_{n-1}$ terminate, otherwise go back to 2.\n",
    "---\n",
    "Will this algorithm terminate?"
   ]
  },
  {
   "cell_type": "code",
   "execution_count": 143,
   "metadata": {
    "slideshow": {
     "slide_type": "slide"
    }
   },
   "outputs": [
    {
     "name": "stdout",
     "output_type": "stream",
     "text": [
      "Overwriting graph.txt\n"
     ]
    }
   ],
   "source": [
    "%%file graph.txt\n",
    "node0, node2 5, node3 3, node1 1\n",
    "node1, node3 9, node4 6\n",
    "node2, node5 2\n",
    "node3, node6 8\n",
    "node4, node6 4\n",
    "node5, node6 1\n",
    "node6,"
   ]
  },
  {
   "cell_type": "code",
   "execution_count": 144,
   "metadata": {
    "slideshow": {
     "slide_type": "slide"
    }
   },
   "outputs": [
    {
     "name": "stdout",
     "output_type": "stream",
     "text": [
      "Overwriting graph.txt\n"
     ]
    }
   ],
   "source": [
    "%%file graph.txt\n",
    "node0, node1 2, node2 5\n",
    "node1, node0 2, node2 1, node3 4\n",
    "node2, node0 5, node1 1, node3 2\n",
    "node3, node1 4, node2 2"
   ]
  },
  {
   "cell_type": "code",
   "execution_count": 145,
   "metadata": {
    "slideshow": {
     "slide_type": "slide"
    }
   },
   "outputs": [
    {
     "name": "stdout",
     "output_type": "stream",
     "text": [
      "Overwriting graph.txt\n"
     ]
    }
   ],
   "source": [
    "%%file graph.txt\n",
    "node0, node1 0.04, node8 11.11, node14 72.21\n",
    "node1, node46 1247.25, node6 20.59, node13 64.94\n",
    "node2, node66 54.18, node31 166.80, node45 1561.45\n",
    "node3, node20 133.65, node6 2.06, node11 42.43\n",
    "node4, node75 3706.67, node5 0.73, node7 1.02\n",
    "node5, node45 1382.97, node7 3.33, node11 34.54\n",
    "node6, node31 63.17, node9 0.72, node10 13.10\n",
    "node7, node50 478.14, node9 3.15, node10 5.85\n",
    "node8, node69 577.91, node11 7.45, node12 3.18\n",
    "node9, node70 2454.28, node13 4.42, node20 16.53\n",
    "node10, node89 5352.79, node12 1.87, node16 25.16\n",
    "node11, node94 4961.32, node18 37.55, node20 65.08\n",
    "node12, node84 3914.62, node24 34.32, node28 170.04\n",
    "node13, node60 2135.95, node38 236.33, node40 475.33\n",
    "node14, node67 1878.96, node16 2.70, node24 38.65\n",
    "node15, node91 3597.11, node17 1.01, node18 2.57\n",
    "node16, node36 392.92, node19 3.49, node38 278.71\n",
    "node17, node76 783.29, node22 24.78, node23 26.45\n",
    "node18, node91 3363.17, node23 16.23, node28 55.84\n",
    "node19, node26 20.09, node20 0.24, node28 70.54\n",
    "node20, node98 3523.33, node24 9.81, node33 145.80\n",
    "node21, node56 626.04, node28 36.65, node31 27.06\n",
    "node22, node72 1447.22, node39 136.32, node40 124.22\n",
    "node23, node52 336.73, node26 2.66, node33 22.37\n",
    "node24, node66 875.19, node26 1.80, node28 14.25\n",
    "node25, node70 1343.63, node32 36.58, node35 45.55\n",
    "node26, node47 135.78, node27 0.01, node42 122.00\n",
    "node27, node65 480.55, node35 48.10, node43 246.24\n",
    "node28, node82 2538.18, node34 21.79, node36 15.52\n",
    "node29, node64 635.52, node32 4.22, node33 12.61\n",
    "node30, node98 2616.03, node33 5.61, node35 13.95\n",
    "node31, node98 3350.98, node36 20.44, node44 125.88\n",
    "node32, node97 2613.92, node34 3.33, node35 1.46\n",
    "node33, node81 1854.73, node41 3.23, node47 111.54\n",
    "node34, node73 1075.38, node42 51.52, node48 129.45\n",
    "node35, node52 17.57, node41 2.09, node50 78.81\n",
    "node36, node71 1171.60, node54 101.08, node57 260.46\n",
    "node37, node75 269.97, node38 0.36, node46 80.49\n",
    "node38, node93 2767.85, node40 1.79, node42 8.78\n",
    "node39, node50 39.88, node40 0.95, node41 1.34\n",
    "node40, node75 548.68, node47 28.57, node54 53.46\n",
    "node41, node53 18.23, node46 0.28, node54 162.24\n",
    "node42, node59 141.86, node47 10.08, node72 437.49\n",
    "node43, node98 2984.83, node54 95.06, node60 116.23\n",
    "node44, node91 807.39, node46 1.56, node47 2.14\n",
    "node45, node58 79.93, node47 3.68, node49 15.51\n",
    "node46, node52 22.68, node57 27.50, node67 65.48\n",
    "node47, node50 2.82, node56 49.31, node61 172.64\n",
    "node48, node99 2564.12, node59 34.52, node60 66.44\n",
    "node49, node78 53.79, node50 0.51, node56 10.89\n",
    "node50, node85 251.76, node53 1.38, node55 20.10\n",
    "node51, node98 2110.67, node59 23.67, node60 73.79\n",
    "node52, node94 1471.80, node64 102.41, node66 123.03\n",
    "node53, node72 22.85, node56 4.33, node67 88.35\n",
    "node54, node88 967.59, node59 24.30, node73 238.61\n",
    "node55, node84 86.09, node57 2.13, node64 60.80\n",
    "node56, node76 197.03, node57 0.02, node61 11.06\n",
    "node57, node86 701.09, node58 0.46, node60 7.01\n",
    "node58, node83 556.70, node64 29.85, node65 34.32\n",
    "node59, node90 820.66, node60 0.72, node71 0.67\n",
    "node60, node76 48.03, node65 4.76, node67 1.63\n",
    "node61, node98 1057.59, node63 0.95, node64 4.88\n",
    "node62, node91 132.23, node64 2.94, node76 38.43\n",
    "node63, node66 4.43, node72 70.08, node75 56.34\n",
    "node64, node80 47.73, node65 0.30, node76 11.98\n",
    "node65, node94 594.93, node66 0.64, node73 33.23\n",
    "node66, node98 395.63, node68 2.66, node73 37.53\n",
    "node67, node82 153.53, node68 0.09, node70 0.98\n",
    "node68, node94 232.10, node70 3.35, node71 1.66\n",
    "node69, node99 247.80, node70 0.06, node73 8.99\n",
    "node70, node76 27.18, node72 1.50, node73 8.37\n",
    "node71, node89 104.50, node74 8.86, node91 284.64\n",
    "node72, node76 15.32, node84 102.77, node92 133.06\n",
    "node73, node83 52.22, node76 1.40, node90 243.00\n",
    "node74, node81 1.07, node76 0.52, node78 8.08\n",
    "node75, node92 68.53, node76 0.81, node77 1.19\n",
    "node76, node85 13.18, node77 0.45, node78 2.36\n",
    "node77, node80 8.94, node78 0.98, node86 64.32\n",
    "node78, node98 355.90, node81 2.59\n",
    "node79, node81 0.09, node85 1.45, node91 22.35\n",
    "node80, node92 121.87, node88 28.78, node98 264.34\n",
    "node81, node94 99.78, node89 39.52, node92 99.89\n",
    "node82, node91 47.44, node88 28.05, node93 11.99\n",
    "node83, node94 114.95, node86 8.75, node88 5.78\n",
    "node84, node89 19.14, node94 30.41, node98 121.05\n",
    "node85, node97 94.51, node87 2.66, node89 4.90\n",
    "node86, node97 85.09\n",
    "node87, node88 0.21, node91 11.14, node92 21.23\n",
    "node88, node93 1.31, node91 6.83, node98 6.12\n",
    "node89, node97 36.97, node99 82.12\n",
    "node90, node96 23.53, node94 10.47, node99 50.99\n",
    "node91, node97 22.17\n",
    "node92, node96 10.83, node97 11.24, node99 34.68\n",
    "node93, node94 0.19, node97 6.71, node99 32.77\n",
    "node94, node98 5.91, node96 2.03\n",
    "node95, node98 6.17, node99 0.27\n",
    "node96, node98 3.32, node97 0.43, node99 5.87\n",
    "node97, node98 0.30\n",
    "node98, node99 0.33\n",
    "node99,"
   ]
  },
  {
   "cell_type": "code",
   "execution_count": 146,
   "metadata": {
    "slideshow": {
     "slide_type": "skip"
    }
   },
   "outputs": [
    {
     "name": "stdout",
     "output_type": "stream",
     "text": [
      "node0\n",
      "node8\n",
      "node11\n",
      "node18\n",
      "node23\n",
      "node33\n",
      "node41\n",
      "node53\n",
      "node56\n",
      "node57\n",
      "node60\n",
      "node67\n",
      "node70\n",
      "node73\n",
      "node76\n",
      "node85\n",
      "node87\n",
      "node88\n",
      "node93\n",
      "node94\n",
      "node96\n",
      "node97\n",
      "node98\n",
      "node99\n",
      "\n",
      "Cost:  160.55000000000007\n"
     ]
    }
   ],
   "source": [
    "# QE code based on dictionary\n",
    "def read_graph(in_file):\n",
    "    \"\"\" Read in the graph from the data file.  The graph is stored\n",
    "    as a dictionary, where the keys are the nodes, and the values\n",
    "    are a list of pairs (d, c), where d is a node and c is a number.\n",
    "    If (d, c) is in the list for node n, then d can be reached from\n",
    "    n at cost c.\n",
    "    \"\"\"\n",
    "    graph = {}\n",
    "    infile = open(in_file)\n",
    "    for line in infile:\n",
    "        elements = line.split(',')\n",
    "        node = elements.pop(0)\n",
    "        graph[node] = []\n",
    "        if node != 'node99':\n",
    "            for element in elements:\n",
    "                destination, cost = element.split()\n",
    "                graph[node].append((destination, float(cost)))\n",
    "    infile.close()\n",
    "    return graph\n",
    "\n",
    "def update_J(J, graph):\n",
    "    \"The Bellman operator.\"\n",
    "    next_J = {}\n",
    "    for node in graph:\n",
    "        if node == 'node99':\n",
    "            next_J[node] = 0\n",
    "        else:\n",
    "            next_J[node] = min(cost + J[dest] for dest, cost in graph[node])\n",
    "    return next_J\n",
    "\n",
    "def print_best_path(J, graph):\n",
    "    \"\"\" Given a cost-to-go function, computes the best path.  At each node n,\n",
    "    the function prints the current location, looks at all nodes that can be\n",
    "    reached from n, and moves to the node m which minimizes c + J[m], where c\n",
    "    is the cost of moving to m.\n",
    "    \"\"\"\n",
    "    sum_costs = 0\n",
    "    current_location = 'node0'\n",
    "    while current_location != 'node99':\n",
    "        print(current_location)\n",
    "        running_min = 1e100  # Any big number\n",
    "        for destination, cost in graph[current_location]:\n",
    "            cost_of_path = cost + J[destination]\n",
    "            if cost_of_path < running_min:\n",
    "                running_min = cost_of_path\n",
    "                minimizer_cost = cost\n",
    "                minimizer_dest = destination\n",
    "        current_location = minimizer_dest\n",
    "        sum_costs += minimizer_cost\n",
    "\n",
    "    print('node99\\n')\n",
    "    print('Cost: ', sum_costs)\n",
    "\n",
    "\n",
    "## Main loop\n",
    "\n",
    "graph = read_graph('graph.txt')\n",
    "M = 1e10\n",
    "J = {}\n",
    "for node in graph:\n",
    "    J[node] = M\n",
    "J['node99'] = 0\n",
    "\n",
    "while True:\n",
    "    next_J = update_J(J, graph)\n",
    "    if next_J == J:\n",
    "        break\n",
    "    else:\n",
    "        J = next_J\n",
    "\n",
    "print_best_path(J, graph)"
   ]
  },
  {
   "cell_type": "code",
   "execution_count": 147,
   "metadata": {
    "scrolled": false,
    "slideshow": {
     "slide_type": "slide"
    }
   },
   "outputs": [
    {
     "name": "stdout",
     "output_type": "stream",
     "text": [
      "Backward induction steps\n",
      "0 236.33\n",
      "1 101.08\n",
      "2 62.46000000000001\n",
      "3 48.099999999999994\n",
      "4 48.1\n",
      "5 48.1\n",
      "6 48.10000000000001\n",
      "7 35.410000000000004\n",
      "8 35.410000000000004\n",
      "9 35.41000000000001\n",
      "10 22.28\n",
      "11 8.179999999999993\n",
      "12 8.179999999999993\n",
      "13 8.179999999999978\n",
      "14 7.190000000000012\n",
      "15 7.190000000000019\n",
      "16 7.190000000000019\n",
      "17 7.190000000000026\n",
      "18 7.189999999999998\n",
      "19 7.189999999999998\n",
      "20 7.189999999999998\n",
      "21 7.189999999999998\n",
      "22 7.189999999999998\n",
      "23 0.960000000000008\n",
      "24 0.3300000000000125\n",
      "25 0.0\n",
      "\n",
      "Shortest path: 0 >> 8 >> 11 >> 18 >> 23 >> 33 >> 41 >> 53 >> 56 >> 57 >> 60 >> 67 >> 70 >> 73 >> 76 >> 85 >> 87 >> 88 >> 93 >> 94 >> 96 >> 97 >> 98 >> 99\n",
      "Cost:  160.55\n"
     ]
    },
    {
     "data": {
      "image/png": "[encoded data removed]",
      "text/plain": [
       "<Figure size 432x288 with 1 Axes>"
      ]
     },
     "metadata": {},
     "output_type": "display_data"
    }
   ],
   "source": [
    "import numpy as np\n",
    "import scipy.sparse as sparse\n",
    "import matplotlib.pyplot as plt\n",
    "\n",
    "def read_graph(in_file):\n",
    "    \"\"\" Read in the graph from the data file.  The graph file is read\n",
    "    into a sparse matrix in DOK format, see\n",
    "    https://www.scipy-lectures.org/advanced/scipy_sparse/dok_matrix.html\n",
    "    and then converted to CSR row format\n",
    "    \"\"\"\n",
    "    def nodenumber(s):\n",
    "        return int(s.lstrip('node'))\n",
    "    graph = sparse.dok_matrix((1,1), dtype=np.float64)\n",
    "    infile = open(in_file)\n",
    "    for line in infile:\n",
    "        elements = line.strip().split(',')\n",
    "        n0 = nodenumber(elements.pop(0))\n",
    "        for element in elements:\n",
    "            if len(element)>0:\n",
    "                destination, cost = element.split()\n",
    "                n1=nodenumber(destination)\n",
    "                if graph.shape[0]<=max(n0,n1):\n",
    "                    graph.resize(max(n0,n1)+1,max(n0,n1)+1)\n",
    "                graph[n0,n1]=float(cost)\n",
    "    infile.close()\n",
    "    return graph.tocsr()\n",
    "\n",
    "def bellman(J, graph):\n",
    "    \"The Bellman operator.\"\n",
    "    next_J = np.zeros(J.size)\n",
    "    path = np.zeros(graph.shape[0],dtype=np.int64)\n",
    "    # go through all vertices except the final (last)\n",
    "    for i in range(graph.shape[0]-1):\n",
    "        cost = graph.getrow(i).data\n",
    "        indx = graph.getrow(i).indices\n",
    "        if len(indx)>0:\n",
    "            val = cost + J[indx]\n",
    "            j = np.argmin(val)\n",
    "            path[i] = indx[j]\n",
    "            next_J[i]=val[j]\n",
    "    return path, next_J\n",
    "\n",
    "graph = read_graph('graph.txt')\n",
    "J = np.zeros(graph.shape[0],dtype=np.float64)\n",
    "plt.spy(graph+np.eye(graph.shape[0]),markersize=5)\n",
    "\n",
    "# Main DP loop\n",
    "iter=0\n",
    "print('Backward induction steps')\n",
    "while True:\n",
    "    path, next_J = bellman(J, graph)\n",
    "    tol=np.max(np.abs(next_J-J))\n",
    "#     print(iter,J)\n",
    "#     print(iter,next_J,tol)\n",
    "    print(iter,tol)\n",
    "    if tol<1e-8:\n",
    "        break\n",
    "    else:\n",
    "        J = next_J\n",
    "    iter+=1\n",
    "\n",
    "# Print shortest path\n",
    "print('\\nShortest path: ',end='')\n",
    "i=0\n",
    "while True:\n",
    "    print(i,end='')\n",
    "    i=path[i]\n",
    "    if i==0:\n",
    "        break\n",
    "    else: \n",
    "        print(' >> ',end='')\n",
    "print('\\nCost: ',J[0])"
   ]
  },
  {
   "cell_type": "code",
   "execution_count": 148,
   "metadata": {
    "slideshow": {
     "slide_type": "slide"
    }
   },
   "outputs": [
    {
     "name": "stdout",
     "output_type": "stream",
     "text": [
      "Overwriting graph.txt\n"
     ]
    }
   ],
   "source": [
    "%%file graph.txt\n",
    "node0, node1 2, node2 5\n",
    "node1, node0 2, node2 -1.5, node3 4\n",
    "node2, node0 5, node1 -1.5, node3 2\n",
    "node3, node1 4, node2 2"
   ]
  },
  {
   "cell_type": "markdown",
   "metadata": {
    "slideshow": {
     "slide_type": "slide"
    }
   },
   "source": [
    "## Infinite horizon\n",
    "\n",
    "- Shortest path is inherintly finite (Right?)\n",
    "- For truely infinite problems things are a little different\n",
    "- How can we be sure that the algorithm would terminate?\n"
   ]
  },
  {
   "cell_type": "markdown",
   "metadata": {
    "slideshow": {
     "slide_type": "slide"
    }
   },
   "source": [
    "### Value of annuity\n",
    "\n",
    "$$\n",
    "\\stackrel{\\nearrow}{V} \\quad\n",
    "\\stackrel{\\searrow}{c} \\quad\n",
    "\\stackrel{\\searrow}{c} \\quad\n",
    "\\stackrel{\\searrow}{c} \\quad\n",
    "\\dots\n",
    "$$\n",
    "\n",
    "- interest rate $r$\n",
    "- What is the value of the annuity $V$?\n"
   ]
  },
  {
   "cell_type": "markdown",
   "metadata": {
    "slideshow": {
     "slide_type": "slide"
    }
   },
   "source": [
    "### Value of annuity\n",
    "\n",
    "$$\n",
    "\\stackrel{\\nearrow}{V} \\quad\n",
    "\\stackrel{\\searrow}{c} \\quad\n",
    "\\stackrel{\\searrow}{c} \\quad\n",
    "\\stackrel{\\searrow}{c} \\quad\n",
    "\\dots\n",
    "$$\n",
    "\n",
    "$$\n",
    "V=\\quad\n",
    "\\frac{c}{(1+r)^0} + \\quad\n",
    "\\frac{c}{(1+r)^1} + \\quad\n",
    "\\frac{c}{(1+r)^2} + \\quad\n",
    "\\frac{c}{(1+r)^3} + \\quad\n",
    "\\dots\n",
    "$$\n",
    "\n",
    "$$\n",
    "\\beta = \\frac{1}{1+r}\n",
    "$$\n",
    "\n",
    "$$\n",
    "V=\\quad\n",
    "c + \\quad\n",
    "c \\beta + \\quad\n",
    "c \\beta^2 + \\quad\n",
    "c \\beta^3 + \\quad\n",
    "\\dots\n",
    "=\n",
    "\\sum_{t=0}^{\\infty} \\beta^t c\n",
    "$$\n",
    "\n",
    "\n"
   ]
  },
  {
   "cell_type": "markdown",
   "metadata": {
    "slideshow": {
     "slide_type": "slide"
    }
   },
   "source": [
    "### Geometric series\n",
    "\n",
    "Assuming $\\beta<1$\n",
    "\n",
    "$$\n",
    "V = \\sum_{t=0}^{\\infty} \\beta^t c = \\frac{c}{1-\\beta}\n",
    "$$\n",
    "\n",
    "Can reformulate as **recursive equation**\n",
    "\n",
    "$$\n",
    "V = c + \\beta ( c + \\beta c + \\beta^2 c + \\dots ) = c + \\beta V\n",
    "$$"
   ]
  },
  {
   "cell_type": "markdown",
   "metadata": {
    "slideshow": {
     "slide_type": "slide"
    }
   },
   "source": [
    "### Backward induction\n",
    "\n",
    "1. Start with a guess $V_0$\n",
    "2. Insert into the Bellman equation\n",
    "\n",
    "$$\n",
    "V_{i+1} = c + \\beta V_i\n",
    "$$\n",
    "\n",
    "3. Repeat until convergence\n",
    "\n",
    "$$\n",
    "||V_{i}-V_{i-1}||\\leq\\varepsilon\\text{ (small number)}\n",
    "$$\n"
   ]
  },
  {
   "cell_type": "markdown",
   "metadata": {
    "slideshow": {
     "slide_type": "slide"
    }
   },
   "source": [
    "### Will this algorithm converge?\n",
    "\n",
    "\n",
    "$$\n",
    "||V_{i}-V_{i-1}|| = ||(c+\\beta V_{i-1})-(c+\\beta V_{i-2})||=\\beta ||V_{i-1}-V_{i-2}||\n",
    "$$\n",
    "\n",
    "- If $\\beta<1$ with every iteration the difference $||V_{i}-V_{i-1}||$ becomes **strictly smaller**\n",
    "- Recursive formula (Bellman equation) is **contraction mapping**\n",
    "- Banach fixed point theorem guarantees unique solution!"
   ]
  },
  {
   "cell_type": "code",
   "execution_count": 149,
   "metadata": {
    "slideshow": {
     "slide_type": "slide"
    }
   },
   "outputs": [
    {
     "name": "stdout",
     "output_type": "stream",
     "text": [
      "Analytic solution =  10.000000000000002\n",
      "Numerical solution =  9.999153585021714\n"
     ]
    }
   ],
   "source": [
    "import numpy as np\n",
    "import matplotlib.pyplot as plt\n",
    "%matplotlib inline\n",
    "\n",
    "# Setup\n",
    "c=1            # Annual payment\n",
    "beta=.9        # Discount factor\n",
    "maxiter=1000   # Maximum number of iterations\n",
    "epsilon=1e-4   # Small number\n",
    "\n",
    "def T(V):\n",
    "    return c+beta*V\n",
    "\n",
    "analytic=c/(1-beta)\n",
    "print('Analytic solution = ', analytic)\n",
    "\n",
    "V0=0\n",
    "for i in range(maxiter):\n",
    "    V1=T(V0)\n",
    "    if abs(V1-V0)<epsilon:\n",
    "        break\n",
    "    V0=V1\n",
    "\n",
    "print('Numerical solution = ', V1)\n",
    "\n",
    "if i+1>=maxiter:\n",
    "    print('No convergence: maximum number of iterations achieved!')\n",
    "    "
   ]
  },
  {
   "cell_type": "markdown",
   "metadata": {
    "slideshow": {
     "slide_type": "slide"
    }
   },
   "source": [
    "### Convergence behavior\n",
    "\n",
    "Exercise: change the value of $\\beta$, $V_0$"
   ]
  },
  {
   "cell_type": "code",
   "execution_count": 150,
   "metadata": {
    "scrolled": true,
    "slideshow": {
     "slide_type": "slide"
    }
   },
   "outputs": [
    {
     "name": "stdout",
     "output_type": "stream",
     "text": [
      "Iter           Value           Error           Delta    D-ratio\n",
      "0         1.00000000    -39.00000000      1.00000000\n",
      "1         1.97500000    -38.02500000      0.97500000    0.97500\n",
      "2         2.92562500    -37.07437500      0.95062500    0.97500\n",
      "3         3.85248437    -36.14751562      0.92685937    0.97500\n",
      "4         4.75617227    -35.24382773      0.90368789    0.97500\n",
      "5         5.63726796    -34.36273204      0.88109569    0.97500\n",
      "6         6.49633626    -33.50366374      0.85906830    0.97500\n",
      "7         7.33392785    -32.66607215      0.83759159    0.97500\n",
      "8         8.15057966    -31.84942034      0.81665180    0.97500\n",
      "9         8.94681517    -31.05318483      0.79623551    0.97500\n",
      "10        9.72314479    -30.27685521      0.77632962    0.97500\n",
      "11       10.48006617    -29.51993383      0.75692138    0.97500\n",
      "12       11.21806451    -28.78193549      0.73799835    0.97500\n",
      "13       11.93761290    -28.06238710      0.71954839    0.97500\n",
      "14       12.63917258    -27.36082742      0.70155968    0.97500\n",
      "15       13.32319326    -26.67680674      0.68402069    0.97500\n",
      "16       13.99011343    -26.00988657      0.66692017    0.97500\n",
      "17       14.64036060    -25.35963940      0.65024716    0.97500\n",
      "18       15.27435158    -24.72564842      0.63399099    0.97500\n",
      "19       15.89249279    -24.10750721      0.61814121    0.97500\n",
      "20       16.49518047    -23.50481953      0.60268768    0.97500\n",
      "21       17.08280096    -22.91719904      0.58762049    0.97500\n",
      "22       17.65573094    -22.34426906      0.57292998    0.97500\n",
      "23       18.21433766    -21.78566234      0.55860673    0.97500\n",
      "24       18.75897922    -21.24102078      0.54464156    0.97500\n",
      "25       19.29000474    -20.70999526      0.53102552    0.97500\n",
      "26       19.80775462    -20.19224538      0.51774988    0.97500\n",
      "27       20.31256076    -19.68743924      0.50480613    0.97500\n",
      "28       20.80474674    -19.19525326      0.49218598    0.97500\n",
      "29       21.28462807    -18.71537193      0.47988133    0.97500\n",
      "30       21.75251237    -18.24748763      0.46788430    0.97500\n",
      "31       22.20869956    -17.79130044      0.45618719    0.97500\n",
      "32       22.65348207    -17.34651793      0.44478251    0.97500\n",
      "33       23.08714502    -16.91285498      0.43366295    0.97500\n",
      "34       23.50996639    -16.49003361      0.42282137    0.97500\n",
      "35       23.92221723    -16.07778277      0.41225084    0.97500\n",
      "36       24.32416180    -15.67583820      0.40194457    0.97500\n",
      "37       24.71605776    -15.28394224      0.39189595    0.97500\n",
      "38       25.09815631    -14.90184369      0.38209856    0.97500\n",
      "39       25.47070240    -14.52929760      0.37254609    0.97500\n",
      "40       25.83393484    -14.16606516      0.36323244    0.97500\n",
      "41       26.18808647    -13.81191353      0.35415163    0.97500\n",
      "42       26.53338431    -13.46661569      0.34529784    0.97500\n",
      "43       26.87004970    -13.12995030      0.33666539    0.97500\n",
      "44       27.19829846    -12.80170154      0.32824876    0.97500\n",
      "45       27.51834100    -12.48165900      0.32004254    0.97500\n",
      "46       27.83038247    -12.16961753      0.31204148    0.97500\n",
      "47       28.13462291    -11.86537709      0.30424044    0.97500\n",
      "48       28.43125734    -11.56874266      0.29663443    0.97500\n",
      "49       28.72047591    -11.27952409      0.28921857    0.97500\n",
      "50       29.00246401    -10.99753599      0.28198810    0.97500\n",
      "51       29.27740241    -10.72259759      0.27493840    0.97500\n",
      "52       29.54546735    -10.45453265      0.26806494    0.97500\n",
      "53       29.80683066    -10.19316934      0.26136332    0.97500\n",
      "54       30.06165990     -9.93834010      0.25482923    0.97500\n",
      "55       30.31011840     -9.68988160      0.24845850    0.97500\n",
      "56       30.55236544     -9.44763456      0.24224704    0.97500\n",
      "57       30.78855630     -9.21144370      0.23619086    0.97500\n",
      "58       31.01884240     -8.98115760      0.23028609    0.97500\n",
      "59       31.24337134     -8.75662866      0.22452894    0.97500\n",
      "60       31.46228705     -8.53771295      0.21891572    0.97500\n",
      "61       31.67572988     -8.32427012      0.21344282    0.97500\n",
      "62       31.88383663     -8.11616337      0.20810675    0.97500\n",
      "63       32.08674071     -7.91325929      0.20290408    0.97500\n",
      "64       32.28457220     -7.71542780      0.19783148    0.97500\n",
      "65       32.47745789     -7.52254211      0.19288570    0.97500\n",
      "66       32.66552144     -7.33447856      0.18806355    0.97500\n",
      "67       32.84888341     -7.15111659      0.18336196    0.97500\n",
      "68       33.02766132     -6.97233868      0.17877791    0.97500\n",
      "69       33.20196979     -6.79803021      0.17430847    0.97500\n",
      "70       33.37192055     -6.62807945      0.16995076    0.97500\n",
      "71       33.53762253     -6.46237747      0.16570199    0.97500\n",
      "72       33.69918197     -6.30081803      0.16155944    0.97500\n",
      "73       33.85670242     -6.14329758      0.15752045    0.97500\n",
      "74       34.01028486     -5.98971514      0.15358244    0.97500\n",
      "75       34.16002774     -5.83997226      0.14974288    0.97500\n",
      "76       34.30602704     -5.69397296      0.14599931    0.97500\n",
      "77       34.44837637     -5.55162363      0.14234932    0.97500\n",
      "78       34.58716696     -5.41283304      0.13879059    0.97500\n",
      "79       34.72248778     -5.27751222      0.13532083    0.97500\n",
      "80       34.85442559     -5.14557441      0.13193781    0.97500\n",
      "81       34.98306495     -5.01693505      0.12863936    0.97500\n",
      "82       35.10848833     -4.89151167      0.12542338    0.97500\n",
      "83       35.23077612     -4.76922388      0.12228779    0.97500\n",
      "84       35.35000672     -4.64999328      0.11923060    0.97500\n",
      "85       35.46625655     -4.53374345      0.11624983    0.97500\n",
      "86       35.57960013     -4.42039987      0.11334359    0.97500\n",
      "87       35.69011013     -4.30988987      0.11051000    0.97500\n",
      "88       35.79785738     -4.20214262      0.10774725    0.97500\n",
      "89       35.90291094     -4.09708906      0.10505357    0.97500\n",
      "90       36.00533817     -3.99466183      0.10242723    0.97500\n",
      "91       36.10520471     -3.89479529      0.09986655    0.97500\n",
      "92       36.20257460     -3.79742540      0.09736988    0.97500\n",
      "93       36.29751023     -3.70248977      0.09493564    0.97500\n",
      "94       36.39007248     -3.60992752      0.09256224    0.97500\n",
      "95       36.48032066     -3.51967934      0.09024819    0.97500\n",
      "96       36.56831265     -3.43168735      0.08799198    0.97500\n",
      "97       36.65410483     -3.34589517      0.08579218    0.97500\n",
      "98       36.73775221     -3.26224779      0.08364738    0.97500\n",
      "99       36.81930841     -3.18069159      0.08155619    0.97500\n",
      "100      36.89882570     -3.10117430      0.07951729    0.97500\n",
      "101      36.97635505     -3.02364495      0.07752936    0.97500\n",
      "102      37.05194618     -2.94805382      0.07559112    0.97500\n",
      "103      37.12564752     -2.87435248      0.07370135    0.97500\n",
      "104      37.19750633     -2.80249367      0.07185881    0.97500\n",
      "105      37.26756868     -2.73243132      0.07006234    0.97500\n",
      "106      37.33587946     -2.66412054      0.06831078    0.97500\n",
      "107      37.40248247     -2.59751753      0.06660301    0.97500\n",
      "108      37.46742041     -2.53257959      0.06493794    0.97500\n",
      "109      37.53073490     -2.46926510      0.06331449    0.97500\n",
      "110      37.59246653     -2.40753347      0.06173163    0.97500\n",
      "111      37.65265486     -2.34734514      0.06018834    0.97500\n",
      "112      37.71133849     -2.28866151      0.05868363    0.97500\n",
      "113      37.76855503     -2.23144497      0.05721654    0.97500\n",
      "114      37.82434115     -2.17565885      0.05578612    0.97500\n",
      "115      37.87873263     -2.12126737      0.05439147    0.97500\n",
      "116      37.93176431     -2.06823569      0.05303168    0.97500\n",
      "117      37.98347020     -2.01652980      0.05170589    0.97500\n",
      "118      38.03388345     -1.96611655      0.05041324    0.97500\n",
      "119      38.08303636     -1.91696364      0.04915291    0.97500\n",
      "120      38.13096045     -1.86903955      0.04792409    0.97500\n",
      "121      38.17768644     -1.82231356      0.04672599    0.97500\n",
      "122      38.22324428     -1.77675572      0.04555784    0.97500\n",
      "123      38.26766317     -1.73233683      0.04441889    0.97500\n",
      "124      38.31097159     -1.68902841      0.04330842    0.97500\n",
      "125      38.35319730     -1.64680270      0.04222571    0.97500\n",
      "126      38.39436737     -1.60563263      0.04117007    0.97500\n",
      "127      38.43450819     -1.56549181      0.04014082    0.97500\n",
      "128      38.47364548     -1.52635452      0.03913730    0.97500\n",
      "129      38.51180435     -1.48819565      0.03815886    0.97500\n",
      "130      38.54900924     -1.45099076      0.03720489    0.97500\n",
      "131      38.58528401     -1.41471599      0.03627477    0.97500\n",
      "132      38.62065191     -1.37934809      0.03536790    0.97500\n",
      "133      38.65513561     -1.34486439      0.03448370    0.97500\n",
      "134      38.68875722     -1.31124278      0.03362161    0.97500\n",
      "135      38.72153829     -1.27846171      0.03278107    0.97500\n",
      "136      38.75349983     -1.24650017      0.03196154    0.97500\n",
      "137      38.78466233     -1.21533767      0.03116250    0.97500\n",
      "138      38.81504578     -1.18495422      0.03038344    0.97500\n",
      "139      38.84466963     -1.15533037      0.02962386    0.97500\n",
      "140      38.87355289     -1.12644711      0.02888326    0.97500\n",
      "141      38.90171407     -1.09828593      0.02816118    0.97500\n",
      "142      38.92917122     -1.07082878      0.02745715    0.97500\n",
      "143      38.95594194     -1.04405806      0.02677072    0.97500\n",
      "144      38.98204339     -1.01795661      0.02610145    0.97500\n",
      "145      39.00749230     -0.99250770      0.02544892    0.97500\n",
      "146      39.03230500     -0.96769500      0.02481269    0.97500\n",
      "147      39.05649737     -0.94350263      0.02419238    0.97500\n",
      "148      39.08008494     -0.91991506      0.02358757    0.97500\n",
      "149      39.10308281     -0.89691719      0.02299788    0.97500\n",
      "150      39.12550574     -0.87449426      0.02242293    0.97500\n",
      "151      39.14736810     -0.85263190      0.02186236    0.97500\n",
      "152      39.16868390     -0.83131610      0.02131580    0.97500\n",
      "153      39.18946680     -0.81053320      0.02078290    0.97500\n",
      "154      39.20973013     -0.79026987      0.02026333    0.97500\n",
      "155      39.22948688     -0.77051312      0.01975675    0.97500\n",
      "156      39.24874970     -0.75125030      0.01926283    0.97500\n",
      "157      39.26753096     -0.73246904      0.01878126    0.97500\n",
      "158      39.28584269     -0.71415731      0.01831173    0.97500\n",
      "159      39.30369662     -0.69630338      0.01785393    0.97500\n",
      "160      39.32110420     -0.67889580      0.01740758    0.97500\n",
      "161      39.33807660     -0.66192340      0.01697239    0.97500\n",
      "162      39.35462468     -0.64537532      0.01654809    0.97500\n",
      "163      39.37075907     -0.62924093      0.01613438    0.97500\n",
      "164      39.38649009     -0.61350991      0.01573102    0.97500\n",
      "165      39.40182784     -0.59817216      0.01533775    0.97500\n",
      "166      39.41678214     -0.58321786      0.01495430    0.97500\n",
      "167      39.43136259     -0.56863741      0.01458045    0.97500\n",
      "168      39.44557852     -0.55442148      0.01421594    0.97500\n",
      "169      39.45943906     -0.54056094      0.01386054    0.97500\n",
      "170      39.47295308     -0.52704692      0.01351402    0.97500\n",
      "171      39.48612926     -0.51387074      0.01317617    0.97500\n",
      "172      39.49897603     -0.50102397      0.01284677    0.97500\n",
      "173      39.51150163     -0.48849837      0.01252560    0.97500\n",
      "174      39.52371408     -0.47628592      0.01221246    0.97500\n",
      "175      39.53562123     -0.46437877      0.01190715    0.97500\n",
      "176      39.54723070     -0.45276930      0.01160947    0.97500\n",
      "177      39.55854993     -0.44145007      0.01131923    0.97500\n",
      "178      39.56958619     -0.43041381      0.01103625    0.97500\n",
      "179      39.58034653     -0.41965347      0.01076035    0.97500\n",
      "180      39.59083787     -0.40916213      0.01049134    0.97500\n",
      "181      39.60106692     -0.39893308      0.01022905    0.97500\n",
      "182      39.61104025     -0.38895975      0.00997333    0.97500\n",
      "183      39.62076424     -0.37923576      0.00972399    0.97500\n",
      "184      39.63024514     -0.36975486      0.00948089    0.97500\n",
      "185      39.63948901     -0.36051099      0.00924387    0.97500\n",
      "186      39.64850178     -0.35149822      0.00901277    0.97500\n",
      "187      39.65728924     -0.34271076      0.00878746    0.97500\n",
      "188      39.66585701     -0.33414299      0.00856777    0.97500\n",
      "189      39.67421058     -0.32578942      0.00835357    0.97500\n",
      "190      39.68235532     -0.31764468      0.00814474    0.97500\n",
      "191      39.69029643     -0.30970357      0.00794112    0.97500\n",
      "192      39.69803902     -0.30196098      0.00774259    0.97500\n",
      "193      39.70558805     -0.29441195      0.00754902    0.97500\n",
      "194      39.71294835     -0.28705165      0.00736030    0.97500\n",
      "195      39.72012464     -0.27987536      0.00717629    0.97500\n",
      "196      39.72712152     -0.27287848      0.00699688    0.97500\n",
      "197      39.73394348     -0.26605652      0.00682196    0.97500\n",
      "198      39.74059490     -0.25940510      0.00665141    0.97500\n",
      "199      39.74708002     -0.25291998      0.00648513    0.97500\n",
      "200      39.75340302     -0.24659698      0.00632300    0.97500\n",
      "201      39.75956795     -0.24043205      0.00616492    0.97500\n",
      "202      39.76557875     -0.23442125      0.00601080    0.97500\n",
      "203      39.77143928     -0.22856072      0.00586053    0.97500\n",
      "204      39.77715330     -0.22284670      0.00571402    0.97500\n",
      "205      39.78272447     -0.21727553      0.00557117    0.97500\n",
      "206      39.78815635     -0.21184365      0.00543189    0.97500\n",
      "207      39.79345245     -0.20654755      0.00529609    0.97500\n",
      "208      39.79861613     -0.20138387      0.00516369    0.97500\n",
      "209      39.80365073     -0.19634927      0.00503460    0.97500\n",
      "210      39.80855946     -0.19144054      0.00490873    0.97500\n",
      "211      39.81334548     -0.18665452      0.00478601    0.97500\n",
      "212      39.81801184     -0.18198816      0.00466636    0.97500\n",
      "213      39.82256154     -0.17743846      0.00454970    0.97500\n",
      "214      39.82699750     -0.17300250      0.00443596    0.97500\n",
      "215      39.83132257     -0.16867743      0.00432506    0.97500\n",
      "216      39.83553950     -0.16446050      0.00421694    0.97500\n",
      "217      39.83965102     -0.16034898      0.00411151    0.97500\n",
      "218      39.84365974     -0.15634026      0.00400872    0.97500\n",
      "219      39.84756825     -0.15243175      0.00390851    0.97500\n",
      "220      39.85137904     -0.14862096      0.00381079    0.97500\n",
      "221      39.85509456     -0.14490544      0.00371552    0.97500\n",
      "222      39.85871720     -0.14128280      0.00362264    0.97500\n",
      "223      39.86224927     -0.13775073      0.00353207    0.97500\n",
      "224      39.86569304     -0.13430696      0.00344377    0.97500\n",
      "225      39.86905071     -0.13094929      0.00335767    0.97500\n",
      "226      39.87232444     -0.12767556      0.00327373    0.97500\n",
      "227      39.87551633     -0.12448367      0.00319189    0.97500\n",
      "228      39.87862843     -0.12137157      0.00311209    0.97500\n",
      "229      39.88166271     -0.11833729      0.00303429    0.97500\n",
      "230      39.88462115     -0.11537885      0.00295843    0.97500\n",
      "231      39.88750562     -0.11249438      0.00288447    0.97500\n",
      "232      39.89031798     -0.10968202      0.00281236    0.97500\n",
      "233      39.89306003     -0.10693997      0.00274205    0.97500\n",
      "234      39.89573353     -0.10426647      0.00267350    0.97500\n",
      "235      39.89834019     -0.10165981      0.00260666    0.97500\n",
      "236      39.90088168     -0.09911832      0.00254150    0.97500\n",
      "237      39.90335964     -0.09664036      0.00247796    0.97500\n",
      "238      39.90577565     -0.09422435      0.00241601    0.97500\n",
      "239      39.90813126     -0.09186874      0.00235561    0.97500\n",
      "240      39.91042798     -0.08957202      0.00229672    0.97500\n",
      "241      39.91266728     -0.08733272      0.00223930    0.97500\n",
      "242      39.91485060     -0.08514940      0.00218332    0.97500\n",
      "243      39.91697933     -0.08302067      0.00212874    0.97500\n",
      "244      39.91905485     -0.08094515      0.00207552    0.97500\n",
      "245      39.92107848     -0.07892152      0.00202363    0.97500\n",
      "246      39.92305152     -0.07694848      0.00197304    0.97500\n",
      "247      39.92497523     -0.07502477      0.00192371    0.97500\n",
      "248      39.92685085     -0.07314915      0.00187562    0.97500\n",
      "249      39.92867958     -0.07132042      0.00182873    0.97500\n",
      "250      39.93046259     -0.06953741      0.00178301    0.97500\n",
      "251      39.93220102     -0.06779898      0.00173844    0.97500\n",
      "252      39.93389600     -0.06610400      0.00169497    0.97500\n",
      "253      39.93554860     -0.06445140      0.00165260    0.97500\n",
      "254      39.93715988     -0.06284012      0.00161129    0.97500\n",
      "255      39.93873088     -0.06126912      0.00157100    0.97500\n",
      "256      39.94026261     -0.05973739      0.00153173    0.97500\n",
      "257      39.94175605     -0.05824395      0.00149343    0.97500\n",
      "258      39.94321215     -0.05678785      0.00145610    0.97500\n",
      "259      39.94463184     -0.05536816      0.00141970    0.97500\n",
      "260      39.94601605     -0.05398395      0.00138420    0.97500\n",
      "261      39.94736565     -0.05263435      0.00134960    0.97500\n",
      "262      39.94868150     -0.05131850      0.00131586    0.97500\n",
      "263      39.94996447     -0.05003553      0.00128296    0.97500\n",
      "264      39.95121535     -0.04878465      0.00125089    0.97500\n",
      "265      39.95243497     -0.04756503      0.00121962    0.97500\n",
      "266      39.95362410     -0.04637590      0.00118913    0.97500\n",
      "267      39.95478349     -0.04521651      0.00115940    0.97500\n",
      "268      39.95591391     -0.04408609      0.00113041    0.97500\n",
      "269      39.95701606     -0.04298394      0.00110215    0.97500\n",
      "270      39.95809066     -0.04190934      0.00107460    0.97500\n",
      "271      39.95913839     -0.04086161      0.00104773    0.97500\n",
      "272      39.96015993     -0.03984007      0.00102154    0.97500\n",
      "273      39.96115593     -0.03884407      0.00099600    0.97500\n",
      "274      39.96212703     -0.03787297      0.00097110    0.97500\n",
      "275      39.96307386     -0.03692614      0.00094682    0.97500\n",
      "276      39.96399701     -0.03600299      0.00092315    0.97500\n",
      "277      39.96489709     -0.03510291      0.00090007    0.97500\n",
      "278      39.96577466     -0.03422534      0.00087757    0.97500\n",
      "279      39.96663029     -0.03336971      0.00085563    0.97500\n",
      "280      39.96746454     -0.03253546      0.00083424    0.97500\n",
      "281      39.96827792     -0.03172208      0.00081339    0.97500\n",
      "282      39.96907097     -0.03092903      0.00079305    0.97500\n",
      "283      39.96984420     -0.03015580      0.00077323    0.97500\n",
      "284      39.97059810     -0.02940190      0.00075389    0.97500\n",
      "285      39.97133314     -0.02866686      0.00073505    0.97500\n",
      "286      39.97204981     -0.02795019      0.00071667    0.97500\n",
      "287      39.97274857     -0.02725143      0.00069875    0.97500\n",
      "288      39.97342985     -0.02657015      0.00068129    0.97500\n",
      "289      39.97409411     -0.02590589      0.00066425    0.97500\n",
      "290      39.97474176     -0.02525824      0.00064765    0.97500\n",
      "291      39.97537321     -0.02462679      0.00063146    0.97500\n",
      "292      39.97598888     -0.02401112      0.00061567    0.97500\n",
      "293      39.97658916     -0.02341084      0.00060028    0.97500\n",
      "294      39.97717443     -0.02282557      0.00058527    0.97500\n",
      "295      39.97774507     -0.02225493      0.00057064    0.97500\n",
      "296      39.97830144     -0.02169856      0.00055637    0.97500\n",
      "297      39.97884391     -0.02115609      0.00054246    0.97500\n",
      "298      39.97937281     -0.02062719      0.00052890    0.97500\n",
      "299      39.97988849     -0.02011151      0.00051568    0.97500\n",
      "300      39.98039128     -0.01960872      0.00050279    0.97500\n",
      "301      39.98088149     -0.01911851      0.00049022    0.97500\n",
      "302      39.98135946     -0.01864054      0.00047796    0.97500\n",
      "303      39.98182547     -0.01817453      0.00046601    0.97500\n",
      "304      39.98227983     -0.01772017      0.00045436    0.97500\n",
      "305      39.98272284     -0.01727716      0.00044300    0.97500\n",
      "306      39.98315477     -0.01684523      0.00043193    0.97500\n",
      "307      39.98357590     -0.01642410      0.00042113    0.97500\n",
      "308      39.98398650     -0.01601350      0.00041060    0.97500\n",
      "309      39.98438684     -0.01561316      0.00040034    0.97500\n",
      "310      39.98477717     -0.01522283      0.00039033    0.97500\n",
      "311      39.98515774     -0.01484226      0.00038057    0.97500\n",
      "312      39.98552879     -0.01447121      0.00037106    0.97500\n",
      "313      39.98589057     -0.01410943      0.00036178    0.97500\n",
      "314      39.98624331     -0.01375669      0.00035274    0.97500\n",
      "315      39.98658723     -0.01341277      0.00034392    0.97500\n",
      "316      39.98692255     -0.01307745      0.00033532    0.97500\n",
      "317      39.98724948     -0.01275052      0.00032694    0.97500\n",
      "318      39.98756825     -0.01243175      0.00031876    0.97500\n",
      "319      39.98787904     -0.01212096      0.00031079    0.97500\n",
      "320      39.98818206     -0.01181794      0.00030302    0.97500\n",
      "321      39.98847751     -0.01152249      0.00029545    0.97500\n",
      "322      39.98876557     -0.01123443      0.00028806    0.97500\n",
      "323      39.98904644     -0.01095356      0.00028086    0.97500\n",
      "324      39.98932027     -0.01067973      0.00027384    0.97500\n",
      "325      39.98958727     -0.01041273      0.00026699    0.97500\n",
      "326      39.98984759     -0.01015241      0.00026032    0.97500\n",
      "327      39.99010140     -0.00989860      0.00025381    0.97500\n",
      "328      39.99034886     -0.00965114      0.00024747    0.97500\n",
      "329      39.99059014     -0.00940986      0.00024128    0.97500\n",
      "330      39.99082539     -0.00917461      0.00023525    0.97500\n",
      "331      39.99105475     -0.00894525      0.00022937    0.97500\n",
      "332      39.99127838     -0.00872162      0.00022363    0.97500\n",
      "333      39.99149642     -0.00850358      0.00021804    0.97500\n",
      "334      39.99170901     -0.00829099      0.00021259    0.97500\n",
      "335      39.99191629     -0.00808371      0.00020727    0.97500\n",
      "336      39.99211838     -0.00788162      0.00020209    0.97500\n",
      "337      39.99231542     -0.00768458      0.00019704    0.97500\n",
      "338      39.99250754     -0.00749246      0.00019211    0.97500\n",
      "339      39.99269485     -0.00730515      0.00018731    0.97500\n",
      "340      39.99287748     -0.00712252      0.00018263    0.97500\n",
      "341      39.99305554     -0.00694446      0.00017806    0.97500\n",
      "342      39.99322915     -0.00677085      0.00017361    0.97500\n",
      "343      39.99339842     -0.00660158      0.00016927    0.97500\n",
      "344      39.99356346     -0.00643654      0.00016504    0.97500\n",
      "345      39.99372437     -0.00627563      0.00016091    0.97500\n",
      "346      39.99388127     -0.00611873      0.00015689    0.97500\n",
      "347      39.99403423     -0.00596577      0.00015297    0.97500\n",
      "348      39.99418338     -0.00581662      0.00014914    0.97500\n",
      "349      39.99432879     -0.00567121      0.00014542    0.97500\n",
      "350      39.99447057     -0.00552943      0.00014178    0.97500\n",
      "351      39.99460881     -0.00539119      0.00013824    0.97500\n",
      "352      39.99474359     -0.00525641      0.00013478    0.97500\n",
      "353      39.99487500     -0.00512500      0.00013141    0.97500\n",
      "354      39.99500312     -0.00499688      0.00012813    0.97500\n",
      "355      39.99512805     -0.00487195      0.00012492    0.97500\n",
      "356      39.99524984     -0.00475016      0.00012180    0.97500\n",
      "357      39.99536860     -0.00463140      0.00011875    0.97500\n",
      "358      39.99548438     -0.00451562      0.00011579    0.97500\n",
      "359      39.99559727     -0.00440273      0.00011289    0.97500\n",
      "360      39.99570734     -0.00429266      0.00011007    0.97500\n",
      "361      39.99581466     -0.00418534      0.00010732    0.97500\n",
      "362      39.99591929     -0.00408071      0.00010463    0.97500\n",
      "363      39.99602131     -0.00397869      0.00010202    0.97500\n",
      "364      39.99612078     -0.00387922      0.00009947    0.97500\n",
      "Convergence achieved!\n"
     ]
    }
   ],
   "source": [
    "beta=.975\n",
    "V0=0\n",
    "diff0=0\n",
    "print('{:<4} {:>15} {:>15} {:>15} {:>10}'.format('Iter','Value','Error','Delta','D-ratio'))\n",
    "for i in range(maxiter):\n",
    "    V1=T(V0)\n",
    "    diff1=V1-V0\n",
    "    if diff0==0:\n",
    "        print('{:<4d} {:>15.8f} {:>15.8f} {:>15.8f}'.format(i,V1,V1-(c/(1-beta)),diff1))\n",
    "    else:\n",
    "        print('{:<4d} {:>15.8f} {:>15.8f} {:>15.8f} {:>10.5f}'.format(i,V1,V1-(c/(1-beta)),diff1,diff1/diff0))\n",
    "    if abs(V1-V0)<epsilon:\n",
    "        break\n",
    "    V0=V1\n",
    "    diff0=diff1\n",
    "if i+1<maxiter:\n",
    "    print('Convergence achieved!')\n",
    "else:\n",
    "    print('No convergence: maximum number of iterations achieved!')\n"
   ]
  },
  {
   "cell_type": "code",
   "execution_count": 151,
   "metadata": {
    "slideshow": {
     "slide_type": "slide"
    }
   },
   "outputs": [
    {
     "data": {
      "image/png": "[encoded data removed]",
      "text/plain": [
       "<Figure size 864x576 with 1 Axes>"
      ]
     },
     "metadata": {},
     "output_type": "display_data"
    },
    {
     "data": {
      "image/png": "[encoded data removed]",
      "text/plain": [
       "<Figure size 864x576 with 1 Axes>"
      ]
     },
     "metadata": {},
     "output_type": "display_data"
    }
   ],
   "source": [
    "# matplotlib settings\n",
    "plt.rcParams['axes.autolimit_mode'] = 'round_numbers'\n",
    "plt.rcParams['axes.xmargin'] = 0\n",
    "plt.rcParams['axes.ymargin'] = 0\n",
    "plt.rcParams['patch.force_edgecolor'] = True\n",
    "from cycler import cycler\n",
    "plt.rcParams['axes.prop_cycle'] = cycler(color='bgrcmyk')\n",
    "\n",
    "maxiter=500\n",
    "fig1, ax1 = plt.subplots(figsize=(12,8))\n",
    "plt.grid(b=True, which='both', color='0.65', linestyle='-')\n",
    "ax1.set_title('Convergence for different values of the discount factor')\n",
    "ax1.set_xlabel('Iteration index')\n",
    "ax1.set_ylabel('Current approximation of the value')\n",
    "fig2, ax2 = plt.subplots(figsize=(12,8))\n",
    "plt.grid(b=True, which='both', color='0.65', linestyle='-')\n",
    "ax2.set_title('Convergence towards true value for different values of the discount factor')\n",
    "ax2.set_xlabel('Iteration index')\n",
    "ax2.set_ylabel('Difference between current value and analytic solution')\n",
    "\n",
    "for beta in (0.75,0.85,0.95):\n",
    "    V0=0\n",
    "    #solve for every beta\n",
    "    analytic=c/(1-beta)\n",
    "    data1=[]\n",
    "    data2=[]\n",
    "    for i in range(maxiter):\n",
    "        V1=T(V0)\n",
    "        data1.append(V1)\n",
    "        data2.append(analytic-V1)\n",
    "        if abs(V1-V0)<epsilon:\n",
    "            break\n",
    "        V0=V1\n",
    "    ax1.plot(range(i+1),data1,label='beta={:.2f}'.format(beta),linewidth=2.5)\n",
    "    ax2.plot(range(i+1),data2,label='beta={:.2f}'.format(beta),linewidth=2.5)\n",
    "plt.figure(1)\n",
    "plt.legend(loc=1)\n",
    "plt.savefig('annuity1.eps', format='eps', dpi=300)\n",
    "plt.figure(2)\n",
    "plt.legend(loc=1)\n",
    "plt.savefig('annuity2.eps', format='eps', dpi=300)\n",
    "plt.show()"
   ]
  },
  {
   "cell_type": "markdown",
   "metadata": {
    "slideshow": {
     "slide_type": "slide"
    }
   },
   "source": [
    "### Can we use Newton method?\n",
    "\n",
    "Solving Bellman equation (disregard it is elementary in this example)\n",
    "\n",
    "$$\n",
    "F(V)=V - T(V) =0, \\text{ where } T(V) = c + \\beta V\n",
    "$$\n",
    "\n",
    "Newton step:\n",
    "\n",
    "$$\n",
    "V_{i+1} = V_i - \\frac{F(V_i)}{F'(V_i)} = V_i - \\frac{V_i-T(V_i)}{1-T'(V_i)}\n",
    "$$\n",
    "\n",
    "$$\n",
    "V_{i+1} = V_i - \\frac{V_i(1-\\beta)-c}{1-\\beta} = \\frac{c}{1-\\beta}\n",
    "$$\n",
    "\n",
    "Solution is achieved in **a single step**\n",
    "\n"
   ]
  },
  {
   "cell_type": "markdown",
   "metadata": {
    "slideshow": {
     "slide_type": "slide"
    }
   },
   "source": [
    "### Cake eating problem\n",
    "\n",
    "![cake](img/cake.png)"
   ]
  },
  {
   "cell_type": "markdown",
   "metadata": {
    "slideshow": {
     "slide_type": "slide"
    }
   },
   "source": [
    "<img src=\"img/cake.png\" width=100px>\n",
    "- Cake of initial size $W_0$\n",
    "- **How much of the cake to eat each period $t$?**\n",
    "- Time is discrete, $t=1,2,\\dots$\n",
    "- What is not eaten in period $t$ is left for the future\n",
    "\n",
    "$$W_{t+1}=W_t-c_t$$"
   ]
  },
  {
   "cell_type": "markdown",
   "metadata": {
    "slideshow": {
     "slide_type": "slide"
    }
   },
   "source": [
    "<img src=\"img/cake.png\" width=100px>\n",
    "- Utility flow from cake consumption\n",
    "\n",
    "$$\n",
    "u(c_{t})=\\log(c_t)\n",
    "$$\n",
    "\n",
    "- Future is discounted with discount factor $\\beta$\n",
    "- Optimization problem: \n",
    "\n",
    "$$\n",
    "\\max_{\\{c_{t}\\}_{0}^{\\infty}}\\sum_{t=0}^{\\infty}\\beta^{t}u(c_{t})\n",
    "\\longrightarrow \\max\n",
    "$$"
   ]
  },
  {
   "cell_type": "markdown",
   "metadata": {
    "slideshow": {
     "slide_type": "slide"
    }
   },
   "source": [
    "<img src=\"img/cake.png\" width=100px>\n",
    "**Value function $V(W_t)$** = the maximum attainable value given the size of cake $W_t$ (in period $t$)\n",
    "\n",
    "$$\n",
    "\\begin{eqnarray*}\n",
    "  V(W_{0}) & = & \\max_{\\{c_{t}\\}_{0}^{\\infty}}\\sum_{t=0}^{\\infty}\\beta^{t}u(c_{t})\\\\\n",
    "  & = & \\max_{c_{0}}\\{u(c_{0})+\\beta\\max_{\\{c_{t}\\}_{1}^{\\infty}}\\sum_{t=1}^{\\infty}\\beta^{t-1}u(c_{t})\\}\\\\\n",
    "  & = & \\max_{c_{0}}\\{u(c_{0})+\\beta V(W_{1})\\}\n",
    "\\end{eqnarray*}\n",
    "$$"
   ]
  },
  {
   "cell_type": "markdown",
   "metadata": {
    "slideshow": {
     "slide_type": "slide"
    }
   },
   "source": [
    "<img src=\"img/cake.png\" width=100px>\n",
    "**Bellman equation**\n",
    "\n",
    "$$\n",
    "V(W_{t})=\\max_{0 \\le c_{t} \\le W_t}\\big\\{u(c_{t})+\\beta V(\\underset{=W_{t}-c_{t}}{\\underbrace{W_{t+1}}})\\big\\}\n",
    "$$"
   ]
  },
  {
   "cell_type": "markdown",
   "metadata": {
    "slideshow": {
     "slide_type": "slide"
    }
   },
   "source": [
    "- **State variables**  — vector of variables that describe all relevant information about the modeled decision process, $W_t$\n",
    "- **Decision variables** — vector of variables describing the choices, $c_t$\n",
    "- **Instantaneous payoff** — utility function, $u(c_t)$, with time separable discounted utility\n",
    "- **Motion rules** — agent's beliefs of how state variable evolve through time, conditional on choices, $W_{t+1}=W_t-c_t$\n",
    "- **Value function** — maximum attainable utility, $V(W_t)$\n",
    "- **Policy function** — mapping from state space to action space that returns the optimal choice, $c^{\\star}(W_t)$"
   ]
  },
  {
   "cell_type": "markdown",
   "metadata": {
    "slideshow": {
     "slide_type": "slide"
    }
   },
   "source": [
    "### Cake eating: analytic solution\n",
    "- Start with a (good) guess of $V(W)=A+B\\log W$\n",
    "$$\n",
    "\\begin{eqnarray*}\n",
    "  V(W) & = & \\max_{c}\\big\\{u(c)+\\beta V(W-c)\\big\\} \\\\\n",
    "  A+B\\log W & = & \\max_{c} \\big\\{\\log c+\\beta(A+B\\log (W-c)) \\big\\}\n",
    "\\end{eqnarray*}\n",
    "$$\n",
    "- Determine $A$ and $B$ and find the optimal rule for cake consumption.\n",
    "- This is only possible in **few** models!\n",
    "\n",
    "$$\n",
    "c^{\\star}(W) = \\arg\\max_{c}\\big\\{\\log(c)+\\beta V(W-c)\\big\\} = (1-\\beta)W\n",
    "$$\n"
   ]
  },
  {
   "cell_type": "markdown",
   "metadata": {
    "slideshow": {
     "slide_type": "slide"
    }
   },
   "source": [
    "### Cake eating: numeric solution\n",
    "- Value of annuity: \n",
    "$$\n",
    "{V} = c + \\beta {V}\n",
    "$$\n",
    "\n",
    "- Cake eating: \n",
    "$$\n",
    "{V(}W{)} = \\max_{0 \\le c \\le W} \\big\\{u(c)+\\beta {V(}W-c{)} \\big \\}\n",
    "$$\n",
    "\n",
    "- Have to solve the {functional equation} for $V(W)$\n",
    "\\medskip\n",
    "- The Bellman operator in functional space\n",
    "$$\n",
    "T({V})(W) \\equiv \\max_{0 \\le c \\le W}\\{u(c)+\\beta {V}(W-c)\\}\n",
    "$$\n",
    "\n",
    "\n",
    "- The Bellman equations is then $V(W) = T({V})(W)$, with the solution given by the fixed point\n"
   ]
  },
  {
   "cell_type": "markdown",
   "metadata": {
    "slideshow": {
     "slide_type": "slide"
    }
   },
   "source": [
    "### Can we find the fixed point by iterations?\n",
    "- Need contraction property for $T(V)(W)$\n",
    "- Blackwell sufficient conditions for contraction\n",
    "  1. Monotonicity: satisfied due to maximization in $T(V)(W)$\n",
    "  2. Discounting: satisfied by elementary argument when $\\beta<1$\n",
    "- The Bellman operator is a **contraction mapping**!"
   ]
  },
  {
   "cell_type": "markdown",
   "metadata": {
    "slideshow": {
     "slide_type": "slide"
    }
   },
   "source": [
    "### Contraction mapping theorem (Banach Fixed Point Theorem)\n",
    "Let $(S,\\rho)$ be a complete metric space with a contraction mapping $T: S \\rightarrow S$.\n",
    "Then \n",
    "1. $T$ admits a unique fixed-point $V^{\\star} \\in S$, i.e. $T(V^{\\star}) = V^{\\star}$. \n",
    "2. $V^{\\star}$ can be found by repeated application of the operator $T$, i.e. $T^n(V) \\rightarrow V^{\\star}$ as $n\\rightarrow \\infty$.\n"
   ]
  },
  {
   "cell_type": "markdown",
   "metadata": {
    "slideshow": {
     "slide_type": "slide"
    }
   },
   "source": [
    "### Value function iterations (VFI)\n",
    "1. Start with an arbitrary guess $V_0(W)$\n",
    "2. At each iteration $i$ compute \n",
    "\n",
    "$$\n",
    "\\begin{eqnarray*}\n",
    "V_i(W) = T(V_{i-1})(W) &=& \n",
    "\\max_{0 \\le c \\le W} \\big\\{u(c)+\\beta V_{i-1}(W-c) \\big \\}  \\\\\n",
    "c_{i-1}(W) &=& \n",
    "\\underset{0 \\le c \\le W}{\\arg\\max} \\big\\{u(c)+\\beta V_{i-1}(W-c) \\big \\} \n",
    "\\end{eqnarray*}\n",
    "$$\n",
    "\n",
    "3. Repeat until convergence \n",
    "\n",
    "$$\n",
    "||V_{i}(W)-V_{i-1}(W)||\\leq\\varepsilon\\text{ (small number,} ||\\cdot|| \\text{ sup norm)}\n",
    "$$\n"
   ]
  },
  {
   "cell_type": "markdown",
   "metadata": {
    "slideshow": {
     "slide_type": "slide"
    }
   },
   "source": [
    "### The contraction mapping theorem implies\n",
    "\n",
    "- Unique fixed point $\\Leftrightarrow$ unique solution to the Bellman equation\n",
    "- The fixed point can be reached by an iterative process using an **arbitrary\n",
    "initial guess**!\n",
    "- Therefore VFI algorithm converges globally\n"
   ]
  },
  {
   "cell_type": "markdown",
   "metadata": {
    "slideshow": {
     "slide_type": "slide"
    }
   },
   "source": [
    "### Numerical implementation of the Bellman operator\n",
    "- Cake is continuous $\\rightarrow$ value function is a function of continuous variable\n",
    "- Solution: **discretize $W$**  \n",
    "Construct a _grid_ (vector) of cake-sizes  $\\vec{W}\\in\\{0,\\dots\\overline{W}\\}$\n",
    "\n",
    "$$V_{i}(\\vec{W})=\\max_{0 \\le c \\le \\vec{W}}\\{u(c)+\\beta V_{i-1}(\\vec{W}-c)\\}$$\n",
    "\n",
    "- Compute value and policy function sequentially point-by-point\n",
    "- May need to compute the value function _between grid points_\n",
    "$\\Rightarrow$\n",
    "Interpolation and function approximation"
   ]
  },
  {
   "cell_type": "markdown",
   "metadata": {
    "slideshow": {
     "slide_type": "slide"
    }
   },
   "source": [
    "### Can interpolation be avoided?\n",
    "- Note that conditional on $W_t$, the choice of $c$ defines $W_{t+1}$ \n",
    "- Can replace $c$ with $W_{t+1}$ in Bellman equation so that _next period cake size is the decision variable_\n",
    "- \"Dual\" formulation of the same problem \n",
    "\n",
    "$$\n",
    "V_{i}(\\vec{W})=\\max_{0 \\le \\vec{W}' \\le \\vec{W}}\\{u(\\vec{W}-\\vec{W}')+\\beta V_{i-1}(\\vec{W}')\\}\n",
    "$$\n",
    "\n",
    "- Compute value and policy function sequentially point-by-point\n",
    "- Note that grid $\\vec{W}\\in\\{0,\\dots\\overline{W}\\}$ is used twice: for state space and for decision space\n",
    "- _Can you spot the potential problem?_"
   ]
  },
  {
   "cell_type": "code",
   "execution_count": 152,
   "metadata": {
    "slideshow": {
     "slide_type": "slide"
    }
   },
   "outputs": [
    {
     "name": "stdout",
     "output_type": "stream",
     "text": [
      "Numerical solution:\n",
      "V(W)=  [[-360.43568538 -325.9812672  -294.97229083 -267.0642121  -241.94694125\n",
      "  -219.34139747 -198.99640808 -180.68591763 -164.20647622 -149.37497895\n",
      "  -136.02663141 -124.01311862 -113.20095711 -103.47001176  -94.71216094\n",
      "   -86.8300952   -79.73623603  -73.35176278  -67.60573686  -62.43431353\n",
      "   -57.78003253  -53.59117963  -49.82121202  -46.42824117  -43.37456741\n",
      "   -40.62626102  -38.15278527  -35.9266571   -33.92314174  -32.11997792\n",
      "   -30.49713049  -29.03656779  -27.72206137  -26.53900558  -25.47425538\n",
      "   -24.5159802   -23.65353253  -22.87732963  -22.17874702  -21.48559984\n",
      "   -20.85687549  -20.23304303  -19.66719112  -19.1057419   -18.59647518\n",
      "   -18.09117088  -17.63283083  -17.17805697  -16.76555092  -16.35625445]]\n",
      "W =  [[2.22044605e-16 2.04081633e-01 4.08163265e-01 6.12244898e-01\n",
      "  8.16326531e-01 1.02040816e+00 1.22448980e+00 1.42857143e+00\n",
      "  1.63265306e+00 1.83673469e+00 2.04081633e+00 2.24489796e+00\n",
      "  2.44897959e+00 2.65306122e+00 2.85714286e+00 3.06122449e+00\n",
      "  3.26530612e+00 3.46938776e+00 3.67346939e+00 3.87755102e+00\n",
      "  4.08163265e+00 4.28571429e+00 4.48979592e+00 4.69387755e+00\n",
      "  4.89795918e+00 5.10204082e+00 5.30612245e+00 5.51020408e+00\n",
      "  5.71428571e+00 5.91836735e+00 6.12244898e+00 6.32653061e+00\n",
      "  6.53061224e+00 6.73469388e+00 6.93877551e+00 7.14285714e+00\n",
      "  7.34693878e+00 7.55102041e+00 7.75510204e+00 7.95918367e+00\n",
      "  8.16326531e+00 8.36734694e+00 8.57142857e+00 8.77551020e+00\n",
      "  8.97959184e+00 9.18367347e+00 9.38775510e+00 9.59183673e+00\n",
      "  9.79591837e+00 1.00000000e+01]]\n",
      "Convergence achieved!\n"
     ]
    }
   ],
   "source": [
    "# Setup\n",
    "beta=.9        # Discount factor\n",
    "Wbar=10        # Upper bound on cake size\n",
    "ngrid=50       # Number of grid points\n",
    "maxiter=1000   # Maximum number of iterations\n",
    "epsilon=1e-4   # Small number\n",
    "\n",
    "machine_epsilon=np.finfo(float).eps #smallest positive float number\n",
    "grid=np.linspace(machine_epsilon,Wbar,ngrid).reshape(1,ngrid) #grid for both state and decision space\n",
    "\n",
    "def Bellman(V0):\n",
    "    #Bellman operator, V0 is vector-row of values on grid\n",
    "    matW=np.repeat(grid,ngrid,0) #matrix with state space repeated in rows\n",
    "    matWpr=np.repeat(np.transpose(grid),ngrid,1) #matrix with decision space repeated in columns\n",
    "    matV0=np.repeat(np.transpose(V0),ngrid,1) #current value function repeated in columns\n",
    "    c=matW-matWpr #level of cake consumtpion in current period\n",
    "    c[c==0]=machine_epsilon #add small quantity to avoid log(0)\n",
    "    mask=c>0 #mask off infeasible choices\n",
    "    preV=-np.inf*np.ones((ngrid,ngrid)) #prepare space for trial values for all possible choices\n",
    "    preV[mask]=np.log(c[mask])+beta*matV0[mask] #maximand of the Bellman equation\n",
    "    V1=np.amax(preV,0,keepdims=True) #maximum in every column\n",
    "    return V1\n",
    "\n",
    "V0=np.log(grid)\n",
    "for i in range(maxiter):\n",
    "    V1=Bellman(V0)\n",
    "    if np.max(abs(V1-V0))<epsilon:\n",
    "        break\n",
    "    V0=V1\n",
    "\n",
    "print('Numerical solution:\\nV(W)= ', V1)\n",
    "print('W = ', grid)\n",
    "\n",
    "if i+1<maxiter:\n",
    "    print('Convergence achieved!')\n",
    "else:\n",
    "    print('No convergence: maximum number of iterations achieved!')\n",
    "    "
   ]
  },
  {
   "cell_type": "markdown",
   "metadata": {
    "slideshow": {
     "slide_type": "slide"
    }
   },
   "source": [
    "#### Convergence behavior\n",
    "\n",
    "Exercise: change the value of $\\beta$, $V_0$, $ngrid$"
   ]
  },
  {
   "cell_type": "code",
   "execution_count": 153,
   "metadata": {
    "slideshow": {
     "slide_type": "slide"
    }
   },
   "outputs": [
    {
     "name": "stdout",
     "output_type": "stream",
     "text": [
      "Iter           Delta    D-ratio\n",
      "0      36.0436533891\n",
      "1      32.4392880502    0.90000\n",
      "2      29.1953592452    0.90000\n",
      "3      26.2758233207    0.90000\n",
      "4      23.6482409886    0.90000\n",
      "5      21.2834168897    0.90000\n",
      "6      19.1550752008    0.90000\n",
      "7      17.2395676807    0.90000\n",
      "8      15.5156109126    0.90000\n",
      "9      13.9640498214    0.90000\n",
      "10     12.5676448392    0.90000\n",
      "11     11.3108803553    0.90000\n",
      "12     10.1797923198    0.90000\n",
      "13      9.1618130878    0.90000\n",
      "14      8.2456317790    0.90000\n",
      "15      7.4210686011    0.90000\n",
      "16      6.6789617410    0.90000\n",
      "17      6.0110655669    0.90000\n",
      "18      5.4099590102    0.90000\n",
      "19      4.8689631092    0.90000\n",
      "20      4.3820667983    0.90000\n",
      "21      3.9438601184    0.90000\n",
      "22      3.5494741066    0.90000\n",
      "23      3.1945266959    0.90000\n",
      "24      2.8750740263    0.90000\n",
      "25      2.5875666237    0.90000\n",
      "26      2.3288099613    0.90000\n",
      "27      2.0959289652    0.90000\n",
      "28      1.8863360687    0.90000\n",
      "29      1.6977024618    0.90000\n",
      "30      1.5279322156    0.90000\n",
      "31      1.3751389941    0.90000\n",
      "32      1.2376250947    0.90000\n",
      "33      1.1138625852    0.90000\n",
      "34      1.0024763267    0.90000\n",
      "35      0.9022286940    0.90000\n",
      "36      0.8120058246    0.90000\n",
      "37      0.7308052421    0.90000\n",
      "38      0.6577247179    0.90000\n",
      "39      0.5919522461    0.90000\n",
      "40      0.5327570215    0.90000\n",
      "41      0.4794813194    0.90000\n",
      "42      0.4315331874    0.90000\n",
      "43      0.3883798687    0.90000\n",
      "44      0.3495418818    0.90000\n",
      "45      0.3145876936    0.90000\n",
      "46      0.2831289243    0.90000\n",
      "47      0.2548160318    0.90000\n",
      "48      0.2293344287    0.90000\n",
      "49      0.2064009858    0.90000\n",
      "50      0.1857608872    0.90000\n",
      "51      0.1671847985    0.90000\n",
      "52      0.1504663186    0.90000\n",
      "53      0.1354196868    0.90000\n",
      "54      0.1218777181    0.90000\n",
      "55      0.1096899463    0.90000\n",
      "56      0.0987209517    0.90000\n",
      "57      0.0888488565    0.90000\n",
      "58      0.0799639708    0.90000\n",
      "59      0.0719675738    0.90000\n",
      "60      0.0647708164    0.90000\n",
      "61      0.0582937347    0.90000\n",
      "62      0.0524643613    0.90000\n",
      "63      0.0472179251    0.90000\n",
      "64      0.0424961326    0.90000\n",
      "65      0.0382465194    0.90000\n",
      "66      0.0344218674    0.90000\n",
      "67      0.0309796807    0.90000\n",
      "68      0.0278817126    0.90000\n",
      "69      0.0250935414    0.90000\n",
      "70      0.0225841872    0.90000\n",
      "71      0.0203257685    0.90000\n",
      "72      0.0182931916    0.90000\n",
      "73      0.0164638725    0.90000\n",
      "74      0.0148174852    0.90000\n",
      "75      0.0133357367    0.90000\n",
      "76      0.0120021630    0.90000\n",
      "77      0.0108019467    0.90000\n",
      "78      0.0097217521    0.90000\n",
      "79      0.0087495769    0.90000\n",
      "80      0.0078746192    0.90000\n",
      "81      0.0070871573    0.90000\n",
      "82      0.0063784415    0.90000\n",
      "83      0.0057405974    0.90000\n",
      "84      0.0051665376    0.90000\n",
      "85      0.0046498839    0.90000\n",
      "86      0.0041848955    0.90000\n",
      "87      0.0037664059    0.90000\n",
      "88      0.0033897653    0.90000\n",
      "89      0.0030507888    0.90000\n",
      "90      0.0027457099    0.90000\n",
      "91      0.0024711389    0.90000\n",
      "92      0.0022240250    0.90000\n",
      "93      0.0020016225    0.90000\n",
      "94      0.0018014603    0.90000\n",
      "95      0.0016213143    0.90000\n",
      "96      0.0014591828    0.90000\n",
      "97      0.0013132645    0.90000\n",
      "98      0.0011819381    0.90000\n",
      "99      0.0010637443    0.90000\n",
      "100     0.0009573699    0.90000\n",
      "101     0.0008616329    0.90000\n",
      "102     0.0007754696    0.90000\n",
      "103     0.0006979226    0.90000\n",
      "104     0.0006281304    0.90000\n",
      "105     0.0005653173    0.90000\n",
      "106     0.0005087856    0.90000\n",
      "107     0.0004579070    0.90000\n",
      "108     0.0004121163    0.90000\n",
      "109     0.0003709047    0.90000\n",
      "110     0.0003338142    0.90000\n",
      "111     0.0003004328    0.90000\n",
      "112     0.0002703895    0.90000\n",
      "113     0.0002433506    0.90000\n",
      "114     0.0002190155    0.90000\n",
      "115     0.0001971140    0.90000\n",
      "116     0.0001774026    0.90000\n",
      "117     0.0001596623    0.90000\n",
      "118     0.0001436961    0.90000\n",
      "119     0.0001293265    0.90000\n",
      "120     0.0001163938    0.90000\n",
      "121     0.0001047544    0.90000\n",
      "122     0.0000942790    0.90000\n",
      "Convergence achieved!\n"
     ]
    }
   ],
   "source": [
    "beta=.9\n",
    "# V0=np.log(grid)\n",
    "V0=np.zeros((1,ngrid))\n",
    "\n",
    "print('{:<4} {:>15} {:>10}'.format('Iter','Delta','D-ratio'))\n",
    "diff0=0\n",
    "for i in range(maxiter):\n",
    "    V1=Bellman(V0)\n",
    "    diff1=np.max(abs(V1-V0))\n",
    "    if diff0==0:\n",
    "        print('{:<4d} {:>15.10f}'.format(i,diff1))\n",
    "    else:\n",
    "        print('{:<4d} {:>15.10f} {:>10.5f}'.format(i,diff1,diff1/diff0))\n",
    "    if np.max(abs(V1-V0))<epsilon:\n",
    "        break\n",
    "    V0=V1\n",
    "    diff0=diff1\n",
    "if i+1<maxiter:\n",
    "    print('Convergence achieved!')\n",
    "else:\n",
    "    print('No convergence: maximum number of iterations achieved!')\n"
   ]
  },
  {
   "cell_type": "code",
   "execution_count": 154,
   "metadata": {
    "slideshow": {
     "slide_type": "slide"
    }
   },
   "outputs": [
    {
     "data": {
      "image/png": "[encoded data removed]",
      "text/plain": [
       "<Figure size 864x576 with 1 Axes>"
      ]
     },
     "metadata": {},
     "output_type": "display_data"
    }
   ],
   "source": [
    "plt.rcParams['axes.autolimit_mode'] = 'round_numbers'\n",
    "plt.rcParams['axes.xmargin'] = 0\n",
    "plt.rcParams['axes.ymargin'] = 0\n",
    "plt.rcParams['patch.force_edgecolor'] = True\n",
    "from cycler import cycler\n",
    "plt.rcParams['axes.prop_cycle'] = cycler(color='bgrcmyk')\n",
    "\n",
    "fig1, ax1 = plt.subplots(figsize=(12,8))\n",
    "plt.grid(b=True, which='both', color='0.65', linestyle='-')\n",
    "ax1.set_title('Value function convergence with VFI')\n",
    "ax1.set_xlabel('Cake size, W')\n",
    "ax1.set_ylabel('Value function')\n",
    "\n",
    "beta=.9\n",
    "maxiter=500\n",
    "V0=np.log(grid)\n",
    "V0=np.zeros((1,ngrid))\n",
    "for i in range(maxiter):\n",
    "    V1=Bellman(V0)\n",
    "    if i<5 or i%10==0:\n",
    "        ax1.plot(np.squeeze(grid[0][1:]),np.squeeze(V1[0][1:]),label='iter={:3d}'.format(i),linewidth=2.5)\n",
    "    diff1=np.max(V1-V0)\n",
    "    if np.max(abs(V1-V0))<epsilon:\n",
    "        break\n",
    "    V0=V1\n",
    "\n",
    "plt.legend(loc=4)\n",
    "plt.savefig('cake1value.eps', format='eps', dpi=300)\n",
    "plt.show()\n",
    "\n"
   ]
  },
  {
   "cell_type": "markdown",
   "metadata": {
    "slideshow": {
     "slide_type": "slide"
    }
   },
   "source": [
    "### How to measure numerical errors?\n",
    "- In our case there is an analytic solution\n",
    "\n",
    "$$\n",
    "c^{\\star}(W) = (1-\\beta)W\n",
    "$$\n",
    "\n",
    "$$\n",
    "V(W) = \\log((1-\\beta)W) + \\beta V(\\beta W)\n",
    "$$\n",
    "\n",
    "- Typically very dense (slow) grid is used in place of true solution\n",
    "- Can control for max or mean error at the grid points of value and policy functions"
   ]
  },
  {
   "cell_type": "markdown",
   "metadata": {
    "slideshow": {
     "slide_type": "slide"
    }
   },
   "source": [
    "## Cake eating with discretized choices\n",
    "\n",
    "_Control for grid over state space separately from the discretization of the choice variables to increase accuracy_\n",
    "\n",
    "- As before solve cake eating Bellman equation by VFI\n",
    "\n",
    "$$V(W) = \\max_{0 \\le c \\le W} \\big\\{u(c)+\\beta V(W-c) \\big \\}$$"
   ]
  },
  {
   "cell_type": "markdown",
   "metadata": {
    "slideshow": {
     "slide_type": "slide"
    }
   },
   "source": [
    "- Discretize state space with $\\vec{W}\\in\\{0,\\dots\\overline{W}\\}$\n",
    "\n",
    "- Discretize decision space with $\\vec{D}\\in\\{0,\\dots\\overline{D}\\}$, usually $\\overline{D}=\\overline{W}$\n",
    "\n",
    "$$V_{i}(\\vec{W})=\\max_{0 \\le \\vec{D} \\le \\vec{W}}\\{u(c)+\\beta V_{i-1}(\\vec{W}-c)\\}$$\n",
    "\n",
    "- Compute value/policy function point-by-point on grid $\\vec{W}$\n",
    "- Find the maximum over the points of grid $\\vec{D}$ that satisfy the choice set condition $0 \\le \\vec{D} \\le W$"
   ]
  },
  {
   "cell_type": "markdown",
   "metadata": {
    "slideshow": {
     "slide_type": "slide"
    }
   },
   "source": [
    "### Value function interpolation\n",
    "- In each iteration, the value function $V_{i}(\\vec{W})$ is computed on a set of grid points\n",
    "- But for iteration $i+1$ we need to compute $V_{i}(\\vec{W}-c)\\}=V_{i}(\\vec{W}-\\vec{D})\\}$\n",
    "- **Interpolation of the value function**"
   ]
  },
  {
   "cell_type": "code",
   "execution_count": 155,
   "metadata": {
    "slideshow": {
     "slide_type": "slide"
    }
   },
   "outputs": [
    {
     "name": "stdout",
     "output_type": "stream",
     "text": [
      "Numerical solution:\n",
      "V(W)=  [[-360.43568538 -298.55863455 -248.02570971 -206.75715443 -173.05450094\n",
      "  -145.53066727 -123.05286976 -104.6960018   -89.70455963  -77.46154853\n",
      "   -67.46308946  -59.29768122  -52.62926449  -47.18339083  -42.73592734\n",
      "   -39.10383215  -36.13762109  -33.71521538  -31.73691739  -30.12130736\n",
      "   -28.69551763  -27.41361493  -26.26107856  -25.2248532   -24.29320104\n",
      "   -23.45556882  -22.6693618   -21.93933539  -21.25779645  -20.62325323\n",
      "   -20.0266352   -19.45623585  -18.91975632  -18.40701364  -17.92461364\n",
      "   -17.46369691  -17.02128063  -16.59727636  -16.19119697  -15.80172618\n",
      "   -15.42716427  -15.06214578  -14.71202868  -14.37518323  -14.04707299\n",
      "   -13.73232955  -13.4250673   -13.12611519  -12.83725634  -12.55759182]]\n",
      "W =  [[2.22044605e-16 2.04081633e-01 4.08163265e-01 6.12244898e-01\n",
      "  8.16326531e-01 1.02040816e+00 1.22448980e+00 1.42857143e+00\n",
      "  1.63265306e+00 1.83673469e+00 2.04081633e+00 2.24489796e+00\n",
      "  2.44897959e+00 2.65306122e+00 2.85714286e+00 3.06122449e+00\n",
      "  3.26530612e+00 3.46938776e+00 3.67346939e+00 3.87755102e+00\n",
      "  4.08163265e+00 4.28571429e+00 4.48979592e+00 4.69387755e+00\n",
      "  4.89795918e+00 5.10204082e+00 5.30612245e+00 5.51020408e+00\n",
      "  5.71428571e+00 5.91836735e+00 6.12244898e+00 6.32653061e+00\n",
      "  6.53061224e+00 6.73469388e+00 6.93877551e+00 7.14285714e+00\n",
      "  7.34693878e+00 7.55102041e+00 7.75510204e+00 7.95918367e+00\n",
      "  8.16326531e+00 8.36734694e+00 8.57142857e+00 8.77551020e+00\n",
      "  8.97959184e+00 9.18367347e+00 9.38775510e+00 9.59183673e+00\n",
      "  9.79591837e+00 1.00000000e+01]]\n",
      "Convergence achieved!\n"
     ]
    }
   ],
   "source": [
    "# Setup\n",
    "beta=.9           # Discount factor\n",
    "Wbar=10           # Upper bound on cake size\n",
    "ngrid_state=50     # Number of grid points for the state space\n",
    "ngrid_decision=100 # Number of grid points for the state space\n",
    "maxiter=1000      # Maximum number of iterations\n",
    "epsilon=1e-4      # Small number\n",
    "\n",
    "machine_epsilon=np.finfo(float).eps #smallest positive float number\n",
    "grid_state=np.linspace(machine_epsilon,Wbar,ngrid_state).reshape(1,ngrid_state) #grid for state space\n",
    "grid_decision=np.linspace(machine_epsilon,Wbar,ngrid_decision).reshape(ngrid_decision,1) #grid for decision space\n",
    "\n",
    "def Bellman(V0):\n",
    "    #Bellman operator, V0 is vector-row of values on grid\n",
    "    matW=np.repeat(grid_state,ngrid_decision,0) #matrix with state space repeated in rows\n",
    "    c=np.repeat(grid_decision,ngrid_state,1) #decisions grid repeated by columns\n",
    "    matWpr=matW-c #size of cake in the next period\n",
    "    matWpr[matWpr==0]=machine_epsilon #add small quantity to avoid log(0)\n",
    "    mask=matWpr>0 #mask off infeasible choices\n",
    "    matV=np.interp(matWpr,np.squeeze(grid_state),np.squeeze(V0)) #values of next period value at next period case sizes\n",
    "    preV=-np.inf*np.ones((ngrid_decision,ngrid_state)) #prepare space for trial values for all possible choices\n",
    "    preV[mask]=np.log(c[mask])+beta*matV[mask] #maximand of the Bellman equation\n",
    "    V1=np.amax(preV,0,keepdims=True) #maximum in every column\n",
    "    return V1\n",
    "\n",
    "V0=np.log(grid_state)\n",
    "for i in range(maxiter):\n",
    "    V1=Bellman(V0)\n",
    "    if np.max(abs(V1-V0))<epsilon:\n",
    "        break\n",
    "    V0=V1\n",
    "\n",
    "print('Numerical solution:\\nV(W)= ', V1)\n",
    "print('W = ', grid_state)\n",
    "\n",
    "if i+1<maxiter:\n",
    "    print('Convergence achieved!')\n",
    "else:\n",
    "    print('No convergence: maximum number of iterations achieved!')\n",
    "    "
   ]
  },
  {
   "cell_type": "code",
   "execution_count": 156,
   "metadata": {
    "slideshow": {
     "slide_type": "slide"
    }
   },
   "outputs": [
    {
     "name": "stdout",
     "output_type": "stream",
     "text": [
      "Iter           Delta    D-ratio\n",
      "0      36.0436533891\n",
      "1      32.4392880502    0.90000\n",
      "2      29.1953592452    0.90000\n",
      "3      26.2758233207    0.90000\n",
      "4      23.6482409886    0.90000\n",
      "5      21.2834168897    0.90000\n",
      "6      19.1550752008    0.90000\n",
      "7      17.2395676807    0.90000\n",
      "8      15.5156109126    0.90000\n",
      "9      13.9640498214    0.90000\n",
      "10     12.5676448392    0.90000\n",
      "11     11.3108803553    0.90000\n",
      "12     10.1797923198    0.90000\n",
      "13      9.1618130878    0.90000\n",
      "14      8.2456317790    0.90000\n",
      "15      7.4210686011    0.90000\n",
      "16      6.6789617410    0.90000\n",
      "17      6.0110655669    0.90000\n",
      "18      5.4099590102    0.90000\n",
      "19      4.8689631092    0.90000\n",
      "20      4.3820667983    0.90000\n",
      "21      3.9438601184    0.90000\n",
      "22      3.5494741066    0.90000\n",
      "23      3.1945266959    0.90000\n",
      "24      2.8750740263    0.90000\n",
      "25      2.5875666237    0.90000\n",
      "26      2.3288099613    0.90000\n",
      "27      2.0959289652    0.90000\n",
      "28      1.8863360687    0.90000\n",
      "29      1.6977024618    0.90000\n",
      "30      1.5279322156    0.90000\n",
      "31      1.3751389941    0.90000\n",
      "32      1.2376250947    0.90000\n",
      "33      1.1138625852    0.90000\n",
      "34      1.0024763267    0.90000\n",
      "35      0.9022286940    0.90000\n",
      "36      0.8120058246    0.90000\n",
      "37      0.7308052421    0.90000\n",
      "38      0.6577247179    0.90000\n",
      "39      0.5919522461    0.90000\n",
      "40      0.5327570215    0.90000\n",
      "41      0.4794813194    0.90000\n",
      "42      0.4315331874    0.90000\n",
      "43      0.3883798687    0.90000\n",
      "44      0.3495418818    0.90000\n",
      "45      0.3145876936    0.90000\n",
      "46      0.2831289243    0.90000\n",
      "47      0.2548160318    0.90000\n",
      "48      0.2293344287    0.90000\n",
      "49      0.2064009858    0.90000\n",
      "50      0.1857608872    0.90000\n",
      "51      0.1671847985    0.90000\n",
      "52      0.1504663186    0.90000\n",
      "53      0.1354196868    0.90000\n",
      "54      0.1218777181    0.90000\n",
      "55      0.1096899463    0.90000\n",
      "56      0.0987209517    0.90000\n",
      "57      0.0888488565    0.90000\n",
      "58      0.0799639708    0.90000\n",
      "59      0.0719675738    0.90000\n",
      "60      0.0647708164    0.90000\n",
      "61      0.0582937347    0.90000\n",
      "62      0.0524643613    0.90000\n",
      "63      0.0472179251    0.90000\n",
      "64      0.0424961326    0.90000\n",
      "65      0.0382465194    0.90000\n",
      "66      0.0344218674    0.90000\n",
      "67      0.0309796807    0.90000\n",
      "68      0.0278817126    0.90000\n",
      "69      0.0250935414    0.90000\n",
      "70      0.0225841872    0.90000\n",
      "71      0.0203257685    0.90000\n",
      "72      0.0182931916    0.90000\n",
      "73      0.0164638725    0.90000\n",
      "74      0.0148174852    0.90000\n",
      "75      0.0133357367    0.90000\n",
      "76      0.0120021630    0.90000\n",
      "77      0.0108019467    0.90000\n",
      "78      0.0097217521    0.90000\n",
      "79      0.0087495769    0.90000\n",
      "80      0.0078746192    0.90000\n",
      "81      0.0070871573    0.90000\n",
      "82      0.0063784415    0.90000\n",
      "83      0.0057405974    0.90000\n",
      "84      0.0051665376    0.90000\n",
      "85      0.0046498839    0.90000\n",
      "86      0.0041848955    0.90000\n",
      "87      0.0037664059    0.90000\n",
      "88      0.0033897653    0.90000\n",
      "89      0.0030507888    0.90000\n",
      "90      0.0027457099    0.90000\n",
      "91      0.0024711389    0.90000\n",
      "92      0.0022240250    0.90000\n",
      "93      0.0020016225    0.90000\n",
      "94      0.0018014603    0.90000\n",
      "95      0.0016213143    0.90000\n",
      "96      0.0014591828    0.90000\n",
      "97      0.0013132645    0.90000\n",
      "98      0.0011819381    0.90000\n",
      "99      0.0010637443    0.90000\n",
      "100     0.0009573699    0.90000\n",
      "101     0.0008616329    0.90000\n",
      "102     0.0007754696    0.90000\n",
      "103     0.0006979226    0.90000\n",
      "104     0.0006281304    0.90000\n",
      "105     0.0005653173    0.90000\n",
      "106     0.0005087856    0.90000\n",
      "107     0.0004579070    0.90000\n",
      "108     0.0004121163    0.90000\n",
      "109     0.0003709047    0.90000\n",
      "110     0.0003338142    0.90000\n",
      "111     0.0003004328    0.90000\n",
      "112     0.0002703895    0.90000\n",
      "113     0.0002433506    0.90000\n",
      "114     0.0002190155    0.90000\n",
      "115     0.0001971140    0.90000\n",
      "116     0.0001774026    0.90000\n",
      "117     0.0001596623    0.90000\n",
      "118     0.0001436961    0.90000\n",
      "119     0.0001293265    0.90000\n",
      "120     0.0001163938    0.90000\n",
      "121     0.0001047544    0.90000\n",
      "122     0.0000942790    0.90000\n",
      "Convergence achieved!\n"
     ]
    }
   ],
   "source": [
    "beta=.9\n",
    "# V0=np.log(grid_state)\n",
    "V0=np.zeros((1,ngrid_state))\n",
    "\n",
    "print('{:<4} {:>15} {:>10}'.format('Iter','Delta','D-ratio'))\n",
    "diff0=0\n",
    "for i in range(maxiter):\n",
    "    V1=Bellman(V0)\n",
    "    diff1=np.max(abs(V1-V0))\n",
    "    if diff0==0:\n",
    "        print('{:<4d} {:>15.10f}'.format(i,diff1))\n",
    "    else:\n",
    "        print('{:<4d} {:>15.10f} {:>10.5f}'.format(i,diff1,diff1/diff0))\n",
    "    if np.max(abs(V1-V0))<epsilon:\n",
    "        break\n",
    "    V0=V1\n",
    "    diff0=diff1\n",
    "if i+1<maxiter:\n",
    "    print('Convergence achieved!')\n",
    "else:\n",
    "    print('No convergence: maximum number of iterations achieved!')\n"
   ]
  },
  {
   "cell_type": "code",
   "execution_count": 157,
   "metadata": {
    "scrolled": true,
    "slideshow": {
     "slide_type": "slide"
    }
   },
   "outputs": [
    {
     "data": {
      "image/png": "[encoded data removed]",
      "text/plain": [
       "<Figure size 864x576 with 1 Axes>"
      ]
     },
     "metadata": {},
     "output_type": "display_data"
    }
   ],
   "source": [
    "fig1, ax1 = plt.subplots(figsize=(12,8))\n",
    "plt.grid(b=True, which='both', color='0.65', linestyle='-')\n",
    "ax1.set_title('Value function convergence with VFI')\n",
    "ax1.set_xlabel('Cake size, W')\n",
    "ax1.set_ylabel('Value function')\n",
    "\n",
    "beta=.9\n",
    "maxiter=500\n",
    "V0=np.log(grid_state)\n",
    "for i in range(maxiter):\n",
    "    V1=Bellman(V0)\n",
    "    if i<5 or i%10==0:\n",
    "        ax1.plot(np.squeeze(grid_state[0][1:]),np.squeeze(V1[0][1:]),label='iter={:3d}'.format(i),linewidth=2.5)\n",
    "    diff1=np.max(V1-V0)\n",
    "    if np.max(abs(V1-V0))<epsilon:\n",
    "        break\n",
    "    V0=V1\n",
    "    \n",
    "plt.legend(loc=4)\n",
    "plt.savefig('cake2value.eps', format='eps', dpi=300)\n",
    "plt.show()"
   ]
  },
  {
   "cell_type": "markdown",
   "metadata": {
    "slideshow": {
     "slide_type": "slide"
    }
   },
   "source": [
    "## Further learning resources\n",
    "* QuantEcon DP section https://lectures.quantecon.org/py/index_dynamic_programming.html\n",
    "* Computerphile on Dijkstra algorithm https://www.youtube.com/watch?v=GazC3A4OQTE"
   ]
  }
 ],
 "metadata": {
  "celltoolbar": "Slideshow",
  "kernelspec": {
   "display_name": "Python 3",
   "language": "python",
   "name": "python3"
  },
  "language_info": {
   "codemirror_mode": {
    "name": "ipython",
    "version": 3
   },
   "file_extension": ".py",
   "mimetype": "text/x-python",
   "name": "python",
   "nbconvert_exporter": "python",
   "pygments_lexer": "ipython3",
   "version": "3.6.5"
  }
 },
 "nbformat": 4,
 "nbformat_minor": 2
}
