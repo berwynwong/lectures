{
 "cells": [
  {
   "cell_type": "markdown",
   "metadata": {
    "slideshow": {
     "slide_type": "slide"
    }
   },
   "source": [
    "# Vectors, matrices, linear algebra and linear programming\n",
    "\n",
    "ECON 3127/4414/8014 Computational methods in economics  \n",
    "Week 4 \n",
    "Fedor Iskhakov  \n",
    "<img src=\"../img/lecture.png\" width=\"64px\"/>\n",
    "\n",
    "&#128214; Kevin Sheppard \"Introduction to Python for Econometrics, Statistics and Data Analysis.\"\n",
    "    *Chapters: 4, 6, 7, 8*"
   ]
  },
  {
   "cell_type": "markdown",
   "metadata": {
    "slideshow": {
     "slide_type": "slide"
    }
   },
   "source": [
    "<img src=\"../img/PythonLogo.jpg\" width=\"256px\"/>\n",
    "<img src=\"img/numpy_logo.png\" width=\"256px\"/>\n",
    "\n",
    "- **Vectorization in Python**\n",
    "* [NumPy](https://docs.scipy.org/doc/numpy/reference/) is a widely-used scientific computing package for brings fast array processing to Python\n",
    "\n",
    "* Runs fast compiled code written in C & Fortran under the hood"
   ]
  },
  {
   "cell_type": "markdown",
   "metadata": {
    "slideshow": {
     "slide_type": "slide"
    }
   },
   "source": [
    "## Plan for the lecture\n",
    "1. NumPy = vectorization in Python\n",
    "2. Linear algebra\n",
    "3. Linear programming"
   ]
  },
  {
   "cell_type": "code",
   "execution_count": null,
   "metadata": {},
   "outputs": [],
   "source": [
    "import numpy as np"
   ]
  },
  {
   "cell_type": "markdown",
   "metadata": {
    "slideshow": {
     "slide_type": "slide"
    }
   },
   "source": [
    "## NumPy"
   ]
  },
  {
   "cell_type": "code",
   "execution_count": null,
   "metadata": {},
   "outputs": [],
   "source": [
    "N = 100000\n",
    "data_list = range(N) # Native Python list\n",
    "%timeit -n100 -r10 \\\n",
    "mean1 = sum(data_list)/N\n",
    "\n",
    "import numpy as np\n",
    "data_array = np.array(range(N)) #NumPy array\n",
    "%timeit -n100 -r10 \\\n",
    "mean2 = data_array.mean()"
   ]
  },
  {
   "cell_type": "markdown",
   "metadata": {
    "slideshow": {
     "slide_type": "subslide"
    }
   },
   "source": [
    "SI orders of magnitude\n",
    "https://en.wikipedia.org/wiki/Micro-"
   ]
  },
  {
   "cell_type": "markdown",
   "metadata": {
    "slideshow": {
     "slide_type": "slide"
    }
   },
   "source": [
    "### Scientific computing: more advanced treatment of numbers\n",
    "\n",
    "Full list of types: https://docs.scipy.org/doc/numpy-1.13.0/user/basics.types.html"
   ]
  },
  {
   "cell_type": "code",
   "execution_count": null,
   "metadata": {},
   "outputs": [],
   "source": [
    "x = np.array([-1,0,1.4],dtype='int8')\n",
    "# x = np.array([-1,0,1.4],dtype='int32')\n",
    "# x = np.array([-1,0,1.4],dtype='bool')\n",
    "# x = np.array([-1,0,1.4],dtype='float64')\n",
    "print('x %s' % type(x[0]))"
   ]
  },
  {
   "cell_type": "code",
   "execution_count": null,
   "metadata": {
    "slideshow": {
     "slide_type": "slide"
    }
   },
   "outputs": [],
   "source": [
    "# Wrapping of the integers instead of allocating more space as in core Python\n",
    "x = np.array([-1,0,1,10],dtype='uint8') # unsigned integer with 8 bits\n",
    "y = 10 ** 100 # core Python\n",
    "y = x ** 6\n",
    "# y = (10 ** 6) % 256\n",
    "y"
   ]
  },
  {
   "cell_type": "code",
   "execution_count": null,
   "metadata": {
    "slideshow": {
     "slide_type": "slide"
    }
   },
   "outputs": [],
   "source": [
    "# Inf and NaN\n",
    "x = np.array([-1,0,1,10],dtype='float64')\n",
    "# y = 10 / 0 # core Python\n",
    "y = x / 0\n",
    "y"
   ]
  },
  {
   "cell_type": "code",
   "execution_count": null,
   "metadata": {
    "slideshow": {
     "slide_type": "slide"
    }
   },
   "outputs": [],
   "source": [
    "# Comparing nans and infs\n",
    "a = (np.inf == np.inf)\n",
    "b = (np.nan == np.nan)\n",
    "c = np.isnan(np.nan)\n",
    "print (a, b, c)"
   ]
  },
  {
   "cell_type": "markdown",
   "metadata": {
    "slideshow": {
     "slide_type": "slide"
    }
   },
   "source": [
    "### What is inside array?"
   ]
  },
  {
   "cell_type": "code",
   "execution_count": null,
   "metadata": {},
   "outputs": [],
   "source": [
    "a = np.array([1,2,3,4,5],dtype='float64')\n",
    "# a = np.arange(5)\n",
    "# a = np.arange(5,dtype='uint8')\n",
    "[type(a_element) for a_element in a]"
   ]
  },
  {
   "cell_type": "code",
   "execution_count": null,
   "metadata": {
    "slideshow": {
     "slide_type": "slide"
    }
   },
   "outputs": [],
   "source": [
    "from myutil import obj_explore\n",
    "obj_explore(a)"
   ]
  },
  {
   "cell_type": "markdown",
   "metadata": {
    "slideshow": {
     "slide_type": "slide"
    }
   },
   "source": [
    "### Memory footprint"
   ]
  },
  {
   "cell_type": "code",
   "execution_count": null,
   "metadata": {},
   "outputs": [],
   "source": [
    "import sys\n",
    "def memory_usage(var,grow,steps=10):\n",
    "    \"\"\"Returns data on memory usage when var is grown using supplied function for given number of steps\"\"\"\n",
    "    \n",
    "    d={\"x\":[],\"y\":[],\"v\":[]} # dictionary for x, y data, and values\n",
    "    for i in range(steps):\n",
    "        var=grow(var) # next value\n",
    "        d[\"v\"].append(var)\n",
    "        d[\"x\"].append(i+1)\n",
    "        d[\"y\"].append(sys.getsizeof(var))\n",
    "    return d"
   ]
  },
  {
   "cell_type": "code",
   "execution_count": null,
   "metadata": {
    "slideshow": {
     "slide_type": "slide"
    }
   },
   "outputs": [],
   "source": [
    "x = [0,] # Python list\n",
    "grow = lambda x: [0,]*len(x)*2\n",
    "d1 = memory_usage(x,grow,steps=10)\n",
    "x = np.array([0])\n",
    "grow = lambda x: np.array([0,]*x.size*2,dtype='float64')\n",
    "d2 = memory_usage(x,grow,steps=10)\n",
    "\n",
    "plt.plot(d1[\"x\"],d1[\"y\"],label='Python')\n",
    "plt.plot(d2[\"x\"],d2[\"y\"],label='Numpy')\n",
    "plt.axis([min(d1[\"x\"]),max(d1[\"x\"]),0,max(d1[\"y\"])+1])\n",
    "plt.ylabel('size in memory, bytes')\n",
    "plt.xlabel('steps of variable update')\n",
    "plt.legend()\n",
    "plt.show()"
   ]
  },
  {
   "cell_type": "markdown",
   "metadata": {
    "slideshow": {
     "slide_type": "slide"
    }
   },
   "source": [
    "### Creating arrays\n",
    "- From lists\n",
    "- Using functions for standard cases"
   ]
  },
  {
   "cell_type": "code",
   "execution_count": null,
   "metadata": {},
   "outputs": [],
   "source": [
    "a = np.array([1,3,5,7])\n",
    "b = np.array([1,3,5,7],'float64')\n",
    "print(a)\n",
    "print(b)"
   ]
  },
  {
   "cell_type": "code",
   "execution_count": null,
   "metadata": {
    "slideshow": {
     "slide_type": "slide"
    }
   },
   "outputs": [],
   "source": [
    "a = np.empty(5) # not initializes\n",
    "b = np.zeros(5)\n",
    "c = np.ones(5)\n",
    "d = np.linspace(2, 3, 10) # fill between 2 and 3 with 10 points\n",
    "print(a)\n",
    "print(b)\n",
    "print(c)\n",
    "print(d)"
   ]
  },
  {
   "cell_type": "markdown",
   "metadata": {
    "slideshow": {
     "slide_type": "slide"
    }
   },
   "source": [
    "### Matrices and multidimensional arrays"
   ]
  },
  {
   "cell_type": "code",
   "execution_count": null,
   "metadata": {},
   "outputs": [],
   "source": [
    "a = np.eye(5) # identity matrix\n",
    "b = np.ones((2,3))\n",
    "c = np.asmatrix(b) # matrix !\n",
    "print(a)\n",
    "print(b)\n",
    "print(c)"
   ]
  },
  {
   "cell_type": "code",
   "execution_count": null,
   "metadata": {
    "slideshow": {
     "slide_type": "slide"
    }
   },
   "outputs": [],
   "source": [
    "b=b+2\n",
    "d=b*b\n",
    "print(b)\n",
    "print(d)"
   ]
  },
  {
   "cell_type": "code",
   "execution_count": null,
   "metadata": {},
   "outputs": [],
   "source": [
    "c=c+2\n",
    "print(c)\n",
    "c*c \n",
    "c*c.transpose()"
   ]
  },
  {
   "cell_type": "markdown",
   "metadata": {
    "slideshow": {
     "slide_type": "slide"
    }
   },
   "source": [
    "### Indexing into arrays\n",
    "Three types of indexes:\n",
    "- scalar index x[0] (getitem)\n",
    "- slicing like strings x[1::2]\n",
    "- numerical indexing\n",
    "- masks"
   ]
  },
  {
   "cell_type": "code",
   "execution_count": null,
   "metadata": {
    "slideshow": {
     "slide_type": "-"
    }
   },
   "outputs": [],
   "source": [
    "z = np.linspace(0, 2, 8)\n",
    "z = np.reshape(z,[4,2])\n",
    "z"
   ]
  },
  {
   "cell_type": "code",
   "execution_count": null,
   "metadata": {
    "slideshow": {
     "slide_type": "slide"
    }
   },
   "outputs": [],
   "source": [
    "print( z[1]      )   #scalar index: returns row array\n",
    "print( z[1,0]    )   #scalar index: returns number\n",
    "print( z[-1:]    )   #slicing: returns ?\n",
    "print( z[1:3,1]  )   #slicing + scalar index\n",
    "print( z[1:3,1:] )   #slicing"
   ]
  },
  {
   "cell_type": "code",
   "execution_count": null,
   "metadata": {
    "slideshow": {
     "slide_type": "slide"
    }
   },
   "outputs": [],
   "source": [
    "# Assigning elements of an array\n",
    "z[1,0] = -1\n",
    "z[2] = [4,5]\n",
    "z[2] = np.array([4.2,5.2])\n",
    "z[:2,1]=9.3\n",
    "z[3][1]=-2\n",
    "z"
   ]
  },
  {
   "cell_type": "code",
   "execution_count": null,
   "metadata": {
    "slideshow": {
     "slide_type": "slide"
    }
   },
   "outputs": [],
   "source": [
    "z = np.linspace(0, 2, 12)\n",
    "z = np.reshape(z,[4,3])\n",
    "print(z)\n",
    "\n",
    "print( z[[0,2,2],[0,1,0]]    )   #numerical indexing\n",
    "print( z[z>1.0]              )   #boolean indexing (masking)\n",
    "mask = np.logical_and(z>1.0,z<1.75)\n",
    "print( z[mask]               )   #boolean indexing (masking)\n"
   ]
  },
  {
   "cell_type": "markdown",
   "metadata": {
    "slideshow": {
     "slide_type": "slide"
    }
   },
   "source": [
    "### Operation broadcasting "
   ]
  },
  {
   "cell_type": "code",
   "execution_count": null,
   "metadata": {},
   "outputs": [],
   "source": [
    "a = np.array([1,2,3])\n",
    "b = np.array([4,5,6])\n",
    "print(a + b)\n",
    "print(a + 10)"
   ]
  },
  {
   "cell_type": "code",
   "execution_count": null,
   "metadata": {
    "slideshow": {
     "slide_type": "slide"
    }
   },
   "outputs": [],
   "source": [
    "x = np.arange(3)\n",
    "print(x + 5)\n",
    "\n",
    "y = np.ones((3,3))\n",
    "print(y + x)\n",
    "\n",
    "z = x + x.transpose()\n",
    "# z = x + x[:,np.newaxis]\n",
    "# z = x + x.reshape((3,1))\n",
    "print(z)"
   ]
  },
  {
   "cell_type": "code",
   "execution_count": null,
   "metadata": {},
   "outputs": [],
   "source": []
  },
  {
   "cell_type": "markdown",
   "metadata": {
    "slideshow": {
     "slide_type": "slide"
    }
   },
   "source": [
    "<img src=\"img/broadcasting.png\" width=\"800px\"/>"
   ]
  },
  {
   "cell_type": "markdown",
   "metadata": {
    "slideshow": {
     "slide_type": "slide"
    }
   },
   "source": [
    "#### Broadcasting works with:\n",
    "- addition ($+$)\n",
    "- subtraction ($-$)\n",
    "- multiplication ($*$)\n",
    "- division ($/$)\n",
    "- integer division ($//$)\n",
    "- power ($**$)\n",
    "- all _universal functions_ (below)"
   ]
  },
  {
   "cell_type": "code",
   "execution_count": null,
   "metadata": {
    "slideshow": {
     "slide_type": "slide"
    }
   },
   "outputs": [],
   "source": [
    "x = np.arange(3)+1\n",
    "z = x / x.reshape((3,1))\n",
    "z"
   ]
  },
  {
   "cell_type": "code",
   "execution_count": null,
   "metadata": {
    "slideshow": {
     "slide_type": "slide"
    }
   },
   "outputs": [],
   "source": [
    "x = np.array([[1,2,3],[9,8,7]])\n",
    "x = np.linspace(1,3,10)\n",
    "np.exp(x)\n",
    "\n",
    "import math\n",
    "math.exp(x)"
   ]
  },
  {
   "cell_type": "markdown",
   "metadata": {
    "slideshow": {
     "slide_type": "slide"
    }
   },
   "source": [
    "### ufunc\n",
    "Functions provided by NumPy which support vectorization and broadcasting \n",
    "- Act on array element-wise\n",
    "- Efficient implementation with low level code\n",
    "https://docs.scipy.org/doc/numpy/reference/ufuncs.html#available-ufuncs"
   ]
  },
  {
   "cell_type": "code",
   "execution_count": null,
   "metadata": {
    "slideshow": {
     "slide_type": "slide"
    }
   },
   "outputs": [],
   "source": [
    "N = 1000\n",
    "data_list = range(N) # Native Python list\n",
    "%timeit -n100 -r10 \\\n",
    "sin1 = [math.sin(x) for x in data_list]\n",
    "\n",
    "import numpy as np\n",
    "data_array = np.array(range(N)) #NumPy array\n",
    "%timeit -n100 -r10 \\\n",
    "sin2 = np.sin(data_array)"
   ]
  },
  {
   "cell_type": "markdown",
   "metadata": {
    "slideshow": {
     "slide_type": "slide"
    }
   },
   "source": [
    "### Reduction operations\n",
    "Functions that return the array of reduced size: **sum**, **min**, **max** , **mean**, **all**, **any**"
   ]
  },
  {
   "cell_type": "code",
   "execution_count": null,
   "metadata": {},
   "outputs": [],
   "source": [
    "x = np.arange(12).reshape(4,3)\n",
    "print(x)\n",
    "print(np.sum(x))\n",
    "print(np.sum(x, axis=1))"
   ]
  },
  {
   "cell_type": "code",
   "execution_count": null,
   "metadata": {
    "slideshow": {
     "slide_type": "slide"
    }
   },
   "outputs": [],
   "source": [
    "x = np.arange(24).reshape(2,4,3)\n",
    "# print(x)\n",
    "y = np.min(x,axis=1)\n",
    "# y = np.mean(x,axis=(1,2))\n",
    "print(y.shape)\n",
    "print(y)"
   ]
  },
  {
   "cell_type": "markdown",
   "metadata": {
    "slideshow": {
     "slide_type": "slide"
    }
   },
   "source": [
    "### References and mutability\n",
    "NumPy tries not to copy data in the arrays when not necessary\n",
    "- principle: whether it is possible to maintain simple pointer arithmetic\n",
    "- slices are generally not copied\n",
    "- numerical indexing/mask generally copied\n",
    "- **.flags** to check\n",
    "- **.copy** to make a true copy"
   ]
  },
  {
   "cell_type": "code",
   "execution_count": null,
   "metadata": {
    "slideshow": {
     "slide_type": "slide"
    }
   },
   "outputs": [],
   "source": [
    "x = np.arange(24).reshape(2,3,4) # 3-dim array\n",
    "# x\n",
    "y = x[:1,:,:]\n",
    "y\n",
    "# y.flags\n",
    "y[0]=999\n",
    "x"
   ]
  },
  {
   "cell_type": "code",
   "execution_count": null,
   "metadata": {},
   "outputs": [],
   "source": [
    "y = x[[0,0],[1,2],[2,3]]\n",
    "y.flags\n",
    "# y[0]=999\n",
    "# x"
   ]
  },
  {
   "cell_type": "markdown",
   "metadata": {
    "slideshow": {
     "slide_type": "slide"
    }
   },
   "source": [
    "## Linear algebra with NumPy\n",
    "Submodule numpy.linalg\n",
    "https://docs.scipy.org/doc/numpy-1.13.0/reference/routines.linalg.html"
   ]
  },
  {
   "cell_type": "code",
   "execution_count": null,
   "metadata": {},
   "outputs": [],
   "source": [
    "import numpy.linalg as linalg\n",
    "obj_explore(linalg,'public methods')"
   ]
  },
  {
   "cell_type": "markdown",
   "metadata": {
    "slideshow": {
     "slide_type": "slide"
    }
   },
   "source": [
    "### Matrix operations\n",
    "$$\n",
    "A=\n",
    "\\begin{pmatrix} \n",
    "1 & 2 & 0 & 5 \\\\\n",
    "4 & -2 & 1 & 1 \\\\\n",
    "0 & 0 & -2 & 7 \\\\\n",
    "3 & 1 & 4 & 0 \\\\\n",
    "\\end{pmatrix}\n",
    "$$\n"
   ]
  },
  {
   "cell_type": "code",
   "execution_count": null,
   "metadata": {},
   "outputs": [],
   "source": [
    "A = np.array([[1,2,0,5],[4,-2,1,1],[0,0,-2,7],[3,1,4,0]])\n",
    "A"
   ]
  },
  {
   "cell_type": "code",
   "execution_count": null,
   "metadata": {
    "slideshow": {
     "slide_type": "slide"
    }
   },
   "outputs": [],
   "source": [
    "print( A )\n",
    "print( A.T )\n",
    "print( np.linalg.matrix_rank(A) )\n",
    "# print( A * 2 )\n",
    "# print( np.linalg.inv(A) )\n",
    "# print( np.linalg.det(A) )\n",
    "# B = A[:2,:]\n",
    "# print(B)\n",
    "# print( B * B )\n",
    "# print( B @ B ) #matrix multiplication\n",
    "# print( B @ B.T )"
   ]
  },
  {
   "cell_type": "markdown",
   "metadata": {
    "slideshow": {
     "slide_type": "slide"
    }
   },
   "source": [
    "### Linear systems of equations\n",
    "$$\n",
    "\\begin{eqnarray*}\n",
    "1x_1+2x_2+5x_4&=&5\\\\\n",
    "4x_1-2x_2+x_3+x_4&=&5\\\\\n",
    "-2x_3+7x_4&=&0\\\\\n",
    "3x_1+x_2+4x_3&=&-3\\\\\n",
    "\\end{eqnarray*}$$\n",
    "\n",
    "In matrix notation $Ax=b$ where\n",
    "$$\n",
    "A=\n",
    "\\begin{pmatrix} \n",
    "1 & 2 & 0 & 5 \\\\\n",
    "4 & -2 & 1 & 1 \\\\\n",
    "0 & 0 & -2 & 7 \\\\\n",
    "3 & 1 & 4 & 0 \\\\\n",
    "\\end{pmatrix},\\;\\;\n",
    "b=\\begin{pmatrix} \n",
    "5\\\\\n",
    "5\\\\\n",
    "0\\\\\n",
    "-3\n",
    "\\end{pmatrix},\\;\\;\n",
    "x=(x_1,x_2,x_3,x_4)\n",
    "$$\n"
   ]
  },
  {
   "cell_type": "code",
   "execution_count": null,
   "metadata": {},
   "outputs": [],
   "source": [
    "b = np.array([5,5,0,-3])\n",
    "x=np.linalg.solve(A, b)\n",
    "print('Solution is %r' % x)\n",
    "print('Check: max(Ax-b) = %1.5e' % max(A@x-b))"
   ]
  },
  {
   "cell_type": "markdown",
   "metadata": {
    "slideshow": {
     "slide_type": "slide"
    }
   },
   "source": [
    "### Overdetermined linear systems of equations\n",
    "$$\n",
    "\\begin{eqnarray*}\n",
    "1x_1+2x_2&=&5\\\\\n",
    "4x_1-2x_2+x_3&=&5\\\\\n",
    "-2x_3&=&0\\\\\n",
    "3x_1+x_2+4x_3&=&-3\\\\\n",
    "\\end{eqnarray*}$$"
   ]
  },
  {
   "cell_type": "code",
   "execution_count": null,
   "metadata": {},
   "outputs": [],
   "source": [
    "A = np.array([[1,2,0],[4,-2,1],[0,0,-2],[3,1,4]])\n",
    "x=np.linalg.lstsq(A, b, rcond=None)\n",
    "\n",
    "print(A)\n",
    "print(x[0]) #optimal x"
   ]
  },
  {
   "cell_type": "markdown",
   "metadata": {
    "slideshow": {
     "slide_type": "slide"
    }
   },
   "source": [
    "### Market equilibrium in a linear model\n",
    "- Prices $p$, quantities $q$, $n$ goods in the economy\n",
    "- Linear demand $D(p) = A p + d$, where $A$ is n by n, and $p$ is n by 1\n",
    "- Linear supply $S(p) = B p + s$, where $B$ is n by n, and $p$ is n by 1\n",
    "- Market clearing prices: $D(p)=S(p)$"
   ]
  },
  {
   "cell_type": "code",
   "execution_count": null,
   "metadata": {
    "slideshow": {
     "slide_type": "slide"
    }
   },
   "outputs": [],
   "source": [
    "import numpy as np\n",
    "n = 2\n",
    "\n",
    "def random_matrix(n,positive=True,maxeigen=10,maxrotation=5):\n",
    "    '''Generates random positive/negative semi-definite matrix'''\n",
    "    \n",
    "    e=np.random.uniform(0,maxeigen,n) # random eigenvalues\n",
    "    r=np.random.uniform(0,maxrotation,n*n).reshape(n,n) # rotation\n",
    "    A = np.zeros((n,n))\n",
    "    if not positive: \n",
    "        e = -e\n",
    "    A[range(n),range(n)] = e\n",
    "    return r@A@r.T # positive/negative semi-definite\n",
    "\n",
    "# demand\n",
    "A = random_matrix(n,False)\n",
    "d = np.array([100,]*n)\n",
    "# supply\n",
    "B = random_matrix(n,True)\n",
    "s = np.zeros(n)\n",
    "M = A - B\n",
    "m = s - d\n",
    "p = np.linalg.solve(A,m)\n",
    "\n",
    "\n",
    "print('Demand is given by Ap+d:\\nA=%r\\nd=%r' % (A,d))\n",
    "print('Supply is given by Bp+s:\\nB=%r\\ns=%r' % (B,s))\n",
    "\n",
    "print('Equilibrium prices are p= %r' % p)\n"
   ]
  },
  {
   "cell_type": "markdown",
   "metadata": {
    "slideshow": {
     "slide_type": "slide"
    }
   },
   "source": [
    "### Finding the intersecting point of two line segments\n",
    "\n",
    "Given two line segments in $\\mathbb{R}^2$ with endpoint coordinates as\n",
    "\n",
    "$$(x^1_1,y^1_1),(x^1_2,y^1_2) \\text{  and  } (x^2_1,y^2_1),(x^2_2,y^2_2),$$ \n",
    "\n",
    "where superscripts indicate the segment, subscripts indicate beginning and end of the line, \n",
    "find whether the segments intersect, and if so, what is the intersection point."
   ]
  },
  {
   "cell_type": "markdown",
   "metadata": {
    "slideshow": {
     "slide_type": "slide"
    }
   },
   "source": [
    "Let intersection be given by $(x_0,y_0)$, and introduce two more variables $t_1$ and $t_2$ that equal to the distance from the starting points $(x^1_1,y^1_1)$ and $(x^2_1,y^2_1)$ to the intersection point, relative to the corresponding segment lengths. Then we can write the following system of equations\n",
    "\n",
    "$$\n",
    "\\begin{eqnarray*}\n",
    "(x^1_2 - x^1_1) \\cdot t_1 &=& x_0 - x^1_1 \\\\\n",
    "(x^2_2 - x^2_1) \\cdot t_2 &=& x_0 - x^2_1 \\\\\n",
    "(y^1_2 - y^1_1) \\cdot t_1 &=& y_0 - y^1_1 \\\\\n",
    "(y^2_2 - y^2_1) \\cdot t_2 &=& y_0 - y^2_1 \\\\\n",
    "\\end{eqnarray*}$$"
   ]
  },
  {
   "cell_type": "markdown",
   "metadata": {
    "slideshow": {
     "slide_type": "slide"
    }
   },
   "source": [
    "In matrix notation $Az=b$ where\n",
    "\n",
    "$$\n",
    "A=\n",
    "\\begin{pmatrix} \n",
    "x^1_2 - x^1_1 & 0 & -1 & 0 \\\\\n",
    "0 & x^2_2 - x^2_1 & -1 & 0 \\\\\n",
    "y^1_2 - y^1_1 & 0 & 0 & -1 \\\\\n",
    "0 & y^2_2 - y^2_1 & 0 & -1 \\\\\n",
    "\\end{pmatrix},\\;\\;\n",
    "b=\\begin{pmatrix} \n",
    "-x^1_1\\\\\n",
    "-x^2_1\\\\\n",
    "-y^1_1\\\\\n",
    "-y^2_1\\\\\n",
    "\\end{pmatrix},\\;\\;\n",
    "z=(t_1,t_2,x_0,y_0)\n",
    "$$\n",
    "\n",
    "Then if solution exists, compute, check $t_1$ and $t_2$\n",
    "- If both belong to $[0,1]$, the intersection point exists and is given by the computed $(x_0,y_0)$\n",
    "- Otherwise, it the segments do not intersect\n",
    "\n",
    "When solution does not exist?"
   ]
  },
  {
   "cell_type": "markdown",
   "metadata": {
    "slideshow": {
     "slide_type": "slide"
    }
   },
   "source": [
    "## Linear programming in Python\n",
    "\n",
    "Linear programming = optimizing linear function on convex polyhedron\n",
    "\n",
    "$$\\max(c^{T}x) \\text{ subject to } Ax \\le b$$\n",
    "\n",
    "Of course $c^{T}x = \\sum_{i=1}^{n} c_i\\cdot x_i$,\n",
    "and \n",
    "$Ax \\le b$ includes $x_j\\ge 0$ and $x_j = D$ for some $j$"
   ]
  },
  {
   "cell_type": "markdown",
   "metadata": {
    "slideshow": {
     "slide_type": "slide"
    }
   },
   "source": [
    "### Convex polyhedra\n",
    "<img src=\"img/PolyhedronConvex.gif\" width=\"600px\"/>"
   ]
  },
  {
   "cell_type": "markdown",
   "metadata": {
    "slideshow": {
     "slide_type": "slide"
    }
   },
   "source": [
    "### Convex polyhedra in 2-d\n",
    "<img src=\"img/lp1.png\" width=\"600px\"/>"
   ]
  },
  {
   "cell_type": "markdown",
   "metadata": {
    "slideshow": {
     "slide_type": "slide"
    }
   },
   "source": [
    "### Optimal production portfolio\n",
    "\n",
    "Let $x$ and $y$ denote production of goods A and B by some firm. The production technology is restricted to have \n",
    "$$\n",
    "\\begin{cases}\n",
    "y - x  &\\le& 4, \\\\\n",
    "2x - y &\\le&8, \n",
    "\\end{cases}\n",
    "$$\n",
    "And the resource constraint is given by $x + 2y \\le 14$.  \n",
    "\n",
    "Let profits be given by $\\pi(x,y) = y + 2x$\n",
    "\n"
   ]
  },
  {
   "cell_type": "markdown",
   "metadata": {
    "slideshow": {
     "slide_type": "slide"
    }
   },
   "source": [
    "Adding the natural non-negativity constraints, in matrix notation we have\n",
    "\n",
    "$$\\max(c^{T}x) \\text{ subject to } Ax \\le b$$\n",
    "\n",
    "$$\n",
    "c=\n",
    "\\begin{pmatrix} \n",
    "2 & 1\n",
    "\\end{pmatrix},\\;\\;\n",
    "A=\n",
    "\\begin{pmatrix} \n",
    "-1 & 1 \\\\\n",
    "2 & -1 \\\\\n",
    "1 & 2 \\\\\n",
    "-1 & 0 \\\\\n",
    "0 & -1 \\\\\n",
    "\\end{pmatrix},\\;\\;\n",
    "b=\n",
    "\\begin{pmatrix} \n",
    "4\\\\\n",
    "8\\\\\n",
    "14\\\\\n",
    "0\\\\\n",
    "0\n",
    "\\end{pmatrix}\n",
    "$$"
   ]
  },
  {
   "cell_type": "markdown",
   "metadata": {
    "slideshow": {
     "slide_type": "slide"
    }
   },
   "source": [
    "<img src=\"img/th.jpeg\" width=\"400px\"/>"
   ]
  },
  {
   "cell_type": "code",
   "execution_count": null,
   "metadata": {
    "slideshow": {
     "slide_type": "slide"
    }
   },
   "outputs": [],
   "source": [
    "from scipy.optimize import linprog\n",
    "\n",
    "c = np.array([-2,-1])\n",
    "A = np.array([[-1,1],[2,-1],[1,2],[-1,0],[0,-1]])\n",
    "b = np.array([4,8,14,0,0])\n",
    "\n",
    "def outf(xk, **kwargs):\n",
    "    print('iteration %d, current solution %s'%(kwargs['nit'],xk))\n",
    "    \n",
    "linprog(c=c,A_ub=A,b_ub=b,method='simplex',callback=outf)\n",
    "\n"
   ]
  },
  {
   "cell_type": "markdown",
   "metadata": {
    "slideshow": {
     "slide_type": "slide"
    }
   },
   "source": [
    "## Further learning resources\n",
    "- SciPy 2017 Tutorial on NumPy https://www.youtube.com/watch?v=lKcwuPnSHIQ&ab_channel=Enthought\n",
    "- Essence of linear algebra playlist by 3Blue1Brown https://www.youtube.com/watch?v=fNk_zzaMoSs&list=PLZHQObOWTQDPD3MizzM2xVFitgF8hE_ab"
   ]
  }
 ],
 "metadata": {
  "celltoolbar": "Slideshow",
  "kernelspec": {
   "display_name": "Python 3",
   "language": "python",
   "name": "python3"
  },
  "language_info": {
   "codemirror_mode": {
    "name": "ipython",
    "version": 3
   },
   "file_extension": ".py",
   "mimetype": "text/x-python",
   "name": "python",
   "nbconvert_exporter": "python",
   "pygments_lexer": "ipython3",
   "version": "3.6.5"
  }
 },
 "nbformat": 4,
 "nbformat_minor": 2
}
