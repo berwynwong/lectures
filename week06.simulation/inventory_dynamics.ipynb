{
 "cells": [
  {
   "cell_type": "markdown",
   "metadata": {},
   "source": [
    "## Application: Inventory Dynamics\n",
    "\n",
    "By John Stachurski"
   ]
  },
  {
   "cell_type": "code",
   "execution_count": null,
   "metadata": {},
   "outputs": [],
   "source": [
    "import numpy as np\n",
    "import matplotlib.pyplot as plt\n",
    "import random"
   ]
  },
  {
   "cell_type": "markdown",
   "metadata": {},
   "source": [
    "### Sample Paths and Joint Distributions"
   ]
  },
  {
   "cell_type": "markdown",
   "metadata": {},
   "source": [
    "Consider a firm with inventory $X_t$\n",
    "\n",
    "Wait till $X_t \\leq s$, then order $S$ units\n",
    "\n",
    "Firm faces stochastic demand $D_{t+1}$, where $\\{D_t\\}$ is independent with common distribution $\\phi$\n",
    "\n",
    "Inventory follows\n",
    "\n",
    "\n",
    "\\begin{equation*}\n",
    "  X_{t+1} = \n",
    "  \\begin{cases}\n",
    "      ( S - D_{t+1})^+ & \\quad \\text{if } X_t \\leq s \\\\\n",
    "      ( X_t - D_{t+1} )^+ &  \\quad \\text{if } X_t > s\n",
    "  \\end{cases}\n",
    "\\end{equation*}\n",
    "\n",
    "\n",
    "Here $a^+ := \\max\\{a, 0\\}$\n",
    "\n",
    "We'll assume that $\\phi$ is the geometric distribution, so that\n",
    "\n",
    "$$ \\mathbb P \\{D_t = d\\} = (1 - p)^d p $$\n",
    "\n",
    "for $d = 0, 1, \\ldots$.  Here $p$ is a parameter in $(0, 1)$."
   ]
  },
  {
   "cell_type": "code",
   "execution_count": null,
   "metadata": {},
   "outputs": [],
   "source": [
    "s, S = 10, 100\n",
    "p = 0.4\n",
    "\n",
    "def ϕ():\n",
    "    return np.random.geometric(p) - 1\n",
    "\n",
    "def G(x, d):\n",
    "    if x <= s:\n",
    "        return max(S - d, 0)\n",
    "    else:\n",
    "        return max(x - d, 0)\n",
    "    "
   ]
  },
  {
   "cell_type": "markdown",
   "metadata": {},
   "source": [
    "A first simulation:"
   ]
  },
  {
   "cell_type": "code",
   "execution_count": null,
   "metadata": {},
   "outputs": [],
   "source": [
    "sim_length = 100\n",
    "X = np.empty(sim_length)\n",
    "X[0] = 50\n",
    "\n",
    "for t in range(sim_length-1):\n",
    "    D = ϕ()\n",
    "    X[t+1] = G(X[t], D)"
   ]
  },
  {
   "cell_type": "code",
   "execution_count": null,
   "metadata": {},
   "outputs": [],
   "source": [
    "fig, ax = plt.subplots(figsize=(7, 4.5))\n",
    "bbox = (0., 1.02, 1., .102)\n",
    "legend_args = {'ncol': 3,\n",
    "               'bbox_to_anchor': bbox,\n",
    "               'loc': 3,\n",
    "               'mode': 'expand'}\n",
    "\n",
    "ax.plot(X, label=\"inventory\")\n",
    "ax.plot(s * np.ones(sim_length), 'k--', label=\"$s$\")\n",
    "ax.plot(S * np.ones(sim_length), 'k-', label=\"$S$\")\n",
    "ax.set_ylim(0, S+10)\n",
    "ax.set_xlabel(\"time\")\n",
    "ax.legend(**legend_args)\n",
    "\n",
    "plt.show()"
   ]
  },
  {
   "cell_type": "markdown",
   "metadata": {},
   "source": [
    "Let's make a function for simulating paths"
   ]
  },
  {
   "cell_type": "code",
   "execution_count": null,
   "metadata": {},
   "outputs": [],
   "source": [
    "def sim_inventory_path(initial_x=50, sim_length=100):\n",
    "    X = np.empty(sim_length)\n",
    "    X[0] = 50\n",
    "\n",
    "    for t in range(sim_length-1):\n",
    "        D = ϕ()\n",
    "        X[t+1] = G(X[t], D)\n",
    "    \n",
    "    return X"
   ]
  },
  {
   "cell_type": "markdown",
   "metadata": {},
   "source": [
    "Simulate multiple paths:"
   ]
  },
  {
   "cell_type": "code",
   "execution_count": null,
   "metadata": {},
   "outputs": [],
   "source": [
    "sim_length=200\n",
    "fig, ax = plt.subplots(figsize=(9, 6))\n",
    "bbox = (0., 1.02, 1., .102)\n",
    "legend_args = {'ncol': 3,\n",
    "               'bbox_to_anchor': bbox,\n",
    "               'loc': 3,\n",
    "               'mode': 'expand'}\n",
    "\n",
    "ax.plot(s * np.ones(sim_length), 'k--', label=\"$s$\")\n",
    "ax.plot(S * np.ones(sim_length), 'k-', label=\"$S$\")\n",
    "ax.set_ylim(0, S+10)\n",
    "ax.legend(**legend_args)\n",
    "\n",
    "for i in range(250):\n",
    "    rcolor = random.choice(('c', 'g', 'b'))\n",
    "    X = sim_inventory_path(sim_length=sim_length)\n",
    "    ax.plot(X, color=rcolor, alpha=0.2, lw=0.5)\n",
    "\n",
    "plt.show()"
   ]
  },
  {
   "cell_type": "markdown",
   "metadata": {},
   "source": [
    "What's the probability that we need to order twice or more in the first 50 periods?"
   ]
  },
  {
   "cell_type": "code",
   "execution_count": null,
   "metadata": {},
   "outputs": [],
   "source": [
    "sim_length = 50\n",
    "M = 100_000  \n",
    "counter = 0\n",
    "\n",
    "for m in range(M):\n",
    "    X = sim_inventory_path(sim_length=50)\n",
    "    if sum(X <= s) > 1:\n",
    "        counter += 1\n",
    "        \n",
    "print(f\"Frequency of at least two stock outs = {counter / M}\")"
   ]
  },
  {
   "cell_type": "markdown",
   "metadata": {},
   "source": [
    "### Marginal Distributions"
   ]
  },
  {
   "cell_type": "markdown",
   "metadata": {},
   "source": [
    "Now let's look at the marginal distribution $\\psi_T$ for some fixed $T$."
   ]
  },
  {
   "cell_type": "code",
   "execution_count": null,
   "metadata": {},
   "outputs": [],
   "source": [
    "T = 50\n",
    "M = 200\n",
    "\n",
    "ymin, ymax = 0, S + 10\n",
    "\n",
    "fig, axes = plt.subplots(1, 2, figsize=(11, 6))\n",
    "\n",
    "for ax in axes:\n",
    "    ax.grid(alpha=0.4)\n",
    "\n",
    "ax = axes[0]\n",
    "\n",
    "ax.set_ylim(ymin, ymax)\n",
    "ax.set_ylabel('$X_t$', fontsize=16)\n",
    "ax.vlines((T,), -1.5, 1.5)\n",
    "\n",
    "ax.set_xticks((T,))\n",
    "ax.set_xticklabels((r'$T$',))\n",
    "\n",
    "sample = np.empty(M)\n",
    "for m in range(M):\n",
    "    rcolor = random.choice(('c', 'g', 'b'))\n",
    "    X = sim_inventory_path(sim_length=2 * T)\n",
    "    ax.plot(X, color=rcolor, lw=1, alpha=0.2)\n",
    "    ax.plot((T,), (X[T+1],), 'ko', alpha=0.5)\n",
    "    sample[m] = X[T+1]\n",
    "\n",
    "axes[1].set_ylim(ymin, ymax)\n",
    "\n",
    "axes[1].hist(sample, \n",
    "             bins=16, \n",
    "             density=True, \n",
    "             orientation='horizontal', \n",
    "             histtype='bar',\n",
    "             alpha=0.5)\n",
    "\n",
    "plt.show()"
   ]
  },
  {
   "cell_type": "markdown",
   "metadata": {},
   "source": [
    "We can build up a clearer picture by drawing more samples"
   ]
  },
  {
   "cell_type": "code",
   "execution_count": null,
   "metadata": {},
   "outputs": [],
   "source": [
    "T = 50\n",
    "M = 50_000\n",
    "\n",
    "fig, ax = plt.subplots()\n",
    "\n",
    "sample = np.empty(M)\n",
    "for m in range(M):\n",
    "    X = sim_inventory_path(sim_length=T+1)\n",
    "    sample[m] = X[T]\n",
    "\n",
    "ax.hist(sample, \n",
    "         bins=36, \n",
    "         density=True, \n",
    "         histtype='bar',\n",
    "         alpha=0.75)\n",
    "\n",
    "plt.show()"
   ]
  },
  {
   "cell_type": "markdown",
   "metadata": {},
   "source": [
    "We can also approximate the distribution using a kernel density estimator.  I'll use one from Scikit Learn.\n",
    "\n"
   ]
  },
  {
   "cell_type": "code",
   "execution_count": null,
   "metadata": {},
   "outputs": [],
   "source": [
    "from sklearn.neighbors import KernelDensity\n",
    "\n",
    "def plot_kde(sample, ax, label=''):\n",
    "    \n",
    "    xmin, xmax = 0.9 * min(sample), 1.1 * max(sample)\n",
    "    xgrid = np.linspace(xmin, xmax, 200)\n",
    "    kde = KernelDensity(kernel='gaussian').fit(sample[:, None])\n",
    "    log_dens = kde.score_samples(xgrid[:, None])\n",
    "\n",
    "    ax.plot(xgrid, np.exp(log_dens), label=label)"
   ]
  },
  {
   "cell_type": "code",
   "execution_count": null,
   "metadata": {},
   "outputs": [],
   "source": [
    "fig, ax = plt.subplots()\n",
    "plot_kde(sample, ax)\n",
    "plt.show()"
   ]
  },
  {
   "cell_type": "markdown",
   "metadata": {
    "collapsed": true
   },
   "source": [
    "### Asymptotic Stationarity and Ergodicity\n",
    "\n",
    "This model is asymptotically stationary, with a unique stationary distribution.  \n",
    "\n",
    "In particular, the sequence of marginal distributions $\\{\\psi_t\\}$ is converging to a unique limiting distribution that does not depend on initial conditions."
   ]
  },
  {
   "cell_type": "markdown",
   "metadata": {},
   "source": [
    "### Exercise\n",
    "\n",
    "Generate and plot the sequence $\\{\\psi_t\\}$ at times $t = 10, 50, 200, 300, 400$ using the code above."
   ]
  },
  {
   "cell_type": "markdown",
   "metadata": {
    "collapsed": true
   },
   "source": [
    "You should see convergence.  Try different initial conditions to verify that, in the long run, the distribution is invariant across initial conditions."
   ]
  },
  {
   "cell_type": "markdown",
   "metadata": {},
   "source": [
    "#### Solution\n",
    "\n",
    "Here's one possible solution:"
   ]
  },
  {
   "cell_type": "code",
   "execution_count": null,
   "metadata": {},
   "outputs": [],
   "source": [
    "M = 50_000  # Number of paths\n",
    "T = 501\n",
    "X = np.empty((M, T))"
   ]
  },
  {
   "cell_type": "code",
   "execution_count": null,
   "metadata": {},
   "outputs": [],
   "source": [
    "for m in range(M):\n",
    "    X[m, :] = sim_inventory_path(sim_length=T)\n",
    "\n",
    "fig, ax = plt.subplots()\n",
    "sample_dates = 10, 50, 200, 300, 400\n",
    "\n",
    "for t in sample_dates:\n",
    "    plot_kde(X[:, t], ax, label=f't = {t}')\n",
    "\n",
    "ax.set_xlabel('inventory')\n",
    "ax.set_ylabel('probability')\n",
    "ax.legend()\n",
    "plt.show()"
   ]
  },
  {
   "cell_type": "markdown",
   "metadata": {},
   "source": [
    "Notice that by $t=300$ or $t=400$ the densities are barely changing.\n",
    "\n",
    "We have reached a good approximation of the stationary density."
   ]
  },
  {
   "cell_type": "markdown",
   "metadata": {},
   "source": [
    "You can convince yourself that initial conditions don't matter by testing a few of them."
   ]
  },
  {
   "cell_type": "code",
   "execution_count": null,
   "metadata": {},
   "outputs": [],
   "source": [
    "for m in range(M):\n",
    "    X[m, :] = sim_inventory_path(sim_length=T, initial_x=80)\n",
    "\n",
    "fig, ax = plt.subplots()\n",
    "sample_dates = 10, 50, 200, 300, 400\n",
    "\n",
    "for t in sample_dates:\n",
    "    plot_kde(X[:, t], ax, label=f't = {t}')\n",
    "\n",
    "ax.set_xlabel('inventory')\n",
    "ax.set_ylabel('probability')\n",
    "ax.legend()\n",
    "plt.show()"
   ]
  },
  {
   "cell_type": "code",
   "execution_count": null,
   "metadata": {},
   "outputs": [],
   "source": []
  }
 ],
 "metadata": {
  "kernelspec": {
   "display_name": "Python 3",
   "language": "python",
   "name": "python3"
  },
  "language_info": {
   "codemirror_mode": {
    "name": "ipython",
    "version": 3
   },
   "file_extension": ".py",
   "mimetype": "text/x-python",
   "name": "python",
   "nbconvert_exporter": "python",
   "pygments_lexer": "ipython3",
   "version": "3.6.5"
  }
 },
 "nbformat": 4,
 "nbformat_minor": 2
}
