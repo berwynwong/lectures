{
 "cells": [
  {
   "cell_type": "markdown",
   "metadata": {},
   "source": [
    "#### Weekly assignment 5\n",
    "### Solution, part 1\n",
    "## Inventory dynamics\n"
   ]
  },
  {
   "cell_type": "markdown",
   "metadata": {},
   "source": [
    "Consider the following inventory problems in discrete time $t=0,\\dots,T$, where possibly $T=\\infty$.\n",
    "\n",
    "The notation is:\n",
    "- $x(t)\\ge 0$ is inventory at period $t$\n",
    "- $d(t)\\ge 0$ is _potentially stochastic_ demand at period $t$\n",
    "- $s(t)\\ge 0$ is the order of new inventory\n",
    "- $p$ is the profit per one unit of (supplied) good\n",
    "- $c$ is the fixed cost of ordering any amount of new inventory\n",
    "- $r$ is the cost of storing one unit of good\n",
    "\n",
    "The sales in period $t$ are given by $\\min\\{x(t),d(t)\\}$. \n",
    "The next period inventory is given by $x(t+1) = \\max\\{x(t)-d(t),0\\} + s(t)$.\n",
    "\n",
    "The profit in period $t$ is given by\n",
    "\n",
    "\\begin{eqnarray}\n",
    "\\pi(t) & = & p \\cdot \\text{sales}(t) - r \\cdot x(t+1) - c \\cdot (\\text{order made in period }t) \\\\\n",
    "& = & p \\min\\{x(t),d(t)\\} - r \\big[ \\max\\{x(t)-d(t),0\\} + s(t) \\big] - c \\mathbb{1}\\{s(t)>0\\}\n",
    "\\end{eqnarray}\n",
    "\n",
    "Assuming all $ s(t) \\ge 0$, let $\\sigma =  \\{s(t)\\}_{t=1,\\dots}$ denote a feasible inventory policy.\n",
    "If $d(t)$ is stochastic the policy becomes a function of the period $t$ inventory $x(t)$.\n",
    "\n",
    "The expected profit maximizing problem is given by\n",
    "\n",
    "$$\n",
    "{\\max}_{\\sigma} \\mathbb{E}\\Big[ \\sum_{t=0}^{\\infty} \\beta^t \\pi(t) \\Big],\n",
    "$$\n",
    "\n",
    "where $\\beta$ is discount factor."
   ]
  },
  {
   "cell_type": "markdown",
   "metadata": {},
   "source": [
    "### 1. Write the Bellman equation for the problem"
   ]
  },
  {
   "cell_type": "markdown",
   "metadata": {},
   "source": [
    "What is important for the inventory decision at time period $t$?\n",
    "- instanteneous utility (profit) contains $x(t)$ and $d(t)$\n",
    "- timing: (beginning of period) - current inventory - demand - (choice) order - (end of period)\n",
    "\n",
    "So, both $x(t)$ and $d(t)$ are takes into account for the new order to be made, which is delivered in the same period, and stored for the storage cost.\n",
    "\n",
    "So, denoting $d'$ the next period demand, and dropping the time indexes (infinite horizon), the Bellman equation is\n",
    "\n",
    "$$\n",
    "V(x,d) = \\max_{s \\ge 0} \\Big\\{ p \\min\\{x,d\\} - r \\big[ \\max\\{x-d,0\\} + s \\big] - c \\mathbb{1}\\{s>0\\} \n",
    "+ \\beta \\mathbb{E}\\Big[ V\\big( \\max\\{x-d,0\\} + s, d' \\big) \\Big| x,d,s \\Big] \\Big\\}\n",
    "$$\n",
    "\n",
    "The expectation in the Bellman equation is taken over the distribution of the next period demand $d'$, which according to the problem is independent of any other variables (idiosyncratic), thus the conditioning on $(x,d,s)$ can be meaningfully dropped.\n",
    "\n",
    "$$\n",
    "V(x,d) = \\max_{s \\ge 0} \\Big\\{ p \\min\\{x,d\\} - r \\big[ \\max\\{x-d,0\\} + s \\big] - c \\mathbb{1}\\{s>0\\} \n",
    "+ \\beta \\mathbb{E}\\Big[ V\\big( \\max\\{x-d,0\\} + s, d' \\big) \\Big] \\Big\\}\n",
    "$$\n",
    "\n",
    "$$\n",
    "V(x,d) = \\max_{s \\ge 0} \\Big\\{ p \\min\\{x,d\\} - r \\big[ \\max\\{x-d,0\\} + s \\big] - c \\mathbb{1}\\{s>0\\} \n",
    "+ \\beta \\int V\\big( \\max\\{x-d,0\\} + s, d' \\big) dF(d') \\Big\\}\n",
    "$$\n"
   ]
  },
  {
   "cell_type": "markdown",
   "metadata": {},
   "source": [
    "### 2. Finite horizon deterministic case\n",
    "\n",
    "Let $T<\\infty$. Further, let $d=25$ be known in every period. How does the Bellman equation change?\n",
    "\n",
    "Write a backwards induction solver for the problem.\n",
    "Use the following parameters: $(c,p,r,\\beta)=(15,2.5,0.2,0.975)$."
   ]
  },
  {
   "cell_type": "markdown",
   "metadata": {},
   "source": [
    "In the deterministic case with fixed $d$, it can be simply dropped from the state space, and the Bellman equation can be simplified to\n",
    "\n",
    "$$\n",
    "V(x) = \\max_{s \\ge 0} \\big\\{ p \\min\\{x,d\\} - r \\big[ \\max\\{x-d,0\\} + s \\big] - c \\mathbb{1}\\{s>0\\} \n",
    "+ \\beta \\mathbb{E}\\Big[ V\\big( \\max\\{x-d,0\\} + s \\big) \\Big] \\big\\}\n",
    "$$"
   ]
  },
  {
   "cell_type": "code",
   "execution_count": 274,
   "metadata": {},
   "outputs": [
    {
     "name": "stdout",
     "output_type": "stream",
     "text": [
      "Inventory model \"test\"\n",
      "Paramters: c=3.20, p=2.50, r=0.20, β=0.9500\n",
      "Max inventory=10\n",
      "Fixed demand=4\n",
      "\n",
      "Current inventory\n",
      " [ 0  1  2  3  4  5  6  7  8  9 10]\n",
      "Current sales\n",
      " [0 1 2 3 4 4 4 4 4 4 4]\n",
      "Current remaining inventory\n",
      " [0 0 0 0 0 1 2 3 4 5 6]\n",
      "Current orders\n",
      " [[ 0]\n",
      " [ 1]\n",
      " [ 2]\n",
      " [ 3]\n",
      " [ 4]\n",
      " [ 5]\n",
      " [ 6]\n",
      " [ 7]\n",
      " [ 8]\n",
      " [ 9]\n",
      " [10]]\n",
      "Next period inventory\n",
      " [[ 0  0  0  0  0  1  2  3  4  5  6]\n",
      " [ 1  1  1  1  1  2  3  4  5  6  7]\n",
      " [ 2  2  2  2  2  3  4  5  6  7  8]\n",
      " [ 3  3  3  3  3  4  5  6  7  8  9]\n",
      " [ 4  4  4  4  4  5  6  7  8  9 10]\n",
      " [ 5  5  5  5  5  6  7  8  9 10 11]\n",
      " [ 6  6  6  6  6  7  8  9 10 11 12]\n",
      " [ 7  7  7  7  7  8  9 10 11 12 13]\n",
      " [ 8  8  8  8  8  9 10 11 12 13 14]\n",
      " [ 9  9  9  9  9 10 11 12 13 14 15]\n",
      " [10 10 10 10 10 11 12 13 14 15 16]]\n",
      "Current profits\n",
      " [[ 0.   2.5  5.   7.5 10.   9.8  9.6  9.4  9.2  9.   8.8]\n",
      " [-3.4 -0.9  1.6  4.1  6.6  6.4  6.2  6.   5.8  5.6  5.4]\n",
      " [-3.6 -1.1  1.4  3.9  6.4  6.2  6.   5.8  5.6  5.4  5.2]\n",
      " [-3.8 -1.3  1.2  3.7  6.2  6.   5.8  5.6  5.4  5.2  5. ]\n",
      " [-4.  -1.5  1.   3.5  6.   5.8  5.6  5.4  5.2  5.   4.8]\n",
      " [-4.2 -1.7  0.8  3.3  5.8  5.6  5.4  5.2  5.   4.8  4.6]\n",
      " [-4.4 -1.9  0.6  3.1  5.6  5.4  5.2  5.   4.8  4.6  4.4]\n",
      " [-4.6 -2.1  0.4  2.9  5.4  5.2  5.   4.8  4.6  4.4  4.2]\n",
      " [-4.8 -2.3  0.2  2.7  5.2  5.   4.8  4.6  4.4  4.2  4. ]\n",
      " [-5.  -2.5  0.   2.5  5.   4.8  4.6  4.4  4.2  4.   3.8]\n",
      " [-5.2 -2.7 -0.2  2.3  4.8  4.6  4.4  4.2  4.   3.8  3.6]]\n",
      "Current profits with zero orders\n",
      " [ 0.   2.5  5.   7.5 10.   9.8  9.6  9.4  9.2  9.   8.8]\n"
     ]
    }
   ],
   "source": [
    "import numpy as np\n",
    "import matplotlib.pyplot as plt\n",
    "\n",
    "class inventory_model:\n",
    "    '''Small class to hold model fundamentals and its solution'''\n",
    "    \n",
    "    def __init__(self,label='none',max_inventory=10):\n",
    "        '''Create model with default parameters'''\n",
    "        self.label=label # label for the model instance\n",
    "        # default model parameters\n",
    "        self.c = 3.2\n",
    "        self.p = 2.5\n",
    "        self.r = 0.2\n",
    "        self.β = 0.95\n",
    "        self.fixed_demand = 4 # for the fixed demand case \n",
    "        # grid of inventory (x)\n",
    "        self.n = max_inventory+1 # number of inventory levels\n",
    "        self.upper = max_inventory # upper boundary on inventory\n",
    "        self.x = np.arange(self.n)\n",
    "        # initial value and policy functions\n",
    "        self.value = np.zeros(self.n)\n",
    "        self.policy = np.zeros(self.n)\n",
    "        \n",
    "    def __repr__(self):\n",
    "        '''String representation of the model'''\n",
    "        return 'Inventory model \"%s\"\\nParamters: c=%1.2f, p=%1.2f, r=%1.2f, β=%1.4f\\nMax inventory=%r\\nFixed demand=%r\\n' \\\n",
    "               %(self.label,self.c,self.p,self.r,self.β,self.upper,self.fixed_demand)\n",
    "\n",
    "    def sales(self,x,d):\n",
    "        '''Sales in given period'''\n",
    "        return np.minimum(x,d)\n",
    "    \n",
    "    def remaining(self,x,d):\n",
    "        '''Inventory remaining after sales in given period'''\n",
    "        return x - self.sales(x,d)\n",
    "\n",
    "    def next_x(self,x,d,s):\n",
    "        '''Next period inventory'''\n",
    "        return self.remaining(x,d) + s\n",
    "\n",
    "    def profit(self,x,d,s):\n",
    "        '''Profit in given period'''\n",
    "        return self.p * self.sales(x,d) - self.r * self.next_x(x,d,s) - self.c * (s>0)\n",
    "\n",
    "    def plot(self,axes=None):\n",
    "        '''Plot of the solution'''\n",
    "        if axes==None:\n",
    "            fig1, (ax1,ax2) = plt.subplots(nrows=1,ncols=2,figsize=(14,6))\n",
    "            for ax in (ax1,ax2):\n",
    "                ax.grid(b=True, which='both', color='0.65', linestyle='-')\n",
    "                ax.set_xlabel('Inventory')\n",
    "            ax1.set_title('Value function')\n",
    "            ax2.set_title('Policy function')\n",
    "            alpha=1 #no transperancy if axes are not given\n",
    "        else:\n",
    "            ax1,ax2=axes\n",
    "            alpha=0.5 #transparancy if axes are given\n",
    "        #plot\n",
    "        if self.value.ndim==1:\n",
    "            ax1.step(self.x,self.value,where='mid',color='brown',alpha=alpha)\n",
    "            ax2.step(self.x,self.policy,where='mid',color='navy',alpha=alpha)\n",
    "        else:\n",
    "            n=self.value.shape[1] #number of lines (for finite horizon)\n",
    "            alphastep = (1-0.2)/(n+1) #distance to second number equially divided\n",
    "            for i in range(n):\n",
    "                ax1.step(self.x,self.value[:,i],where='mid',color='brown',alpha=1-alphastep*i)\n",
    "                ax2.step(self.x,self.policy[:,i],where='mid',color='navy',alpha=1-alphastep*i)\n",
    "        if axes==None:\n",
    "            plt.show()\n",
    "        return ax1,ax2\n",
    "\n",
    "# illustration of broadcasting in class functions\n",
    "model=inventory_model(label='test')\n",
    "print(model)\n",
    "\n",
    "s=np.reshape(model.x,(model.n,1))\n",
    "print('Current inventory\\n',model.x)\n",
    "print('Current sales\\n',model.sales(model.x,model.fixed_demand))\n",
    "print('Current remaining inventory\\n',model.remaining(model.x,model.fixed_demand))\n",
    "print('Current orders\\n',s)\n",
    "print('Next period inventory\\n',model.next_x(model.x,model.fixed_demand,s))\n",
    "print('Current profits\\n',model.profit(model.x,model.fixed_demand,s))    \n",
    "\n",
    "s=np.zeros(model.n)\n",
    "print('Current profits with zero orders\\n',model.profit(model.x,model.fixed_demand,s))"
   ]
  },
  {
   "cell_type": "code",
   "execution_count": 285,
   "metadata": {
    "scrolled": false
   },
   "outputs": [
    {
     "name": "stdout",
     "output_type": "stream",
     "text": [
      "Time period 5\n",
      "\n",
      "[[ 0.   0.   0.   0.   0. ]\n",
      " [ 0.   0.   0.   0.   2.5]\n",
      " [ 0.   0.   0.   0.   5. ]\n",
      " [ 0.   0.   0.   0.   7.5]\n",
      " [ 0.   0.   0.   0.  10. ]\n",
      " [ 0.   0.   0.   0.   9.8]\n",
      " [ 0.   0.   0.   0.   9.6]\n",
      " [ 0.   0.   0.   0.   9.4]\n",
      " [ 0.   0.   0.   0.   9.2]\n",
      " [ 0.   0.   0.   0.   9. ]\n",
      " [ 0.   0.   0.   0.   8.8]] \n",
      "\n",
      "Time period 4\n",
      "\n",
      "[[ 0.     0.     0.     5.5    0.   ]\n",
      " [ 0.     0.     0.     8.     2.5  ]\n",
      " [ 0.     0.     0.    10.5    5.   ]\n",
      " [ 0.     0.     0.    13.     7.5  ]\n",
      " [ 0.     0.     0.    15.5   10.   ]\n",
      " [ 0.     0.     0.    15.5    9.8  ]\n",
      " [ 0.     0.     0.    15.5    9.6  ]\n",
      " [ 0.     0.     0.    16.525  9.4  ]\n",
      " [ 0.     0.     0.    18.7    9.2  ]\n",
      " [ 0.     0.     0.    18.31   9.   ]\n",
      " [ 0.     0.     0.    17.92   8.8  ]] \n",
      "\n",
      "Time period 3\n",
      "\n",
      "[[ 0.     0.    12.965  5.5    0.   ]\n",
      " [ 0.     0.    15.465  8.     2.5  ]\n",
      " [ 0.     0.    17.965 10.5    5.   ]\n",
      " [ 0.     0.    20.465 13.     7.5  ]\n",
      " [ 0.     0.    22.965 15.5   10.   ]\n",
      " [ 0.     0.    22.965 15.5    9.8  ]\n",
      " [ 0.     0.    22.965 15.5    9.6  ]\n",
      " [ 0.     0.    22.965 16.525  9.4  ]\n",
      " [ 0.     0.    23.925 18.7    9.2  ]\n",
      " [ 0.     0.    23.725 18.31   9.   ]\n",
      " [ 0.     0.    23.525 17.92   8.8  ]] \n",
      "\n",
      "Time period 2\n",
      "\n",
      "[[ 0.      17.92875 12.965    5.5      0.     ]\n",
      " [ 0.      20.42875 15.465    8.       2.5    ]\n",
      " [ 0.      22.92875 17.965   10.5      5.     ]\n",
      " [ 0.      25.42875 20.465   13.       7.5    ]\n",
      " [ 0.      27.92875 22.965   15.5     10.     ]\n",
      " [ 0.      27.92875 22.965   15.5      9.8    ]\n",
      " [ 0.      27.92875 22.965   15.5      9.6    ]\n",
      " [ 0.      28.84175 22.965   16.525    9.4    ]\n",
      " [ 0.      31.01675 23.925   18.7      9.2    ]\n",
      " [ 0.      30.81675 23.725   18.31     9.     ]\n",
      " [ 0.      30.61675 23.525   17.92     8.8    ]] \n",
      "\n",
      "Time period 1\n",
      "\n",
      "[[24.6659125 17.92875   12.965      5.5        0.       ]\n",
      " [27.1659125 20.42875   15.465      8.         2.5      ]\n",
      " [29.6659125 22.92875   17.965     10.5        5.       ]\n",
      " [32.1659125 25.42875   20.465     13.         7.5      ]\n",
      " [34.6659125 27.92875   22.965     15.5       10.       ]\n",
      " [34.6659125 27.92875   22.965     15.5        9.8      ]\n",
      " [34.6659125 27.92875   22.965     15.5        9.6      ]\n",
      " [34.6659125 28.84175   22.965     16.525      9.4      ]\n",
      " [35.7323125 31.01675   23.925     18.7        9.2      ]\n",
      " [35.5323125 30.81675   23.725     18.31       9.       ]\n",
      " [35.3323125 30.61675   23.525     17.92       8.8      ]] \n",
      "\n",
      "Optimal policy:\n",
      " [[8. 8. 8. 4. 0.]\n",
      " [8. 8. 8. 4. 0.]\n",
      " [8. 8. 8. 4. 0.]\n",
      " [8. 8. 8. 4. 0.]\n",
      " [8. 8. 8. 4. 0.]\n",
      " [7. 7. 7. 3. 0.]\n",
      " [6. 6. 6. 2. 0.]\n",
      " [5. 0. 5. 0. 0.]\n",
      " [0. 0. 0. 0. 0.]\n",
      " [0. 0. 0. 0. 0.]\n",
      " [0. 0. 0. 0. 0.]]\n"
     ]
    },
    {
     "data": {
      "image/png": "[encoded data removed]",
      "text/plain": [
       "<Figure size 1008x432 with 2 Axes>"
      ]
     },
     "metadata": {},
     "output_type": "display_data"
    },
    {
     "data": {
      "text/plain": [
       "(<matplotlib.axes._subplots.AxesSubplot at 0x12d6fae48>,\n",
       " <matplotlib.axes._subplots.AxesSubplot at 0x12d784a90>)"
      ]
     },
     "execution_count": 285,
     "metadata": {},
     "output_type": "execute_result"
    }
   ],
   "source": [
    "def bellman1(m,j=0):\n",
    "    '''Bellman equation for the problem with fixed demand\n",
    "       Inputs: model object\n",
    "               optional index of next period value function\n",
    "    '''\n",
    "    # create the grid of choices (same as x), column-vector\n",
    "    s = np.reshape(m.x,(m.n,1))\n",
    "    # compute current period profit (relying on numpy broadcasting to get matrix)\n",
    "    p = m.profit(m.x,m.fixed_demand,s)\n",
    "    # indexes for next period value with extrapolation using last value\n",
    "    i = np.minimum(m.next_x(m.x,m.fixed_demand,s),m.upper)\n",
    "    # next period value\n",
    "    if m.value.ndim==1:\n",
    "        v0=m.value # inifinite horizon case, single value function\n",
    "    elif m.value.ndim==2:\n",
    "        v0=m.value[:,j]\n",
    "    # compute the Bellman maximand\n",
    "    vm = p + m.β*v0[i]\n",
    "    # find max and argmax\n",
    "    v1 = np.amax(vm,axis=0) # maximum in every column\n",
    "    s1 = np.argmax(vm,axis=0) # index of arg-maximum in every column = order volume\n",
    "#     s1 = s1 - m.remaining(x,m.fixed_demand) np.maximum(s1 - m.x,0)\n",
    "    return v1, s1\n",
    "\n",
    "def solver_backwards_induction(m,T=10,printing=False):\n",
    "    '''Backwards induction solver for the finite horizon case'''\n",
    "    # solution is time dependent\n",
    "    m.value=np.zeros((m.n,T))\n",
    "    m.policy=np.zeros((m.n,T))\n",
    "    # main DP loop (from T to 1)\n",
    "    for t in range(T,0,-1):\n",
    "        if printing:\n",
    "            print('Time period %d\\n'%t)\n",
    "        j=t-1 # index for period t\n",
    "        if t==T:\n",
    "            # terminal period: zero order is optimal\n",
    "            m.value[:,j] = m.profit(m.x,m.fixed_demand,np.zeros(m.n))\n",
    "            m.policy[:,j] = np.zeros(m.n)\n",
    "        else:\n",
    "            # all other periods\n",
    "            m.value[:,j], m.policy[:,j] = bellman1(m,j+1) # next period to Bellman\n",
    "        if printing:\n",
    "            print(m.value,'\\n')\n",
    "    # return model with updated value and policy functions\n",
    "    return m\n",
    "\n",
    "model = inventory_model(label='illustration')\n",
    "model=solver_backwards_induction(model,T=5,printing=True)\n",
    "print('Optimal policy:\\n',model.policy)\n",
    "model.plot()"
   ]
  },
  {
   "cell_type": "code",
   "execution_count": 286,
   "metadata": {},
   "outputs": [
    {
     "data": {
      "image/png": "[encoded data removed]",
      "text/plain": [
       "<Figure size 1008x432 with 2 Axes>"
      ]
     },
     "metadata": {},
     "output_type": "display_data"
    },
    {
     "data": {
      "text/plain": [
       "(<matplotlib.axes._subplots.AxesSubplot at 0x12cd28400>,\n",
       " <matplotlib.axes._subplots.AxesSubplot at 0x12dad3080>)"
      ]
     },
     "execution_count": 286,
     "metadata": {},
     "output_type": "execute_result"
    }
   ],
   "source": [
    "# perform the task\n",
    "mod = inventory_model(label='production',max_inventory=100)\n",
    "mod.fixed_demand=25\n",
    "mod.c=15\n",
    "mod.p=2.5\n",
    "mod.r=0.2\n",
    "mod.β=0.975\n",
    "mod=solver_backwards_induction(mod,T=25)\n",
    "mod.plot()"
   ]
  },
  {
   "cell_type": "code",
   "execution_count": 287,
   "metadata": {
    "scrolled": false
   },
   "outputs": [
    {
     "data": {
      "image/png": "[encoded data removed]",
      "text/plain": [
       "<Figure size 1008x432 with 2 Axes>"
      ]
     },
     "metadata": {},
     "output_type": "display_data"
    }
   ],
   "source": [
    "# check how upper boundary affects the result\n",
    "mod = inventory_model(label='production',max_inventory=250)\n",
    "mod.fixed_demand=25\n",
    "mod.c=15\n",
    "mod.p=2.5\n",
    "mod.r=0.2\n",
    "mod.β=0.975\n",
    "mod=solver_backwards_induction(mod,T=25)\n",
    "ax=mod.plot()"
   ]
  }
 ],
 "metadata": {
  "kernelspec": {
   "display_name": "Python 3",
   "language": "python",
   "name": "python3"
  },
  "language_info": {
   "codemirror_mode": {
    "name": "ipython",
    "version": 3
   },
   "file_extension": ".py",
   "mimetype": "text/x-python",
   "name": "python",
   "nbconvert_exporter": "python",
   "pygments_lexer": "ipython3",
   "version": "3.6.5"
  }
 },
 "nbformat": 4,
 "nbformat_minor": 2
}
