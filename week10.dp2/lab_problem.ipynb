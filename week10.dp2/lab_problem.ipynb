{
 "cells": [
  {
   "cell_type": "markdown",
   "metadata": {},
   "source": [
    "#### Week 10\n",
    "#### The problem to be discussed in the lab\n",
    "## Inventory dynamics\n"
   ]
  },
  {
   "cell_type": "markdown",
   "metadata": {},
   "source": [
    "Consider the following inventory problems in discrete time $t=0,\\dots,T$, where possibly $T=\\infty$.\n",
    "\n",
    "The notation is:\n",
    "- $x(t)\\ge 0$ is inventory at period $t$\n",
    "- $d(t)\\ge 0$ is _potentially stochastic_ demand at period $t$\n",
    "- $s(t)\\ge 0$ is the order of new inventory\n",
    "- $p$ is the profit per one unit of (supplied) good\n",
    "- $c$ is the fixed cost of ordering any amount of new inventory\n",
    "- $r$ is the cost of storing one unit of good\n",
    "\n",
    "The sales in period $t$ are given by $\\min\\{x(t),d(t)\\}$. \n",
    "The next period inventory is given by $x(t+1) = \\max\\{x(t)-d(t),0\\} + s(t)$.\n",
    "\n",
    "The profit in period $t$ is given by\n",
    "\n",
    "\\begin{eqnarray}\n",
    "\\pi(t) & = & p \\cdot \\text{sales}(t) - r \\cdot x(t+1) - c \\cdot (\\text{order made in period }t) \\\\\n",
    "& = & p \\min\\{x(t),d(t)\\} - r \\big[ \\max\\{x(t)-d(t),0\\} + s(t) \\big] - c \\mathbb{1}\\{s(t)>0\\}\n",
    "\\end{eqnarray}\n",
    "\n",
    "Assuming all $ s(t) \\ge 0$, let $\\sigma =  \\{s(t)\\}_{t=1,\\dots}$ denote a feasible inventory policy.\n",
    "If $d(t)$ is stochastic the policy becomes a function of the period $t$ inventory $x(t)$.\n",
    "\n",
    "The expected profit maximizing problem is given by\n",
    "\n",
    "$$\n",
    "{\\max}_{\\sigma} \\mathbb{E}\\Big[ \\sum_{t=0}^{\\infty} \\beta^t \\pi(t) \\Big],\n",
    "$$\n",
    "\n",
    "where $\\beta$ is discount factor."
   ]
  },
  {
   "cell_type": "markdown",
   "metadata": {},
   "source": [
    "### 1. Write the Bellman equation for the problem"
   ]
  },
  {
   "cell_type": "markdown",
   "metadata": {},
   "source": [
    "### 2. Finite horizon deterministic case\n",
    "\n",
    "Let $T<\\infty$. Further, let $d=25$ be known in every period. How does the Bellman equation change?\n",
    "\n",
    "Write a backwards induction solver for the problem.\n",
    "Use the following parameters: $(c,p,r,\\beta)=(15,2.5,0.2,0.975)$."
   ]
  },
  {
   "cell_type": "code",
   "execution_count": 20,
   "metadata": {},
   "outputs": [
    {
     "name": "stdout",
     "output_type": "stream",
     "text": [
      "Inventory model with parameters:\n",
      "c=1.500 p=2.500 r=0.200 beta=0.975\n",
      "\n",
      "Current inventory\n",
      " [ 0  1  2  3  4  5  6  7  8  9 10]\n",
      "Current sales\n",
      " [0 1 2 3 4 4 4 4 4 4 4]\n",
      "Orders\n",
      " [[ 0]\n",
      " [ 1]\n",
      " [ 2]\n",
      " [ 3]\n",
      " [ 4]\n",
      " [ 5]\n",
      " [ 6]\n",
      " [ 7]\n",
      " [ 8]\n",
      " [ 9]\n",
      " [10]]\n",
      "Next period inventory\n",
      " [[ 0  0  0  0  0  1  2  3  4  5  6]\n",
      " [ 1  1  1  1  1  2  3  4  5  6  7]\n",
      " [ 2  2  2  2  2  3  4  5  6  7  8]\n",
      " [ 3  3  3  3  3  4  5  6  7  8  9]\n",
      " [ 4  4  4  4  4  5  6  7  8  9 10]\n",
      " [ 5  5  5  5  5  6  7  8  9 10 11]\n",
      " [ 6  6  6  6  6  7  8  9 10 11 12]\n",
      " [ 7  7  7  7  7  8  9 10 11 12 13]\n",
      " [ 8  8  8  8  8  9 10 11 12 13 14]\n",
      " [ 9  9  9  9  9 10 11 12 13 14 15]\n",
      " [10 10 10 10 10 11 12 13 14 15 16]]\n",
      "Current profits\n",
      " [[ 0.   2.5  5.   7.5 10.   9.8  9.6  9.4  9.2  9.   8.8]\n",
      " [-1.7  0.8  3.3  5.8  8.3  8.1  7.9  7.7  7.5  7.3  7.1]\n",
      " [-1.9  0.6  3.1  5.6  8.1  7.9  7.7  7.5  7.3  7.1  6.9]\n",
      " [-2.1  0.4  2.9  5.4  7.9  7.7  7.5  7.3  7.1  6.9  6.7]\n",
      " [-2.3  0.2  2.7  5.2  7.7  7.5  7.3  7.1  6.9  6.7  6.5]\n",
      " [-2.5  0.   2.5  5.   7.5  7.3  7.1  6.9  6.7  6.5  6.3]\n",
      " [-2.7 -0.2  2.3  4.8  7.3  7.1  6.9  6.7  6.5  6.3  6.1]\n",
      " [-2.9 -0.4  2.1  4.6  7.1  6.9  6.7  6.5  6.3  6.1  5.9]\n",
      " [-3.1 -0.6  1.9  4.4  6.9  6.7  6.5  6.3  6.1  5.9  5.7]\n",
      " [-3.3 -0.8  1.7  4.2  6.7  6.5  6.3  6.1  5.9  5.7  5.5]\n",
      " [-3.5 -1.   1.5  4.   6.5  6.3  6.1  5.9  5.7  5.5  5.3]]\n"
     ]
    }
   ],
   "source": [
    "import numpy as np\n",
    "import matplotlib.pyplot as plt\n",
    "\n",
    "class inventory_model:\n",
    "    '''Class to hold the fundamentals of the inventory model'''\n",
    "    \n",
    "    def __init__(self,max_inventory=10):\n",
    "        '''Create and initialize the parameters of the model'''\n",
    "        # parameters of the problem\n",
    "        self.c = 1.5\n",
    "        self.p = 2.5\n",
    "        self.r = 0.2\n",
    "        self.beta = 0.975\n",
    "        self.fixed_demand = 4\n",
    "        # grids and spaces\n",
    "        self.n = max_inventory +1\n",
    "        self.x = np.arange(self.n)\n",
    "        self.value = np.zeros(self.n)\n",
    "        self.policy = np.zeros(self.n)\n",
    "    \n",
    "    def __repr__(self):\n",
    "        '''String representation'''\n",
    "        return 'Inventory model with parameters:\\nc=%1.3f p=%1.3f r=%1.3f beta=%1.3f\\n' \\\n",
    "               %(self.c,self.p,self.r,self.beta)\n",
    "    \n",
    "    def sales(self,x,d):\n",
    "        '''Sales in given period'''\n",
    "        return np.minimum(x,d)\n",
    "    \n",
    "    def next_x(self,x,d,s):\n",
    "        '''Next period inventory'''\n",
    "        return np.maximum(x-d,0)+s\n",
    "        \n",
    "    def profit(self,x,d,s):\n",
    "        '''Profit in given period'''\n",
    "        return self.p*self.sales(x,d) \\\n",
    "             - self.r*self.next_x(x,d,s) \\\n",
    "             - self.c*(s>0)\n",
    "\n",
    "m = inventory_model()\n",
    "print(m)\n",
    "\n",
    "print('Current inventory\\n',m.x)\n",
    "print('Current sales\\n',m.sales(m.x,m.fixed_demand))\n",
    "s = np.arange(m.n).reshape((m.n,1))\n",
    "print('Orders\\n',s)\n",
    "print('Next period inventory\\n',m.next_x(m.x,m.fixed_demand,s))\n",
    "print('Current profits\\n',m.profit(m.x,m.fixed_demand,s))\n"
   ]
  },
  {
   "cell_type": "code",
   "execution_count": 21,
   "metadata": {},
   "outputs": [
    {
     "name": "stdout",
     "output_type": "stream",
     "text": [
      "Value function:\n",
      " [[63.18193349 57.09787755 50.28868743 43.88862858 36.72577244 29.99329766\n",
      "  22.45840625 15.37625     7.45        0.        ]\n",
      " [65.68193349 59.59787755 52.78868743 46.38862858 39.22577244 32.49329766\n",
      "  24.95840625 17.87625     9.95        2.5       ]\n",
      " [68.18193349 62.09787755 55.28868743 48.88862858 41.72577244 34.99329766\n",
      "  27.45840625 20.37625    12.45        5.        ]\n",
      " [70.68193349 64.59787755 57.78868743 51.38862858 44.22577244 37.49329766\n",
      "  29.95840625 22.87625    14.95        7.5       ]\n",
      " [73.18193349 67.09787755 60.28868743 53.88862858 46.72577244 39.99329766\n",
      "  32.45840625 25.37625    17.45       10.        ]\n",
      " [73.18193349 67.09787755 60.28868743 53.88862858 46.72577244 39.99329766\n",
      "  32.45840625 25.37625    17.45        9.8       ]\n",
      " [73.18193349 67.09787755 60.28868743 53.88862858 46.72577244 39.99329766\n",
      "  32.45840625 25.37625    17.45        9.6       ]\n",
      " [73.18193349 67.09787755 60.28868743 53.88862858 46.72577244 39.99329766\n",
      "  32.45840625 25.37625    17.45        9.4       ]\n",
      " [74.62043061 67.98147024 61.74141287 54.75762813 48.19346521 40.84694609\n",
      "  33.94184375 26.21375    18.95        9.2       ]\n",
      " [74.42043061 67.78147024 61.54141287 54.55762813 47.99346521 40.64694609\n",
      "  33.74184375 26.01375    18.555       9.        ]\n",
      " [74.22043061 67.58147024 61.34141287 54.35762813 47.79346521 40.44694609\n",
      "  33.54184375 25.81375    18.16        8.8       ]]\n",
      "Policy function:\n",
      " [[8. 8. 8. 8. 8. 8. 8. 8. 4. 0.]\n",
      " [8. 8. 8. 8. 8. 8. 8. 8. 4. 0.]\n",
      " [8. 8. 8. 8. 8. 8. 8. 8. 4. 0.]\n",
      " [8. 8. 8. 8. 8. 8. 8. 8. 4. 0.]\n",
      " [8. 8. 8. 8. 8. 8. 8. 8. 4. 0.]\n",
      " [7. 7. 7. 7. 7. 7. 7. 7. 3. 0.]\n",
      " [6. 6. 6. 6. 6. 6. 6. 6. 2. 0.]\n",
      " [5. 5. 5. 5. 5. 5. 5. 5. 1. 0.]\n",
      " [0. 0. 0. 0. 0. 0. 0. 0. 0. 0.]\n",
      " [0. 0. 0. 0. 0. 0. 0. 0. 0. 0.]\n",
      " [0. 0. 0. 0. 0. 0. 0. 0. 0. 0.]]\n"
     ]
    }
   ],
   "source": [
    "def bellman1(m,j):\n",
    "    '''Bellman operator: \n",
    "        input model, index of next period\n",
    "        output value, policy'''\n",
    "    # column vector of possible choices\n",
    "    s = np.arange(m.n).reshape((m.n,1))\n",
    "    # current profits as a matrix\n",
    "    p = m.profit(m.x,m.fixed_demand,s)\n",
    "    # next period inventory\n",
    "    xprime = m.next_x(m.x,m.fixed_demand,s)\n",
    "    i = np.minimum(xprime,m.n-1)\n",
    "    vm = p + m.beta*m.value[i,j]\n",
    "    # maximize across choices\n",
    "    v1 = np.amax(vm,axis=0) # maximum in every column\n",
    "    s1 = np.argmax(vm,axis=0) # arg-maximum in every column\n",
    "    return v1,s1\n",
    "\n",
    "def solver_finite(m, T=10):\n",
    "    '''Backwards induction solver for finite horizon case'''\n",
    "    # initialize and resize policy and value function\n",
    "    m.value = np.zeros((m.n,T))\n",
    "    m.policy = np.zeros((m.n,T))\n",
    "    # main DP loop\n",
    "    for t in range(T,0,-1):\n",
    "        j = t-1 # index for time t in value and policy arrays\n",
    "        if t==T:\n",
    "            # terminal period\n",
    "            m.policy[:,j] = np.zeros(m.n)\n",
    "            m.value[:,j] = m.profit(m.x,m.fixed_demand,np.zeros(m.n))\n",
    "        else:\n",
    "            # all other periods\n",
    "            m.value[:,j], m.policy[:,j] = bellman1(m,j+1)\n",
    "    return m\n",
    "    \n",
    "m = inventory_model()\n",
    "solver_finite(m, T=10)\n",
    "print('Value function:\\n',m.value)\n",
    "print('Policy function:\\n',m.policy)\n"
   ]
  },
  {
   "cell_type": "markdown",
   "metadata": {},
   "source": [
    "### 3. Deterministic infinite horizon case\n",
    "\n",
    "Extend the code for the solver infinite horizon ($T=\\infty$) case."
   ]
  },
  {
   "cell_type": "markdown",
   "metadata": {},
   "source": [
    "### 4. Stochastic case\n",
    "\n",
    "Now assume that $d(t)$ is stochastic and follows geometric distribution with the support \n",
    "$k \\in \\{0,1,2,\\dots\\}$  and corresponding probabilities $P(k)=(1-p)^k p$.\n",
    "Adjust the solver code to accommodate this case.\n"
   ]
  },
  {
   "cell_type": "markdown",
   "metadata": {},
   "source": [
    "### 5. Newton step\n",
    "Write a new solver that would solve the VFI fixed point problem as an equation using Newton method."
   ]
  },
  {
   "cell_type": "markdown",
   "metadata": {},
   "source": [
    "### 6. Policy iteration\n",
    "Write a new solver that would implement policy iteration algorithm"
   ]
  }
 ],
 "metadata": {
  "kernelspec": {
   "display_name": "Python 3",
   "language": "python",
   "name": "python3"
  },
  "language_info": {
   "codemirror_mode": {
    "name": "ipython",
    "version": 3
   },
   "file_extension": ".py",
   "mimetype": "text/x-python",
   "name": "python",
   "nbconvert_exporter": "python",
   "pygments_lexer": "ipython3",
   "version": "3.6.5"
  }
 },
 "nbformat": 4,
 "nbformat_minor": 2
}
