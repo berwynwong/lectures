{
 "cells": [
  {
   "cell_type": "markdown",
   "metadata": {},
   "source": [
    "#### Week 10\n",
    "#### The problem to be discussed in the lab\n",
    "## Inventory dynamics\n"
   ]
  },
  {
   "cell_type": "markdown",
   "metadata": {},
   "source": [
    "Consider the following inventory problems in discrete time $t=0,\\dots,T$, where possibly $T=\\infty$.\n",
    "\n",
    "The notation is:\n",
    "- $x(t)\\ge 0$ is inventory at period $t$\n",
    "- $d(t)\\ge 0$ is _potentially stochastic_ demand at period $t$\n",
    "- $s(t)\\ge 0$ is the order of new inventory\n",
    "- $p$ is the profit per one unit of (supplied) good\n",
    "- $c$ is the fixed cost of ordering any amount of new inventory\n",
    "- $r$ is the cost of storing one unit of good\n",
    "\n",
    "The sales in period $t$ are given by $\\min\\{x(t),d(t)\\}$. \n",
    "The next period inventory is given by $x(t+1) = \\max\\{x(t)-d(t),0\\} + s(t)$.\n",
    "\n",
    "The profit in period $t$ is given by\n",
    "\n",
    "\\begin{eqnarray}\n",
    "\\pi(t) & = & p \\cdot \\text{sales}(t) - r \\cdot x(t+1) - c \\cdot (\\text{order made in period }t) \\\\\n",
    "& = & p \\min\\{x(t),d(t)\\} - r \\big[ \\max\\{x(t)-d(t),0\\} + s(t) \\big] - c \\mathbb{1}\\{s(t)>0\\}\n",
    "\\end{eqnarray}\n",
    "\n",
    "Assuming all $ s(t) \\ge 0$, let $\\sigma =  \\{s(t)\\}_{t=1,\\dots}$ denote a feasible inventory policy.\n",
    "If $d(t)$ is stochastic the policy becomes a function of the period $t$ inventory $x(t)$.\n",
    "\n",
    "The expected profit maximizing problem is given by\n",
    "\n",
    "$$\n",
    "{\\max}_{\\sigma} \\mathbb{E}\\Big[ \\sum_{t=0}^{\\infty} \\beta^t \\pi(t) \\Big],\n",
    "$$\n",
    "\n",
    "where $\\beta$ is discount factor."
   ]
  },
  {
   "cell_type": "markdown",
   "metadata": {},
   "source": [
    "### 1. Write the Bellman equation for the problem"
   ]
  },
  {
   "cell_type": "markdown",
   "metadata": {},
   "source": [
    "### 2. Finite horizon deterministic case\n",
    "\n",
    "Let $T<\\infty$. Further, let $d=25$ be known in every period. How does the Bellman equation change?\n",
    "\n",
    "Write a backwards induction solver for the problem.\n",
    "Use the following parameters: $(c,p,r,\\beta)=(15,2.5,0.2,0.975)$."
   ]
  },
  {
   "cell_type": "markdown",
   "metadata": {},
   "source": [
    "### 3. Deterministic infinite horizon case\n",
    "\n",
    "Extend the code for the solver infinite horizon ($T=\\infty$) case."
   ]
  },
  {
   "cell_type": "markdown",
   "metadata": {},
   "source": [
    "### 4. Stochastic case\n",
    "\n",
    "Now assume that $d(t)$ is stochastic and follows geometric distribution with the support \n",
    "$k \\in \\{0,1,2,\\dots\\}$  and corresponding probabilities $P(k)=(1-p)^k p$.\n",
    "Adjust the solver code to accommodate this case.\n"
   ]
  },
  {
   "cell_type": "markdown",
   "metadata": {},
   "source": [
    "### 5. Newton step\n",
    "Write a new solver that would solve the VFI fixed point problem as an equation using Newton method."
   ]
  },
  {
   "cell_type": "markdown",
   "metadata": {},
   "source": [
    "### 6. Policy iteration\n",
    "Write a new solver that would implement policy iteration algorithm"
   ]
  }
 ],
 "metadata": {
  "kernelspec": {
   "display_name": "Python 3",
   "language": "python",
   "name": "python3"
  },
  "language_info": {
   "codemirror_mode": {
    "name": "ipython",
    "version": 3
   },
   "file_extension": ".py",
   "mimetype": "text/x-python",
   "name": "python",
   "nbconvert_exporter": "python",
   "pygments_lexer": "ipython3",
   "version": "3.6.5"
  }
 },
 "nbformat": 4,
 "nbformat_minor": 2
}
