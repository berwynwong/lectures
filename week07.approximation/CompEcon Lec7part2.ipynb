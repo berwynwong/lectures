{
 "cells": [
  {
   "cell_type": "markdown",
   "metadata": {
    "slideshow": {
     "slide_type": "fragment"
    }
   },
   "source": [
    "# Quadrature integration in Python\n",
    "ECON 3127/4414/8014 Computational methods in economics  \n",
    "Week 7\n",
    "Fedor Iskhakov  \n",
    "<img src=\"../img/lecture.png\" width=\"64px\"/>"
   ]
  },
  {
   "cell_type": "markdown",
   "metadata": {
    "slideshow": {
     "slide_type": "slide"
    }
   },
   "source": [
    "## Integration in economics\n",
    "\n",
    "- Expected (discounted) utility\n",
    "- Expected (discounted) profits\n",
    "- Bayesian posterior\n",
    "- Likelihood function with unobservables\n",
    "- Stochastic elements in (dynamic) economic models\n",
    "\n",
    "_Most integrals can not be evaluated analytically_"
   ]
  },
  {
   "cell_type": "markdown",
   "metadata": {
    "slideshow": {
     "slide_type": "slide"
    }
   },
   "source": [
    "### Newton-Cotes formulas\n",
    "\n",
    "Goal: definite integral $\\int_a^b f(x) dx$\n",
    "\n",
    "Idea: Approximate the function with low order polynomial, then integrate approximation\n",
    "    \n",
    "1. First order >> Step function approximation\n",
    "    - Constant, level at midpoint of $[a,b]$\n",
    "2. Second order >> Linear approximation\n",
    "    - Trapezoid rule\n",
    "3. Third order >> Quadratic approximation\n",
    "    - Simpson rule"
   ]
  },
  {
   "cell_type": "markdown",
   "metadata": {
    "slideshow": {
     "slide_type": "slide"
    }
   },
   "source": [
    "### Composite Newton-Cotes\n",
    "\n",
    "- Equally spaced points\n",
    "- Newton-Cotes on each sub-interval\n",
    "\n",
    "_Note that the points are placed exogenously_"
   ]
  },
  {
   "cell_type": "markdown",
   "metadata": {
    "slideshow": {
     "slide_type": "slide"
    }
   },
   "source": [
    "## Gaussian quadrature\n",
    "\n",
    "General formula\n",
    "\n",
    "$$\n",
    "\\int_a^b f(x) dx = \\sum_{i=1}^n \\omega_i f(x_i)\n",
    "$$\n",
    "\n",
    "- $x_i \\in [a,b]$ quadrature nodes \n",
    "- $\\omega_i$ quadrature weights"
   ]
  },
  {
   "cell_type": "markdown",
   "metadata": {
    "slideshow": {
     "slide_type": "slide"
    }
   },
   "source": [
    "### Quadrature accuracy\n",
    "Suppose that $\\{\\phi_k(x)\\}_{k=1,2,\\dots}$ is family of polynomials of degree $k$ _orthogonal_ with respect to the weighting function $w(x)$\n",
    "- define $q_k$ so that $\\phi_k(x)=q_k x^k + \\dots$\n",
    "- let $x_i$, $i=1,\\dots,n$ be $n$ roots of $\\phi_n(x)$\n",
    "- let $\\omega_i = - \\frac{q_{n_1}/q_n}{\\phi'_k(x_i)\\phi_{n+1}(x_i)}>0$"
   ]
  },
  {
   "cell_type": "markdown",
   "metadata": {
    "slideshow": {
     "slide_type": "slide"
    }
   },
   "source": [
    "Then\n",
    "- $a<x_1<x_2<\\dots<x_n<b$\n",
    "- for $f(x) \\in C^{(2n)}[a,b]$, for some $\\xi\\in[a,b]$\n",
    "\n",
    "$$\n",
    "\\int_a^b w(x) f(x) dx = \\sum_{i=1}^n \\omega_i f(x_i) + \\frac{f^{(2n)(\\xi)}}{q_n^2(2n)!}\n",
    "$$\n",
    " \n",
    "- the right hand side is unique on $n$ nodes\n",
    "- exact integral for all polynomial $f(x)$ of degree $2n-1$"
   ]
  },
  {
   "cell_type": "markdown",
   "metadata": {
    "slideshow": {
     "slide_type": "slide"
    }
   },
   "source": [
    "### Gauss-Chebyshev Quadrature\n",
    "- Domain $[-1,1]$\n",
    "- Weighting $(1-x^2)^{(-1/2)}$\n",
    "\n",
    "$$\n",
    "\\int_{-1}^1 \\frac{f(x)dx}{\\sqrt{1-x^2}} = \\frac{\\pi}{n}\\sum_{i=1}^{n} f(x_i) + \\frac{\\pi}{2^{2n-1}}\\frac{f^{(2n)}(\\xi)}{(2n)!}\n",
    "$$\n",
    "\n",
    "- quadrature nodes $x_i = \\cos(\\frac{2i-1}{2n}\\pi)$"
   ]
  },
  {
   "cell_type": "markdown",
   "metadata": {
    "slideshow": {
     "slide_type": "slide"
    }
   },
   "source": [
    "### Example\n",
    "\n",
    "Want to integrate $f(x)$ on $[a,b]$, no weighting function.\n",
    "1. Change of variable $y=2(x-a)/(b-a)-1$\n",
    "2. Multiply and divide by weighting function\n",
    "\n",
    "$$\n",
    "\\int_a^b f(x)dx = \\frac{b-a}{2}\\int_{-1}^{1}f\\big(\\frac{(y+1)(b-a)}{2}+a\\big)\\frac{\\big(1-y^2\\big)^{-1/2}}{\\big(1-y^2\\big)^{-1/2}}dy\n",
    "$$"
   ]
  },
  {
   "cell_type": "markdown",
   "metadata": {
    "slideshow": {
     "slide_type": "slide"
    }
   },
   "source": [
    " $$\n",
    "\\int_a^b f(x)dx = \\frac{\\pi(b-a)}{2n}\\sum_{i=1}^{n}f\\big(\\frac{(y_i+1)(b-a)}{2}+a\\big)\\big(1-y_i^2\\big)^{-1/2}\n",
    " $$\n",
    " \n",
    " where $y_i$ are Gauss-Chebyshev nodes over $[-1,1]$"
   ]
  },
  {
   "cell_type": "markdown",
   "metadata": {
    "slideshow": {
     "slide_type": "slide"
    }
   },
   "source": [
    "### Gauss-Legendre Quadrature\n",
    "- Domain $[-1,1]$\n",
    "- Weighting $1$\n",
    "\n",
    "$$\n",
    "\\int_{-1}^1 f(x)dx = \\frac{\\pi}{n}\\sum_{i=1}^{n} f(x_i) + \\frac{\\pi}{2^{2n-1}}\\frac{f^{(2n)}(\\xi)}{(2n)!}\n",
    "$$\n",
    "\n",
    "- Nodes and weights come from Legendre polynomials, values tabulated"
   ]
  },
  {
   "cell_type": "markdown",
   "metadata": {
    "slideshow": {
     "slide_type": "slide"
    }
   },
   "source": [
    "### Gauss-Hermite Quadrature\n",
    "- Domain $[-\\infty,\\infty]$\n",
    "- Weighting $\\exp(-x^2)$\n",
    "\n",
    "$$\n",
    "\\int_{-1}^1 f(x) \\exp(-x^2)dx = \\sum_{i=1}^{n} f(x_i) + \\frac{n!\\sqrt{\\pi}}{2^n}\\frac{f^{(2n)}(\\xi)}{(2n)!}\n",
    "$$\n",
    "\n",
    "- Nodes and weights come from Hermite polynomials, values tabulated\n",
    "- Good for computing expectation with Normal distribution"
   ]
  },
  {
   "cell_type": "markdown",
   "metadata": {
    "slideshow": {
     "slide_type": "slide"
    }
   },
   "source": [
    "### Gauss-Laguerre Quadrature\n",
    "- Domain $[0,\\infty]$\n",
    "- Weighting $\\exp(-x)$\n",
    "\n",
    "$$\n",
    "\\int_{-1}^1 f(x) \\exp(-x^2)dx = \\sum_{i=1}^{n} f(x_i) + (n!)^2\\frac{f^{(2n)}(\\xi)}{(2n)!}\n",
    "$$\n",
    "\n",
    "- Nodes and weights come from Laguerre polynomials, values tabulated\n",
    "- Good for computing expectation exponential discounting"
   ]
  },
  {
   "cell_type": "markdown",
   "metadata": {
    "slideshow": {
     "slide_type": "slide"
    }
   },
   "source": [
    "## Multidimensional quadrature\n",
    "Much more complication, simple methods are subject to curse of dimensionality\n",
    "\n",
    "* Generic product rule\n",
    "\n",
    "$$\n",
    "\\int_{[a,b]^d}f(x)dx=\\sum_{i_1=1}^n \\dots\\sum_{i_d=1}^n \\omega_{i_1}^1\\dots\\omega_{i_1}^d f(x_{i_1}^1,\\dots,x^d_{i_d})\n",
    "$$\n",
    "\n",
    "* Product Gaussian quadrature based on product orthogonal polynomials\n",
    "* Sparse methods\n",
    "* Monte Carlo integration"
   ]
  },
  {
   "cell_type": "markdown",
   "metadata": {
    "slideshow": {
     "slide_type": "slide"
    }
   },
   "source": [
    "## Further learning resources\n",
    "* https://docs.scipy.org/doc/scipy-0.14.0/reference/tutorial/integrate.html"
   ]
  }
 ],
 "metadata": {
  "celltoolbar": "Slideshow",
  "kernelspec": {
   "display_name": "Python 3",
   "language": "python",
   "name": "python3"
  },
  "language_info": {
   "codemirror_mode": {
    "name": "ipython",
    "version": 3
   },
   "file_extension": ".py",
   "mimetype": "text/x-python",
   "name": "python",
   "nbconvert_exporter": "python",
   "pygments_lexer": "ipython3",
   "version": "3.6.5"
  }
 },
 "nbformat": 4,
 "nbformat_minor": 2
}
