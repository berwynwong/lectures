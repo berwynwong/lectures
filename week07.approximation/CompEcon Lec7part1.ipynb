{
 "cells": [
  {
   "cell_type": "markdown",
   "metadata": {
    "slideshow": {
     "slide_type": "fragment"
    }
   },
   "source": [
    "# Function interpolation and integration in Python\n",
    "ECON 3127/4414/8014 Computational methods in economics  \n",
    "Week 7\n",
    "Fedor Iskhakov  \n",
    "<img src=\"../img/lecture.png\" width=\"64px\"/>"
   ]
  },
  {
   "cell_type": "markdown",
   "metadata": {
    "slideshow": {
     "slide_type": "slide"
    }
   },
   "source": [
    "## Plan for the lecture\n",
    "1. Spline interpolation\n",
    "2. Polynomial interpolation\n",
    "3. Quadrature integration methods\n",
    "4. Application"
   ]
  },
  {
   "cell_type": "markdown",
   "metadata": {
    "slideshow": {
     "slide_type": "slide"
    }
   },
   "source": [
    "### General objective\n",
    "\n",
    "* $f(x)$ is function of interest, hard to compute\n",
    "* Have data about $f(x)$ in $n$ points $(x_1,\\dots,x_n)$\n",
    "\n",
    "$$\n",
    "f(x_1), f(x_2), \\dots f(x_n)\n",
    "$$\n",
    "\n",
    "* Need to find the approximate value of the function $f(x)$ in arbitrary points $x$"
   ]
  },
  {
   "cell_type": "markdown",
   "metadata": {
    "slideshow": {
     "slide_type": "slide"
    }
   },
   "source": [
    "### Approaches\n",
    "\n",
    "1. Use a _similar_ function $g(x)$ to represent $f(x)$ between the data points\n",
    "    - Which simpler function?\n",
    "    - What data should be used?\n",
    "    - How to control the accuracy of the approximation?\n",
    "    \n",
    "2. Use _piece-wise_ approach (connect the dots)\n",
    "    - How exactly to connect?\n",
    "    - What are advantages and disadvantages?"
   ]
  },
  {
   "cell_type": "markdown",
   "metadata": {
    "slideshow": {
     "slide_type": "slide"
    }
   },
   "source": [
    "### Distinction between function approximation (interpolation) and curve fitting\n",
    "\n",
    "* Functions approximation and interpolation refers to the situations when __data__ on function values is matched __exactly__\n",
    "    - The approximation curve passes through the points of the data\n",
    "* Curve fitting refers to the statistical problem when the data has __noise__, the task is to find an approximation for the central tendency in the data\n",
    "    - Linear and non-linear regression models, econometrics\n",
    "    - The model is _over-identified_ (there is more data than needed to exactly identify the regression function)\n",
    "* Yet, the computational methods sometimes are _identical_ in both cases.."
   ]
  },
  {
   "attachments": {},
   "cell_type": "markdown",
   "metadata": {
    "slideshow": {
     "slide_type": "slide"
    }
   },
   "source": [
    "<img src=\"img/curvefit3.gif\" width=\"800px\">\n"
   ]
  },
  {
   "cell_type": "markdown",
   "metadata": {
    "slideshow": {
     "slide_type": "slide"
    }
   },
   "source": [
    "## Spline interpolation\n",
    "\n",
    "Spline = curve composed of independent pieces\n",
    "\n",
    "**Definition** A function $s(x)$ on $[a,b]$ is a spline of order $n$ iff\n",
    "- $s$ is $C^{n-2}$ on $[a,b]$,\n",
    "- There are $a=x_0<x_1<\\dots<x_m=b$ such that $s(x)$ is a polynomial of degree $n-1$ on each subinterval $[x_i,x_{i+1}]$, $i=0,\\dots,m-1$\n",
    "\n",
    "- A function with $n$ continuous derivatives is $C^{n}$\n",
    "- Linear interpolation is spline of order 2."
   ]
  },
  {
   "cell_type": "markdown",
   "metadata": {
    "slideshow": {
     "slide_type": "slide"
    }
   },
   "source": [
    "### Cubic splines = spline of order 4\n",
    "- Data set $\\{(x_i,f(x_i), i=0,\\dots,n\\}$\n",
    "- Functional form $s(x) = a_i + b_i x + c_i x^2 + d_i x^3$ on $[x_{i-1},x_i]$ for $i=1,\\dots,n$\n",
    "- $4n$ unknown coefficients\n",
    "- $n\\big[$interpolation, continuity equations$\\big]$ + $2n-2$ equations for $C^2$\n",
    "    * $s(x)$ passes through all data points\n",
    "    * $s(x)$ is continuous\n",
    "    * Derivative conditions in points $x_1,\\dots,x_{n-1}$\n",
    "- Additional 2 equation for the $x_0$ and $x_n$\n",
    "    * $s''(x_0)=s''(x_n)=0$ (natural spline)\n",
    "    * $s'(x_0)=\\frac{s(x_1)-s(x_0)}{x_1-x_0}$, $s'(x_n)=\\frac{s(x_n)-s(x_{n-1})}{x_n-x_{n-1}}$ (secant-Hermite)"
   ]
  },
  {
   "cell_type": "code",
   "execution_count": null,
   "metadata": {
    "slideshow": {
     "slide_type": "slide"
    }
   },
   "outputs": [],
   "source": [
    "import numpy as np\n",
    "import matplotlib.pyplot as plt\n",
    "from scipy import interpolate\n",
    "%matplotlib inline\n",
    "\n",
    "np.random.seed(2008)\n",
    "xd=np.linspace(0,10,1000)\n",
    "x=np.sort(np.random.uniform(0,10,12))\n",
    "\n",
    "f=lambda x: np.exp(-x/4)*np.sin(x)\n",
    "\n",
    "def plot1(f,fi,x,xd,color='k',label=''):\n",
    "    plt.figure(num=1, figsize=(10,8))\n",
    "    plt.scatter(x,f(x),color='r',label='data')\n",
    "    plt.plot(xd,f(xd),color='grey',label='true')\n",
    "    xdi=xd[np.logical_and(xd>=x[0],xd<=x[-1])]\n",
    "    plt.plot(xdi,fi(xdi),color=color,label=label)\n",
    "    plt.show"
   ]
  },
  {
   "cell_type": "code",
   "execution_count": null,
   "metadata": {
    "slideshow": {
     "slide_type": "slide"
    }
   },
   "outputs": [],
   "source": [
    "plot1(f,f,x,xd)"
   ]
  },
  {
   "cell_type": "code",
   "execution_count": null,
   "metadata": {
    "scrolled": false,
    "slideshow": {
     "slide_type": "slide"
    }
   },
   "outputs": [],
   "source": [
    "fi = interpolate.interp1d(x,f(x))\n",
    "plot1(f,fi,x,xd)"
   ]
  },
  {
   "cell_type": "code",
   "execution_count": null,
   "metadata": {
    "slideshow": {
     "slide_type": "slide"
    }
   },
   "outputs": [],
   "source": [
    "help(interpolate.interp1d)"
   ]
  },
  {
   "cell_type": "code",
   "execution_count": null,
   "metadata": {
    "slideshow": {
     "slide_type": "slide"
    }
   },
   "outputs": [],
   "source": [
    "fi = interpolate.interp1d(x,f(x),kind='linear')\n",
    "plot1(f,fi,x,xd)"
   ]
  },
  {
   "cell_type": "code",
   "execution_count": null,
   "metadata": {},
   "outputs": [],
   "source": [
    "fi = interpolate.interp1d(x,f(x),kind='previous')\n",
    "plot1(f,fi,x,xd,color='b')"
   ]
  },
  {
   "cell_type": "code",
   "execution_count": null,
   "metadata": {
    "scrolled": false
   },
   "outputs": [],
   "source": [
    "fi = interpolate.interp1d(x,f(x),kind='next')\n",
    "plot1(f,fi,x,xd,color='g')"
   ]
  },
  {
   "cell_type": "code",
   "execution_count": null,
   "metadata": {
    "slideshow": {
     "slide_type": "slide"
    }
   },
   "outputs": [],
   "source": [
    "fi = interpolate.interp1d(x,f(x),kind='nearest')\n",
    "plot1(f,fi,x,xd,color='r')"
   ]
  },
  {
   "cell_type": "code",
   "execution_count": null,
   "metadata": {
    "slideshow": {
     "slide_type": "slide"
    }
   },
   "outputs": [],
   "source": [
    "for knd, clr in ('slinear','m'),('quadratic','b'),('cubic','g'):\n",
    "    fi = interpolate.interp1d(x,f(x),kind=knd)\n",
    "    plot1(f,fi,x,xd,color=clr,label=knd)"
   ]
  },
  {
   "cell_type": "code",
   "execution_count": null,
   "metadata": {
    "slideshow": {
     "slide_type": "slide"
    }
   },
   "outputs": [],
   "source": [
    "# Approximation errors\n",
    "fig, ax = plt.subplots(figsize=(10,8))\n",
    "ax.axhline(y=0, color='k',linewidth=1) \n",
    "ax.set_yscale('log')\n",
    "for knd, clr in ('slinear','m'),('quadratic','b'),('cubic','g'):\n",
    "    fi = interpolate.interp1d(x,f(x),kind=knd,bounds_error=False)\n",
    "    erd=np.abs(f(xd)-fi(xd))\n",
    "    plt.plot(xd,erd,color=clr)\n",
    "    print('Max error with  %s splines is %1.5e'%(knd,np.nanmax(erd)))\n",
    "# How to reduce approximation errors?"
   ]
  },
  {
   "cell_type": "code",
   "execution_count": null,
   "metadata": {
    "slideshow": {
     "slide_type": "slide"
    }
   },
   "outputs": [],
   "source": [
    "x=np.sort(np.random.uniform(0,10,25))\n",
    "x=np.sort(np.random.uniform(0,10,11))"
   ]
  },
  {
   "cell_type": "markdown",
   "metadata": {
    "slideshow": {
     "slide_type": "slide"
    }
   },
   "source": [
    "### Accuracy of the interpolation\n",
    "- Number of nodes\n",
    "- Location of nodes\n",
    "    - What is important?\n",
    "- When are some splines better than the other?    "
   ]
  },
  {
   "cell_type": "markdown",
   "metadata": {
    "slideshow": {
     "slide_type": "skip"
    }
   },
   "source": [
    "### Example: two period consumption model\n",
    "\n",
    "Consider the \n",
    "\n",
    "\n",
    "$$\n",
    "max_{0\\le c \\le W} \\big[u(c_1) + u(c_2)\\big], \\text{ s.t.} \n",
    "$$\n",
    "\n",
    "$$\n",
    "c_2 = (W-c_1)(1+r),\\text{ where}\n",
    "$$\n",
    "\n",
    "$$\n",
    "u(c)=\\frac{c^\\lambda + 1}{\\lambda}\n",
    "$$\n",
    "\n",
    "\n",
    "\n"
   ]
  },
  {
   "cell_type": "markdown",
   "metadata": {
    "slideshow": {
     "slide_type": "slide"
    }
   },
   "source": [
    "## Polynomial approximation/interpolation\n",
    "\n",
    "Back to the beginning to explore the idea of replacing original $f(x)$ with simpler $g(x)$\n",
    "- Data set $\\{(x_i,f(x_i)\\}, i=0,\\dots,n$\n",
    "- Functional form is polynomial of degree $n-1$ such that $g(x_i)=f(x_i)$\n",
    "- If $x_i$ are distinct, coefficients of the polynomial are uniquely identified\n",
    "\n",
    "Does polynomial $g(x)$ converge to $f(x)$ when there are more points?"
   ]
  },
  {
   "cell_type": "code",
   "execution_count": null,
   "metadata": {
    "scrolled": false,
    "slideshow": {
     "slide_type": "slide"
    }
   },
   "outputs": [],
   "source": [
    "from numpy.polynomial import polynomial\n",
    "\n",
    "p=polynomial.polyfit(x,f(x),len(x)-1)\n",
    "fi=lambda x: polynomial.polyval(x,p)\n",
    "plot1(f,fi,x,xd)"
   ]
  },
  {
   "cell_type": "code",
   "execution_count": null,
   "metadata": {
    "slideshow": {
     "slide_type": "slide"
    }
   },
   "outputs": [],
   "source": [
    "f2=lambda x: 1/(x**2+1)\n",
    "xd2=np.linspace(-10,10,1000)\n",
    "n=3\n",
    "for clr in 'b','g','c','m','y':\n",
    "#     np.random.seed(2008)\n",
    "#     x=np.sort(np.random.uniform(-10,10,n))\n",
    "    x=np.linspace(-10,10,n)\n",
    "    p=polynomial.polyfit(x,f2(x),len(x)-1)\n",
    "    fi=lambda x: polynomial.polyval(x,p)\n",
    "    plot1(f2,fi,x,xd2,color=clr)\n",
    "    n+=1"
   ]
  },
  {
   "cell_type": "code",
   "execution_count": null,
   "metadata": {
    "slideshow": {
     "slide_type": "slide"
    }
   },
   "outputs": [],
   "source": [
    "n=5\n",
    "for clr in 'b','g','c','m','y':\n",
    "    np.random.seed(2008)\n",
    "    x=np.sort(np.random.uniform(0,10,n))\n",
    "    p=polynomial.polyfit(x,f(x),len(x)-1)\n",
    "    fi=lambda x: polynomial.polyval(x,p)\n",
    "    plot1(f,fi,x,xd,color=clr)\n",
    "    n+=1"
   ]
  },
  {
   "cell_type": "markdown",
   "metadata": {
    "slideshow": {
     "slide_type": "slide"
    }
   },
   "source": [
    "### Hermite polynomial approximation\n",
    "- Data set $\\{(x_i,f(x_i),f'(x_i)\\}, i=0,\\dots,n$ **(data on derivatives**)\n",
    "- Functional form is polynomial of degree $2n-1$ such that $g(x_i)=f(x_i)$ and $g'(x_i)=f'(x_i)$\n",
    "- If $x_i$ are distinct, coefficients of the polynomial are uniquely identified\n"
   ]
  },
  {
   "cell_type": "markdown",
   "metadata": {
    "slideshow": {
     "slide_type": "slide"
    }
   },
   "source": [
    "### Least squares approximation\n",
    "- Data set $\\{(x_i,f(x_i)\\}, i=0,\\dots,n$\n",
    "- **Any** functional form $g(x)$ from class $G$ that best approximates $f(x)$\n",
    "\n",
    "$$\n",
    "g = \\arg\\min_{g \\in G} \\lVert f-g \\rVert ^2\n",
    "$$\n"
   ]
  },
  {
   "cell_type": "markdown",
   "metadata": {
    "slideshow": {
     "slide_type": "slide"
    }
   },
   "source": [
    "## Orthogonal  polynomial approximation/interpolation\n",
    "\n",
    "- Polynomials over domain $D$\n",
    "- Weighting function $w(x)>0$\n",
    "- Inner product $\\langle f,g \\rangle = \\int_D f(x)g(x)w(x)dx$\n",
    "\n",
    "$\\{\\phi_i\\}$ is a family of orthogonal polynomials w.r.t. $w(x)$ iff\n",
    "\n",
    "$$\n",
    "$\\langle \\phi_i,\\phi_j \\rangle = 0, i\\ne j\n",
    "$$"
   ]
  },
  {
   "cell_type": "markdown",
   "metadata": {
    "slideshow": {
     "slide_type": "slide"
    }
   },
   "source": [
    "### Chebyshev polynomials\n",
    "\n",
    "- $[a,b] = [-1,1]$ and $w(x)=(1-x^2)^{(-1/2)}$\n",
    "- $T_n(x)=\\cos\\big(n\\cos^{-1}(x)\\big)$\n",
    "- Recursive formulas: $T_0(x)=1$, $T_1(x)=x$, $T_{n+1}(x)=2x T_n(x) - T_{n-1}(x)$"
   ]
  },
  {
   "cell_type": "markdown",
   "metadata": {
    "slideshow": {
     "slide_type": "slide"
    }
   },
   "source": [
    "<img src=\"img/ChebyshevT_802.gif\" width=\"800px\">"
   ]
  },
  {
   "cell_type": "markdown",
   "metadata": {
    "slideshow": {
     "slide_type": "slide"
    }
   },
   "source": [
    "### General interval\n",
    "- Not hard to adapt the polynomials for the general interval $[a,b]$ through linear change of variable\n",
    "\n",
    "$$\n",
    "y = 2\\frac{x-a}{b-a}-1\n",
    "$$\n",
    "\n",
    "- Orthogonality holds with weights function with the same change of variable"
   ]
  },
  {
   "cell_type": "markdown",
   "metadata": {
    "slideshow": {
     "slide_type": "slide"
    }
   },
   "source": [
    "### Accuracy of Chebyshev approximation\n",
    "Suppose $f: [-1,1]\\rightarrow R$ is $C^k$ function for some $k\\ge 1$, and let $I_n$ be the degree $n$ polynomial interpolation of $f$ with nodes at zeros of $T_{n+1}(x)$. Then\n",
    "\n",
    "$$\n",
    "\\lVert f - I_n \\rVert_{\\infty} \\le \\left( \\frac{2}{\\pi} \\log(n+1) +1 \\right) \\frac{(n-k)!}{n!}\\left(\\frac{\\pi}{2}\\right)^k \\lVert f^{(k)}\\rVert_{\\infty}\n",
    "$$\n",
    "\n",
    "- Chebyshev approximation will work for $C^1$ smooth functions\n",
    "- easy to compute\n",
    "- but _does not_ approximate $f'(x)$ well\n"
   ]
  },
  {
   "cell_type": "markdown",
   "metadata": {
    "slideshow": {
     "slide_type": "slide"
    }
   },
   "source": [
    "### Chebyshev approximation algorithm\n",
    "\n",
    "1. Given $f(x)$ and $[a,b]$\n",
    "2. Compute Chebyshev interpolation nodes on $[-1,1]$\n",
    "3. Adjust nodes to $[a,b]$ by change of variable, $x_i$\n",
    "4. Evaluate $f$ at the nodes, $f(x_i)$\n",
    "5. Compute Chebyshev coefficients $a_i = g\\big(f(x_i)\\big)$\n",
    "6. Arrive at approximation\n",
    "\n",
    "$$\n",
    "f(x) = \\sum_{i=0}^n a_i T_i(x)\n",
    "$$"
   ]
  },
  {
   "cell_type": "code",
   "execution_count": null,
   "metadata": {
    "slideshow": {
     "slide_type": "slide"
    }
   },
   "outputs": [],
   "source": [
    "import numpy.polynomial.chebyshev as cheb\n",
    "n=5\n",
    "for clr in 'b','g','c','m','y':\n",
    "    fi=cheb.Chebyshev.interpolate(f,n,[0,10])\n",
    "    plot1(f,fi,x,xd,color=clr)\n",
    "    n+=1"
   ]
  },
  {
   "attachments": {},
   "cell_type": "markdown",
   "metadata": {
    "slideshow": {
     "slide_type": "slide"
    }
   },
   "source": [
    "## Adaptive grid methods\n",
    "\n",
    "![surplus_slow.gif](img/surplus_slow.gif)\n"
   ]
  },
  {
   "cell_type": "markdown",
   "metadata": {
    "slideshow": {
     "slide_type": "slide"
    }
   },
   "source": [
    "## Extrapolation\n",
    "\n",
    "Extrapolation is computing the approximated function outside of the original data interval\n",
    "\n",
    "__Should be avoided in general__\n",
    "\n",
    "* Exact _only_ when theoretical properties of the extrapolated function are known\n",
    "    - Examples?\n",
    "* Can be used with extreme caution for _preliminary_ results\n",
    "    - What can be wrong with it?"
   ]
  },
  {
   "cell_type": "markdown",
   "metadata": {
    "slideshow": {
     "slide_type": "slide"
    }
   },
   "source": [
    "## Shape issues\n",
    "\n",
    "Approximated function may not have the theoretical properties of the original function \n",
    "\n",
    "- Shape issues\n",
    "    - When more pronounces?\n",
    "    - Remedy?\n",
    "- Contraction properties\n",
    "- Etc.\n",
    "\n",
    "Schumaker formulas for shaper preserved spline interpolation"
   ]
  },
  {
   "cell_type": "markdown",
   "metadata": {
    "slideshow": {
     "slide_type": "slide"
    }
   },
   "source": [
    "## Choosing the right interpolation method\n",
    "1. Linear interpolation\n",
    "2. Quadratic and cubic splines\n",
    "3. Polynomial interpolation\n",
    "4. Shape-preserving methods\n",
    "---\n",
    "- Polynomial functions\n",
    "- Functions with kinks\n",
    "- Functions with discontinuities\n",
    "- Expensive to compute functions\n",
    "- Monotone functions\n",
    "- Functions with unknown theoretical properties"
   ]
  },
  {
   "cell_type": "markdown",
   "metadata": {
    "slideshow": {
     "slide_type": "slide"
    }
   },
   "source": [
    "## Multidimensional interpolation\n",
    "\n",
    "**Generally much harder!**\n"
   ]
  },
  {
   "cell_type": "markdown",
   "metadata": {
    "slideshow": {
     "slide_type": "slide"
    }
   },
   "source": [
    "### Nested linear (Multi-linear) interpolation\n",
    "Interpolated linearly in first dimension, then between the interpolated points in the second dimension, and so on.\n",
    "- _Problem:_ overall interpolation not linear any more!\n",
    "- But easy to implement due to recursive structure"
   ]
  },
  {
   "cell_type": "markdown",
   "metadata": {
    "slideshow": {
     "slide_type": "slide"
    }
   },
   "source": [
    "### Triangulation\n",
    "\n",
    "- Regular grid triangulation\n",
    "- Delaunay (irregular grid) triangulation"
   ]
  },
  {
   "cell_type": "markdown",
   "metadata": {
    "slideshow": {
     "slide_type": "slide"
    }
   },
   "source": [
    "![surplus_slow.gif](img/Delaunay_circumcircles.png)"
   ]
  },
  {
   "cell_type": "markdown",
   "metadata": {
    "slideshow": {
     "slide_type": "slide"
    }
   },
   "source": [
    "![surplus_slow.gif](img/Delaunay_triangulation_small.png)"
   ]
  },
  {
   "cell_type": "markdown",
   "metadata": {
    "slideshow": {
     "slide_type": "slide"
    }
   },
   "source": [
    "![surplus_slow.gif](img/Delaunay_Triangulation.png)"
   ]
  },
  {
   "cell_type": "markdown",
   "metadata": {
    "slideshow": {
     "slide_type": "slide"
    }
   },
   "source": [
    "### Sparse methods\n",
    "- Smolyak grid\n",
    "- Adaptive sparse grid\n",
    "\n",
    "![adaptive_grid_slow.gif](img/adaptive_grid_slow.gif)\n"
   ]
  },
  {
   "cell_type": "markdown",
   "metadata": {
    "slideshow": {
     "slide_type": "slide"
    }
   },
   "source": [
    "## Further learning resources\n",
    "* https://docs.scipy.org/doc/scipy/reference/tutorial/interpolate.html\n",
    "* https://docs.scipy.org/doc/numpy/reference/generated/numpy.interp.html\n",
    "* Using Adaptive Sparse Grids to Solve High‐Dimensional Dynamic Models https://onlinelibrary.wiley.com/doi/abs/10.3982/ECTA12216"
   ]
  }
 ],
 "metadata": {
  "celltoolbar": "Slideshow",
  "kernelspec": {
   "display_name": "Python 3",
   "language": "python",
   "name": "python3"
  },
  "language_info": {
   "codemirror_mode": {
    "name": "ipython",
    "version": 3
   },
   "file_extension": ".py",
   "mimetype": "text/x-python",
   "name": "python",
   "nbconvert_exporter": "python",
   "pygments_lexer": "ipython3",
   "version": "3.6.5"
  }
 },
 "nbformat": 4,
 "nbformat_minor": 2
}
